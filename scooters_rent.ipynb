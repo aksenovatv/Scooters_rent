{
 "cells": [
  {
   "cell_type": "markdown",
   "id": "65e1f326",
   "metadata": {},
   "source": [
    "# Исследование данных об аренде самокатов"
   ]
  },
  {
   "cell_type": "markdown",
   "id": "c42cbe00",
   "metadata": {},
   "source": [
    "#### Шаг 1. Загрузка данных"
   ]
  },
  {
   "cell_type": "markdown",
   "id": "f2d65479",
   "metadata": {},
   "source": [
    "**Создадим новые функции для работы**"
   ]
  },
  {
   "cell_type": "code",
   "execution_count": 1,
   "id": "ecfaf67f",
   "metadata": {},
   "outputs": [],
   "source": [
    "# функция вывода информации о датасете\n",
    "def dataset_info(dataset):\n",
    "    print(dataset.info())\n",
    "    print(dataset.describe())\n",
    "    display(dataset.head())"
   ]
  },
  {
   "cell_type": "markdown",
   "id": "9e19c683",
   "metadata": {},
   "source": [
    "##### Начнем работу с датасетами"
   ]
  },
  {
   "cell_type": "code",
   "execution_count": 2,
   "id": "eff9f206",
   "metadata": {},
   "outputs": [],
   "source": [
    "import pandas as pd\n",
    "import matplotlib\n",
    "import matplotlib.pyplot as plt\n",
    "import numpy as np\n",
    "from scipy import stats as st\n",
    "from scipy.stats import binom, poisson, norm\n",
    "from math import sqrt, factorial"
   ]
  },
  {
   "cell_type": "code",
   "execution_count": 3,
   "id": "187deb9e",
   "metadata": {},
   "outputs": [],
   "source": [
    "pd.set_option('display.max_columns', None) #установим опцию по выводу всех колонок датафрейма\n",
    "\n",
    "#укажем формат отображения больших чисел,\n",
    "pd.set_option('display.float_format', '{:.2f}'.format) #чтобы не применялась экспоненциальная запись в таблицах"
   ]
  },
  {
   "cell_type": "code",
   "execution_count": 4,
   "id": "1fcc7817",
   "metadata": {},
   "outputs": [],
   "source": [
    "users = pd.read_csv('./users_go.csv')\n",
    "rides = pd.read_csv('./rides_go.csv')\n",
    "subscriptions = pd.read_csv('./subscriptions_go.csv')"
   ]
  },
  {
   "cell_type": "markdown",
   "id": "1dd7e484",
   "metadata": {},
   "source": [
    "##### Изучим общую информацию о каждом датафрейме"
   ]
  },
  {
   "cell_type": "code",
   "execution_count": 5,
   "id": "c888d069",
   "metadata": {},
   "outputs": [
    {
     "name": "stdout",
     "output_type": "stream",
     "text": [
      "<class 'pandas.core.frame.DataFrame'>\n",
      "RangeIndex: 1565 entries, 0 to 1564\n",
      "Data columns (total 5 columns):\n",
      " #   Column             Non-Null Count  Dtype \n",
      "---  ------             --------------  ----- \n",
      " 0   user_id            1565 non-null   int64 \n",
      " 1   name               1565 non-null   object\n",
      " 2   age                1565 non-null   int64 \n",
      " 3   city               1565 non-null   object\n",
      " 4   subscription_type  1565 non-null   object\n",
      "dtypes: int64(2), object(3)\n",
      "memory usage: 61.3+ KB\n",
      "None\n",
      "       user_id     age\n",
      "count  1565.00 1565.00\n",
      "mean    762.63   24.92\n",
      "std     443.26    4.55\n",
      "min       1.00   12.00\n",
      "25%     378.00   22.00\n",
      "50%     762.00   25.00\n",
      "75%    1146.00   28.00\n",
      "max    1534.00   43.00\n"
     ]
    },
    {
     "data": {
      "text/html": [
       "<div>\n",
       "<style scoped>\n",
       "    .dataframe tbody tr th:only-of-type {\n",
       "        vertical-align: middle;\n",
       "    }\n",
       "\n",
       "    .dataframe tbody tr th {\n",
       "        vertical-align: top;\n",
       "    }\n",
       "\n",
       "    .dataframe thead th {\n",
       "        text-align: right;\n",
       "    }\n",
       "</style>\n",
       "<table border=\"1\" class=\"dataframe\">\n",
       "  <thead>\n",
       "    <tr style=\"text-align: right;\">\n",
       "      <th></th>\n",
       "      <th>user_id</th>\n",
       "      <th>name</th>\n",
       "      <th>age</th>\n",
       "      <th>city</th>\n",
       "      <th>subscription_type</th>\n",
       "    </tr>\n",
       "  </thead>\n",
       "  <tbody>\n",
       "    <tr>\n",
       "      <th>0</th>\n",
       "      <td>1</td>\n",
       "      <td>Кира</td>\n",
       "      <td>22</td>\n",
       "      <td>Тюмень</td>\n",
       "      <td>ultra</td>\n",
       "    </tr>\n",
       "    <tr>\n",
       "      <th>1</th>\n",
       "      <td>2</td>\n",
       "      <td>Станислав</td>\n",
       "      <td>31</td>\n",
       "      <td>Омск</td>\n",
       "      <td>ultra</td>\n",
       "    </tr>\n",
       "    <tr>\n",
       "      <th>2</th>\n",
       "      <td>3</td>\n",
       "      <td>Алексей</td>\n",
       "      <td>20</td>\n",
       "      <td>Москва</td>\n",
       "      <td>ultra</td>\n",
       "    </tr>\n",
       "    <tr>\n",
       "      <th>3</th>\n",
       "      <td>4</td>\n",
       "      <td>Константин</td>\n",
       "      <td>26</td>\n",
       "      <td>Ростов-на-Дону</td>\n",
       "      <td>ultra</td>\n",
       "    </tr>\n",
       "    <tr>\n",
       "      <th>4</th>\n",
       "      <td>5</td>\n",
       "      <td>Адель</td>\n",
       "      <td>28</td>\n",
       "      <td>Омск</td>\n",
       "      <td>ultra</td>\n",
       "    </tr>\n",
       "  </tbody>\n",
       "</table>\n",
       "</div>"
      ],
      "text/plain": [
       "   user_id        name  age            city subscription_type\n",
       "0        1        Кира   22          Тюмень             ultra\n",
       "1        2   Станислав   31            Омск             ultra\n",
       "2        3     Алексей   20          Москва             ultra\n",
       "3        4  Константин   26  Ростов-на-Дону             ultra\n",
       "4        5       Адель   28            Омск             ultra"
      ]
     },
     "metadata": {},
     "output_type": "display_data"
    }
   ],
   "source": [
    "dataset_info(users)"
   ]
  },
  {
   "cell_type": "code",
   "execution_count": 6,
   "id": "33981e67",
   "metadata": {},
   "outputs": [
    {
     "name": "stdout",
     "output_type": "stream",
     "text": [
      "<class 'pandas.core.frame.DataFrame'>\n",
      "RangeIndex: 18068 entries, 0 to 18067\n",
      "Data columns (total 4 columns):\n",
      " #   Column    Non-Null Count  Dtype  \n",
      "---  ------    --------------  -----  \n",
      " 0   user_id   18068 non-null  int64  \n",
      " 1   distance  18068 non-null  float64\n",
      " 2   duration  18068 non-null  float64\n",
      " 3   date      18068 non-null  object \n",
      "dtypes: float64(2), int64(1), object(1)\n",
      "memory usage: 564.8+ KB\n",
      "None\n",
      "       user_id  distance  duration\n",
      "count 18068.00  18068.00  18068.00\n",
      "mean    842.87   3070.66     17.81\n",
      "std     434.73   1116.83      6.09\n",
      "min       1.00      0.86      0.50\n",
      "25%     487.00   2543.23     13.60\n",
      "50%     889.00   3133.61     17.68\n",
      "75%    1213.25   3776.22     21.72\n",
      "max    1534.00   7211.01     40.82\n"
     ]
    },
    {
     "data": {
      "text/html": [
       "<div>\n",
       "<style scoped>\n",
       "    .dataframe tbody tr th:only-of-type {\n",
       "        vertical-align: middle;\n",
       "    }\n",
       "\n",
       "    .dataframe tbody tr th {\n",
       "        vertical-align: top;\n",
       "    }\n",
       "\n",
       "    .dataframe thead th {\n",
       "        text-align: right;\n",
       "    }\n",
       "</style>\n",
       "<table border=\"1\" class=\"dataframe\">\n",
       "  <thead>\n",
       "    <tr style=\"text-align: right;\">\n",
       "      <th></th>\n",
       "      <th>user_id</th>\n",
       "      <th>distance</th>\n",
       "      <th>duration</th>\n",
       "      <th>date</th>\n",
       "    </tr>\n",
       "  </thead>\n",
       "  <tbody>\n",
       "    <tr>\n",
       "      <th>0</th>\n",
       "      <td>1</td>\n",
       "      <td>4409.92</td>\n",
       "      <td>25.60</td>\n",
       "      <td>2021-01-01</td>\n",
       "    </tr>\n",
       "    <tr>\n",
       "      <th>1</th>\n",
       "      <td>1</td>\n",
       "      <td>2617.59</td>\n",
       "      <td>15.82</td>\n",
       "      <td>2021-01-18</td>\n",
       "    </tr>\n",
       "    <tr>\n",
       "      <th>2</th>\n",
       "      <td>1</td>\n",
       "      <td>754.16</td>\n",
       "      <td>6.23</td>\n",
       "      <td>2021-04-20</td>\n",
       "    </tr>\n",
       "    <tr>\n",
       "      <th>3</th>\n",
       "      <td>1</td>\n",
       "      <td>2694.78</td>\n",
       "      <td>18.51</td>\n",
       "      <td>2021-08-11</td>\n",
       "    </tr>\n",
       "    <tr>\n",
       "      <th>4</th>\n",
       "      <td>1</td>\n",
       "      <td>4028.69</td>\n",
       "      <td>26.27</td>\n",
       "      <td>2021-08-28</td>\n",
       "    </tr>\n",
       "  </tbody>\n",
       "</table>\n",
       "</div>"
      ],
      "text/plain": [
       "   user_id  distance  duration        date\n",
       "0        1   4409.92     25.60  2021-01-01\n",
       "1        1   2617.59     15.82  2021-01-18\n",
       "2        1    754.16      6.23  2021-04-20\n",
       "3        1   2694.78     18.51  2021-08-11\n",
       "4        1   4028.69     26.27  2021-08-28"
      ]
     },
     "metadata": {},
     "output_type": "display_data"
    }
   ],
   "source": [
    "dataset_info(rides)"
   ]
  },
  {
   "cell_type": "code",
   "execution_count": 7,
   "id": "f1ee957e",
   "metadata": {},
   "outputs": [
    {
     "name": "stdout",
     "output_type": "stream",
     "text": [
      "<class 'pandas.core.frame.DataFrame'>\n",
      "RangeIndex: 2 entries, 0 to 1\n",
      "Data columns (total 4 columns):\n",
      " #   Column             Non-Null Count  Dtype \n",
      "---  ------             --------------  ----- \n",
      " 0   subscription_type  2 non-null      object\n",
      " 1   minute_price       2 non-null      int64 \n",
      " 2   start_ride_price   2 non-null      int64 \n",
      " 3   subscription_fee   2 non-null      int64 \n",
      "dtypes: int64(3), object(1)\n",
      "memory usage: 192.0+ bytes\n",
      "None\n",
      "       minute_price  start_ride_price  subscription_fee\n",
      "count          2.00              2.00              2.00\n",
      "mean           7.00             25.00             99.50\n",
      "std            1.41             35.36            140.71\n",
      "min            6.00              0.00              0.00\n",
      "25%            6.50             12.50             49.75\n",
      "50%            7.00             25.00             99.50\n",
      "75%            7.50             37.50            149.25\n",
      "max            8.00             50.00            199.00\n"
     ]
    },
    {
     "data": {
      "text/html": [
       "<div>\n",
       "<style scoped>\n",
       "    .dataframe tbody tr th:only-of-type {\n",
       "        vertical-align: middle;\n",
       "    }\n",
       "\n",
       "    .dataframe tbody tr th {\n",
       "        vertical-align: top;\n",
       "    }\n",
       "\n",
       "    .dataframe thead th {\n",
       "        text-align: right;\n",
       "    }\n",
       "</style>\n",
       "<table border=\"1\" class=\"dataframe\">\n",
       "  <thead>\n",
       "    <tr style=\"text-align: right;\">\n",
       "      <th></th>\n",
       "      <th>subscription_type</th>\n",
       "      <th>minute_price</th>\n",
       "      <th>start_ride_price</th>\n",
       "      <th>subscription_fee</th>\n",
       "    </tr>\n",
       "  </thead>\n",
       "  <tbody>\n",
       "    <tr>\n",
       "      <th>0</th>\n",
       "      <td>free</td>\n",
       "      <td>8</td>\n",
       "      <td>50</td>\n",
       "      <td>0</td>\n",
       "    </tr>\n",
       "    <tr>\n",
       "      <th>1</th>\n",
       "      <td>ultra</td>\n",
       "      <td>6</td>\n",
       "      <td>0</td>\n",
       "      <td>199</td>\n",
       "    </tr>\n",
       "  </tbody>\n",
       "</table>\n",
       "</div>"
      ],
      "text/plain": [
       "  subscription_type  minute_price  start_ride_price  subscription_fee\n",
       "0              free             8                50                 0\n",
       "1             ultra             6                 0               199"
      ]
     },
     "metadata": {},
     "output_type": "display_data"
    }
   ],
   "source": [
    "dataset_info(subscriptions)"
   ]
  },
  {
   "cell_type": "markdown",
   "id": "92cb53d2",
   "metadata": {},
   "source": [
    "**Вывод:** В данных отсутствуют пропуски. В датафрейме ```rides``` столбец ```date``` имеет тип ```object```, нужно привести его к типу ```datetime```."
   ]
  },
  {
   "cell_type": "markdown",
   "id": "e95ebca7",
   "metadata": {},
   "source": [
    "#### Шаг 2. Предобработка данных"
   ]
  },
  {
   "cell_type": "markdown",
   "id": "09599469",
   "metadata": {},
   "source": [
    "##### Приведём столбец ```date``` к типу даты"
   ]
  },
  {
   "cell_type": "code",
   "execution_count": 8,
   "id": "e51bb187",
   "metadata": {},
   "outputs": [
    {
     "name": "stdout",
     "output_type": "stream",
     "text": [
      "<class 'pandas.core.frame.DataFrame'>\n",
      "RangeIndex: 18068 entries, 0 to 18067\n",
      "Data columns (total 4 columns):\n",
      " #   Column    Non-Null Count  Dtype         \n",
      "---  ------    --------------  -----         \n",
      " 0   user_id   18068 non-null  int64         \n",
      " 1   distance  18068 non-null  float64       \n",
      " 2   duration  18068 non-null  float64       \n",
      " 3   date      18068 non-null  datetime64[ns]\n",
      "dtypes: datetime64[ns](1), float64(2), int64(1)\n",
      "memory usage: 564.8 KB\n",
      "None\n",
      "       user_id  distance  duration\n",
      "count 18068.00  18068.00  18068.00\n",
      "mean    842.87   3070.66     17.81\n",
      "std     434.73   1116.83      6.09\n",
      "min       1.00      0.86      0.50\n",
      "25%     487.00   2543.23     13.60\n",
      "50%     889.00   3133.61     17.68\n",
      "75%    1213.25   3776.22     21.72\n",
      "max    1534.00   7211.01     40.82\n"
     ]
    },
    {
     "data": {
      "text/html": [
       "<div>\n",
       "<style scoped>\n",
       "    .dataframe tbody tr th:only-of-type {\n",
       "        vertical-align: middle;\n",
       "    }\n",
       "\n",
       "    .dataframe tbody tr th {\n",
       "        vertical-align: top;\n",
       "    }\n",
       "\n",
       "    .dataframe thead th {\n",
       "        text-align: right;\n",
       "    }\n",
       "</style>\n",
       "<table border=\"1\" class=\"dataframe\">\n",
       "  <thead>\n",
       "    <tr style=\"text-align: right;\">\n",
       "      <th></th>\n",
       "      <th>user_id</th>\n",
       "      <th>distance</th>\n",
       "      <th>duration</th>\n",
       "      <th>date</th>\n",
       "    </tr>\n",
       "  </thead>\n",
       "  <tbody>\n",
       "    <tr>\n",
       "      <th>0</th>\n",
       "      <td>1</td>\n",
       "      <td>4409.92</td>\n",
       "      <td>25.60</td>\n",
       "      <td>2021-01-01</td>\n",
       "    </tr>\n",
       "    <tr>\n",
       "      <th>1</th>\n",
       "      <td>1</td>\n",
       "      <td>2617.59</td>\n",
       "      <td>15.82</td>\n",
       "      <td>2021-01-18</td>\n",
       "    </tr>\n",
       "    <tr>\n",
       "      <th>2</th>\n",
       "      <td>1</td>\n",
       "      <td>754.16</td>\n",
       "      <td>6.23</td>\n",
       "      <td>2021-04-20</td>\n",
       "    </tr>\n",
       "    <tr>\n",
       "      <th>3</th>\n",
       "      <td>1</td>\n",
       "      <td>2694.78</td>\n",
       "      <td>18.51</td>\n",
       "      <td>2021-08-11</td>\n",
       "    </tr>\n",
       "    <tr>\n",
       "      <th>4</th>\n",
       "      <td>1</td>\n",
       "      <td>4028.69</td>\n",
       "      <td>26.27</td>\n",
       "      <td>2021-08-28</td>\n",
       "    </tr>\n",
       "  </tbody>\n",
       "</table>\n",
       "</div>"
      ],
      "text/plain": [
       "   user_id  distance  duration       date\n",
       "0        1   4409.92     25.60 2021-01-01\n",
       "1        1   2617.59     15.82 2021-01-18\n",
       "2        1    754.16      6.23 2021-04-20\n",
       "3        1   2694.78     18.51 2021-08-11\n",
       "4        1   4028.69     26.27 2021-08-28"
      ]
     },
     "metadata": {},
     "output_type": "display_data"
    }
   ],
   "source": [
    "rides['date'] = pd.to_datetime(rides['date'])\n",
    "\n",
    "#проверим результат\n",
    "dataset_info(rides)"
   ]
  },
  {
   "cell_type": "markdown",
   "id": "7020a545",
   "metadata": {},
   "source": [
    "##### Создадим новый столбец с номером месяца на основе столбца ```date```"
   ]
  },
  {
   "cell_type": "code",
   "execution_count": 9,
   "id": "63c1213e",
   "metadata": {},
   "outputs": [
    {
     "data": {
      "text/html": [
       "<div>\n",
       "<style scoped>\n",
       "    .dataframe tbody tr th:only-of-type {\n",
       "        vertical-align: middle;\n",
       "    }\n",
       "\n",
       "    .dataframe tbody tr th {\n",
       "        vertical-align: top;\n",
       "    }\n",
       "\n",
       "    .dataframe thead th {\n",
       "        text-align: right;\n",
       "    }\n",
       "</style>\n",
       "<table border=\"1\" class=\"dataframe\">\n",
       "  <thead>\n",
       "    <tr style=\"text-align: right;\">\n",
       "      <th></th>\n",
       "      <th>user_id</th>\n",
       "      <th>distance</th>\n",
       "      <th>duration</th>\n",
       "      <th>date</th>\n",
       "      <th>month</th>\n",
       "    </tr>\n",
       "  </thead>\n",
       "  <tbody>\n",
       "    <tr>\n",
       "      <th>0</th>\n",
       "      <td>1</td>\n",
       "      <td>4409.92</td>\n",
       "      <td>25.60</td>\n",
       "      <td>2021-01-01</td>\n",
       "      <td>1</td>\n",
       "    </tr>\n",
       "    <tr>\n",
       "      <th>1</th>\n",
       "      <td>1</td>\n",
       "      <td>2617.59</td>\n",
       "      <td>15.82</td>\n",
       "      <td>2021-01-18</td>\n",
       "      <td>1</td>\n",
       "    </tr>\n",
       "    <tr>\n",
       "      <th>2</th>\n",
       "      <td>1</td>\n",
       "      <td>754.16</td>\n",
       "      <td>6.23</td>\n",
       "      <td>2021-04-20</td>\n",
       "      <td>4</td>\n",
       "    </tr>\n",
       "    <tr>\n",
       "      <th>3</th>\n",
       "      <td>1</td>\n",
       "      <td>2694.78</td>\n",
       "      <td>18.51</td>\n",
       "      <td>2021-08-11</td>\n",
       "      <td>8</td>\n",
       "    </tr>\n",
       "    <tr>\n",
       "      <th>4</th>\n",
       "      <td>1</td>\n",
       "      <td>4028.69</td>\n",
       "      <td>26.27</td>\n",
       "      <td>2021-08-28</td>\n",
       "      <td>8</td>\n",
       "    </tr>\n",
       "  </tbody>\n",
       "</table>\n",
       "</div>"
      ],
      "text/plain": [
       "   user_id  distance  duration       date  month\n",
       "0        1   4409.92     25.60 2021-01-01      1\n",
       "1        1   2617.59     15.82 2021-01-18      1\n",
       "2        1    754.16      6.23 2021-04-20      4\n",
       "3        1   2694.78     18.51 2021-08-11      8\n",
       "4        1   4028.69     26.27 2021-08-28      8"
      ]
     },
     "execution_count": 9,
     "metadata": {},
     "output_type": "execute_result"
    }
   ],
   "source": [
    "rides['month'] = rides.date.dt.month\n",
    "\n",
    "#проверим результат\n",
    "rides.head()"
   ]
  },
  {
   "cell_type": "code",
   "execution_count": 10,
   "id": "3dc3b35f",
   "metadata": {},
   "outputs": [
    {
     "name": "stdout",
     "output_type": "stream",
     "text": [
      "Период дат из датафрейма: c 2021-01-01 00:00:00 по 2021-12-30 00:00:00\n"
     ]
    }
   ],
   "source": [
    "#проверим, за какой период представлены данные\n",
    "print('Период дат из датафрейма: c', rides.date.min(),'по', rides.date.max())"
   ]
  },
  {
   "cell_type": "markdown",
   "id": "efa98232",
   "metadata": {},
   "source": [
    "Данные представлены за весь 2021 год."
   ]
  },
  {
   "cell_type": "markdown",
   "id": "bee71587",
   "metadata": {},
   "source": [
    "##### Проверим наличие пропущенных значений и дубликатов в датафреймах"
   ]
  },
  {
   "cell_type": "markdown",
   "id": "f2ab9e21",
   "metadata": {},
   "source": [
    "Из п.1 мы видим, что в данных отсутствуют пропуски. Значит, проверяем данные только на дубликаты."
   ]
  },
  {
   "cell_type": "code",
   "execution_count": 11,
   "id": "ef2192b9",
   "metadata": {},
   "outputs": [
    {
     "name": "stdout",
     "output_type": "stream",
     "text": [
      "Кол-во явных дубликатов: 31\n",
      "Кол-во явных дубликатов после обработки: 0\n"
     ]
    }
   ],
   "source": [
    "#проверяем датафрейм Пользователи\n",
    "print('Кол-во явных дубликатов:', users.duplicated().sum())\n",
    "\n",
    "#удалим дубликаты и проверим результат\n",
    "users = users.drop_duplicates()\n",
    "print('Кол-во явных дубликатов после обработки:', users.duplicated().sum())"
   ]
  },
  {
   "cell_type": "code",
   "execution_count": 12,
   "id": "71b99491",
   "metadata": {},
   "outputs": [
    {
     "name": "stdout",
     "output_type": "stream",
     "text": [
      "Всего уникальных наименований: 8\n",
      "Пятигорск         219\n",
      "Екатеринбург      204\n",
      "Ростов-на-Дону    198\n",
      "Краснодар         193\n",
      "Сочи              189\n",
      "Омск              183\n",
      "Тюмень            180\n",
      "Москва            168\n",
      "Name: city, dtype: int64\n"
     ]
    }
   ],
   "source": [
    "#проверим уникальные значения в столбце 'city' \n",
    "print('Всего уникальных наименований:', len(users['city'].unique()))\n",
    "print(users['city'].value_counts())"
   ]
  },
  {
   "cell_type": "code",
   "execution_count": 13,
   "id": "677049ed",
   "metadata": {},
   "outputs": [
    {
     "name": "stdout",
     "output_type": "stream",
     "text": [
      "Кол-во явных дубликатов: 0\n"
     ]
    }
   ],
   "source": [
    "#проверяем датафрейм Поездки\n",
    "print('Кол-во явных дубликатов:', rides.duplicated().sum())"
   ]
  },
  {
   "cell_type": "code",
   "execution_count": 14,
   "id": "04c1bc52",
   "metadata": {},
   "outputs": [
    {
     "name": "stdout",
     "output_type": "stream",
     "text": [
      "Кол-во явных дубликатов: 0\n"
     ]
    }
   ],
   "source": [
    "#проверяем датафрейм Подписки\n",
    "print('Кол-во явных дубликатов:', subscriptions.duplicated().sum())"
   ]
  },
  {
   "cell_type": "code",
   "execution_count": 15,
   "id": "4e42ef68",
   "metadata": {},
   "outputs": [
    {
     "name": "stdout",
     "output_type": "stream",
     "text": [
      "Кол-во вариантов в 'users': 2\n",
      "free     835\n",
      "ultra    699\n",
      "Name: subscription_type, dtype: int64\n",
      "Кол-во вариантов в 'subscriptions': 2\n",
      "ultra    1\n",
      "free     1\n",
      "Name: subscription_type, dtype: int64\n"
     ]
    }
   ],
   "source": [
    "#проверим как соотносятся столбцы 'subscription_type' из датафреймов Подписки и Пользователи\n",
    "print('Кол-во вариантов в \\'users\\':', len(users['subscription_type'].unique()))\n",
    "print(users['subscription_type'].value_counts())\n",
    "print('Кол-во вариантов в \\'subscriptions\\':', len(subscriptions['subscription_type'].unique()))\n",
    "print(subscriptions['subscription_type'].value_counts())"
   ]
  },
  {
   "cell_type": "markdown",
   "id": "a3fd3442",
   "metadata": {},
   "source": [
    "**Вывод:** На этом этапе мы провели предобработку данных.\n",
    "\n",
    "- Привели столбец 'date' датафрейма Поездки к формату даты,\n",
    "- Создали новый столбец с номером месяца на основе столбца 'date' датафрейма Поездки,\n",
    "- Проверили наличие пропущенных значений и дубликатов в датафреймах. Пропуски в датафреймах отсутствуют. В датафрейме Пользователи был обнаружен и удален 31 дубликат, в других датафреймах дубликатов не обнаружено.\n",
    "- Проверили уникальные значения в столбце 'city' датафрейма Пользователи: с наименованиями всё в порядке, дубликатов нет, приводить к единому написанию ничего не требуется.\n",
    "- Проверили соотношение столбцов 'subscription_type' из датафреймов Подписки и Пользователи: количество вариантов совпадает и равно двум - ultra и free."
   ]
  },
  {
   "cell_type": "markdown",
   "id": "212593c7",
   "metadata": {},
   "source": [
    "#### Шаг 3. Исследовательский анализ данных"
   ]
  },
  {
   "cell_type": "markdown",
   "id": "9778eed1",
   "metadata": {},
   "source": [
    "##### Исследуем частоту встречаемости городов"
   ]
  },
  {
   "cell_type": "markdown",
   "id": "3048a317",
   "metadata": {},
   "source": [
    "Построим гистограмму по количеству 'user_id' в каждом городе."
   ]
  },
  {
   "cell_type": "code",
   "execution_count": 16,
   "id": "a2379d93",
   "metadata": {},
   "outputs": [
    {
     "data": {
      "image/png": "[encoded data removed]",
      "text/plain": [
       "<Figure size 432x216 with 1 Axes>"
      ]
     },
     "metadata": {
      "needs_background": "light"
     },
     "output_type": "display_data"
    }
   ],
   "source": [
    "users_city = users.pivot_table(index= 'city', values= 'user_id', aggfunc= 'count').sort_values(by='user_id', ascending = True)\n",
    "users_city.plot(kind='bar', figsize = (6,3))\n",
    "plt.title('Частота встречаемости городов')\n",
    "plt.xlabel('Города')\n",
    "plt.ylabel('Кол-во пользователей')\n",
    "plt.show()"
   ]
  },
  {
   "cell_type": "code",
   "execution_count": 17,
   "id": "412398cf",
   "metadata": {},
   "outputs": [
    {
     "data": {
      "text/html": [
       "<div>\n",
       "<style scoped>\n",
       "    .dataframe tbody tr th:only-of-type {\n",
       "        vertical-align: middle;\n",
       "    }\n",
       "\n",
       "    .dataframe tbody tr th {\n",
       "        vertical-align: top;\n",
       "    }\n",
       "\n",
       "    .dataframe thead th {\n",
       "        text-align: right;\n",
       "    }\n",
       "</style>\n",
       "<table border=\"1\" class=\"dataframe\">\n",
       "  <thead>\n",
       "    <tr style=\"text-align: right;\">\n",
       "      <th></th>\n",
       "      <th>user_id</th>\n",
       "    </tr>\n",
       "    <tr>\n",
       "      <th>city</th>\n",
       "      <th></th>\n",
       "    </tr>\n",
       "  </thead>\n",
       "  <tbody>\n",
       "    <tr>\n",
       "      <th>Пятигорск</th>\n",
       "      <td>219</td>\n",
       "    </tr>\n",
       "    <tr>\n",
       "      <th>Екатеринбург</th>\n",
       "      <td>204</td>\n",
       "    </tr>\n",
       "    <tr>\n",
       "      <th>Ростов-на-Дону</th>\n",
       "      <td>198</td>\n",
       "    </tr>\n",
       "    <tr>\n",
       "      <th>Краснодар</th>\n",
       "      <td>193</td>\n",
       "    </tr>\n",
       "    <tr>\n",
       "      <th>Сочи</th>\n",
       "      <td>189</td>\n",
       "    </tr>\n",
       "    <tr>\n",
       "      <th>Омск</th>\n",
       "      <td>183</td>\n",
       "    </tr>\n",
       "    <tr>\n",
       "      <th>Тюмень</th>\n",
       "      <td>180</td>\n",
       "    </tr>\n",
       "    <tr>\n",
       "      <th>Москва</th>\n",
       "      <td>168</td>\n",
       "    </tr>\n",
       "  </tbody>\n",
       "</table>\n",
       "</div>"
      ],
      "text/plain": [
       "                user_id\n",
       "city                   \n",
       "Пятигорск           219\n",
       "Екатеринбург        204\n",
       "Ростов-на-Дону      198\n",
       "Краснодар           193\n",
       "Сочи                189\n",
       "Омск                183\n",
       "Тюмень              180\n",
       "Москва              168"
      ]
     },
     "execution_count": 17,
     "metadata": {},
     "output_type": "execute_result"
    }
   ],
   "source": [
    "users_city.sort_values(by='user_id', ascending = False)"
   ]
  },
  {
   "cell_type": "markdown",
   "id": "4699db02",
   "metadata": {},
   "source": [
    "Больше всего пользователей сервиса в Пятигорске и Екатеринбурге, меньше всего в Москве. Можно предположить, что это связано с конкуренцией с другими сервисами аренды самокатов: в Пятигорске и Екатеринбурге конкуренция меньше, в Москве - самая большая."
   ]
  },
  {
   "cell_type": "markdown",
   "id": "7c77e74b",
   "metadata": {},
   "source": [
    "##### Изучим соотношение пользователей с подпиской и без подписки"
   ]
  },
  {
   "cell_type": "code",
   "execution_count": 55,
   "id": "ea61d897",
   "metadata": {},
   "outputs": [
    {
     "data": {
      "image/png": "[encoded data removed]",
      "text/plain": [
       "<Figure size 432x216 with 1 Axes>"
      ]
     },
     "metadata": {
      "needs_background": "light"
     },
     "output_type": "display_data"
    }
   ],
   "source": [
    "users_subscription = users.pivot_table(index= 'subscription_type', values= 'user_id', aggfunc= 'count').sort_values(by='user_id', ascending = True).reset_index()\n",
    "users_subscription.plot(kind='barh', figsize = (6,3), x= 'subscription_type')\n",
    "plt.title('Количественное соотношение пользователей с подпиской и без')\n",
    "plt.xlabel('Кол-во пользователей')\n",
    "plt.ylabel('Тип подписки')\n",
    "plt.show()"
   ]
  },
  {
   "cell_type": "code",
   "execution_count": 19,
   "id": "4ae8b4f4",
   "metadata": {},
   "outputs": [
    {
     "data": {
      "text/html": [
       "<div>\n",
       "<style scoped>\n",
       "    .dataframe tbody tr th:only-of-type {\n",
       "        vertical-align: middle;\n",
       "    }\n",
       "\n",
       "    .dataframe tbody tr th {\n",
       "        vertical-align: top;\n",
       "    }\n",
       "\n",
       "    .dataframe thead th {\n",
       "        text-align: right;\n",
       "    }\n",
       "</style>\n",
       "<table border=\"1\" class=\"dataframe\">\n",
       "  <thead>\n",
       "    <tr style=\"text-align: right;\">\n",
       "      <th></th>\n",
       "      <th>subscription_type</th>\n",
       "      <th>user_id</th>\n",
       "    </tr>\n",
       "  </thead>\n",
       "  <tbody>\n",
       "    <tr>\n",
       "      <th>1</th>\n",
       "      <td>free</td>\n",
       "      <td>835</td>\n",
       "    </tr>\n",
       "    <tr>\n",
       "      <th>0</th>\n",
       "      <td>ultra</td>\n",
       "      <td>699</td>\n",
       "    </tr>\n",
       "  </tbody>\n",
       "</table>\n",
       "</div>"
      ],
      "text/plain": [
       "  subscription_type  user_id\n",
       "1              free      835\n",
       "0             ultra      699"
      ]
     },
     "execution_count": 19,
     "metadata": {},
     "output_type": "execute_result"
    }
   ],
   "source": [
    "users_subscription.sort_values(by='user_id', ascending = False)"
   ]
  },
  {
   "cell_type": "code",
   "execution_count": 20,
   "id": "b9616b7a",
   "metadata": {},
   "outputs": [
    {
     "data": {
      "image/png": "[encoded data removed]",
      "text/plain": [
       "<Figure size 432x288 with 1 Axes>"
      ]
     },
     "metadata": {},
     "output_type": "display_data"
    }
   ],
   "source": [
    "fig, ax = plt.subplots()\n",
    "ax.pie(users_subscription['user_id'], labels=users_subscription['subscription_type'], autopct='%1.1f%%')\n",
    "plt.title('Процентное соотношение пользователей с подпиской и без')\n",
    "plt.show()"
   ]
  },
  {
   "cell_type": "markdown",
   "id": "a12e47d4",
   "metadata": {},
   "source": [
    "Пользователей без подписки больше, чем пользователей с подпиской, на 136 человек, или на 8.8%"
   ]
  },
  {
   "cell_type": "markdown",
   "id": "5a85efe2",
   "metadata": {},
   "source": [
    "##### Изучим возраст пользователей"
   ]
  },
  {
   "cell_type": "code",
   "execution_count": 21,
   "id": "67b709d5",
   "metadata": {},
   "outputs": [
    {
     "data": {
      "image/png": "[encoded data removed]",
      "text/plain": [
       "<Figure size 504x288 with 1 Axes>"
      ]
     },
     "metadata": {
      "needs_background": "light"
     },
     "output_type": "display_data"
    }
   ],
   "source": [
    "#посмотрим как распределены пользователи по возрасту\n",
    "users['age'].plot(kind='hist', figsize = (7,4), bins= 30, grid=True)\n",
    "plt.title('Распределение возраста пользователей')\n",
    "plt.xlabel('Возраст')\n",
    "plt.ylabel('Кол-во пользователей')\n",
    "plt.show()"
   ]
  },
  {
   "cell_type": "code",
   "execution_count": 22,
   "id": "d7220f16",
   "metadata": {},
   "outputs": [
    {
     "data": {
      "text/plain": [
       "count   1534.00\n",
       "mean      24.90\n",
       "std        4.57\n",
       "min       12.00\n",
       "25%       22.00\n",
       "50%       25.00\n",
       "75%       28.00\n",
       "max       43.00\n",
       "Name: age, dtype: float64"
      ]
     },
     "execution_count": 22,
     "metadata": {},
     "output_type": "execute_result"
    }
   ],
   "source": [
    "#посмотрим описание столбца 'age'\n",
    "users['age'].describe()"
   ]
  },
  {
   "cell_type": "code",
   "execution_count": 23,
   "id": "21cec088",
   "metadata": {},
   "outputs": [
    {
     "data": {
      "image/png": "[encoded data removed]",
      "text/plain": [
       "<Figure size 432x288 with 1 Axes>"
      ]
     },
     "metadata": {
      "needs_background": "light"
     },
     "output_type": "display_data"
    }
   ],
   "source": [
    "users.boxplot('age')\n",
    "plt.title('Диаграмма размаха пользователей по возрасту')\n",
    "plt.ylabel('Значение возраста')\n",
    "plt.show()"
   ]
  },
  {
   "cell_type": "markdown",
   "id": "6142cd61",
   "metadata": {},
   "source": [
    "Данные распределены нормально, медиана и среднее почти совпадают. Самым младшим пользователям по 12 лет, самому старшему - 43 года, и согласно диаграмме размаха мы можем считать эти значения редкими."
   ]
  },
  {
   "cell_type": "markdown",
   "id": "9ed8829a",
   "metadata": {},
   "source": [
    "##### Исследуем расстояние, которое пользователь преодолел за одну поездку"
   ]
  },
  {
   "cell_type": "code",
   "execution_count": 24,
   "id": "123aa731",
   "metadata": {},
   "outputs": [
    {
     "data": {
      "image/png": "[encoded data removed]",
      "text/plain": [
       "<Figure size 504x288 with 1 Axes>"
      ]
     },
     "metadata": {
      "needs_background": "light"
     },
     "output_type": "display_data"
    }
   ],
   "source": [
    "rides['distance'].plot(kind='hist', figsize = (7,4), bins= 30, grid=True)\n",
    "plt.title('Распределение длин дистанции')\n",
    "plt.xlabel('Расстояние')\n",
    "plt.ylabel('Кол-во пользователей')\n",
    "plt.show()"
   ]
  },
  {
   "cell_type": "code",
   "execution_count": 25,
   "id": "66d8eb89",
   "metadata": {},
   "outputs": [
    {
     "data": {
      "text/plain": [
       "count   18068.00\n",
       "mean     3070.66\n",
       "std      1116.83\n",
       "min         0.86\n",
       "25%      2543.23\n",
       "50%      3133.61\n",
       "75%      3776.22\n",
       "max      7211.01\n",
       "Name: distance, dtype: float64"
      ]
     },
     "execution_count": 25,
     "metadata": {},
     "output_type": "execute_result"
    }
   ],
   "source": [
    "rides['distance'].describe()"
   ]
  },
  {
   "cell_type": "code",
   "execution_count": 26,
   "id": "8211af81",
   "metadata": {},
   "outputs": [
    {
     "data": {
      "image/png": "[encoded data removed]",
      "text/plain": [
       "<Figure size 432x288 with 1 Axes>"
      ]
     },
     "metadata": {
      "needs_background": "light"
     },
     "output_type": "display_data"
    }
   ],
   "source": [
    "rides.boxplot('distance')\n",
    "plt.title('Диаграмма размаха расстояний')\n",
    "plt.ylabel('Расстояние, м')\n",
    "plt.show()"
   ]
  },
  {
   "cell_type": "markdown",
   "id": "3084f638",
   "metadata": {},
   "source": [
    "Самое популярное расстояние для передвижения на самокате у пользователей - чуть больше 3 км. Такое расстояние иногда затруднительно пройти пешком, а на самокате оптимально. На расстояние 3,5 км и более уже не так удобно брать самокат. Самыми редкими являются поездки до 1 км и свыше 5.5 км."
   ]
  },
  {
   "cell_type": "markdown",
   "id": "1aaf9179",
   "metadata": {},
   "source": [
    "##### Изучим продолжительность поездок"
   ]
  },
  {
   "cell_type": "code",
   "execution_count": 27,
   "id": "052df5e8",
   "metadata": {},
   "outputs": [
    {
     "data": {
      "image/png": "[encoded data removed]",
      "text/plain": [
       "<Figure size 504x288 with 1 Axes>"
      ]
     },
     "metadata": {
      "needs_background": "light"
     },
     "output_type": "display_data"
    }
   ],
   "source": [
    "rides['duration'].plot(kind='hist', figsize = (7,4), bins= 30, grid=True)\n",
    "plt.title('Распределение поездок по длительности')\n",
    "plt.xlabel('Продолжительность поездки')\n",
    "plt.ylabel('Кол-во пользователей')\n",
    "plt.show()"
   ]
  },
  {
   "cell_type": "code",
   "execution_count": 28,
   "id": "9ece0454",
   "metadata": {},
   "outputs": [
    {
     "data": {
      "text/plain": [
       "count   18068.00\n",
       "mean       17.81\n",
       "std         6.09\n",
       "min         0.50\n",
       "25%        13.60\n",
       "50%        17.68\n",
       "75%        21.72\n",
       "max        40.82\n",
       "Name: duration, dtype: float64"
      ]
     },
     "execution_count": 28,
     "metadata": {},
     "output_type": "execute_result"
    }
   ],
   "source": [
    "rides['duration'].describe()"
   ]
  },
  {
   "cell_type": "code",
   "execution_count": 29,
   "id": "e9452b79",
   "metadata": {},
   "outputs": [
    {
     "data": {
      "image/png": "[encoded data removed]",
      "text/plain": [
       "<Figure size 432x288 with 1 Axes>"
      ]
     },
     "metadata": {
      "needs_background": "light"
     },
     "output_type": "display_data"
    }
   ],
   "source": [
    "rides.boxplot('duration')\n",
    "plt.title('Диаграмма размаха времени поездки')\n",
    "plt.ylabel('Время, мин')\n",
    "plt.show()"
   ]
  },
  {
   "cell_type": "markdown",
   "id": "adc4d475",
   "metadata": {},
   "source": [
    "Длительность поездок нормально распределена, среднее значение примерно равно медиане, и находятся они в самом часто встречающемся интервале длительности поездок от 17 до 18 минут. Наибольшая часть всех поездок - это поездки от 14 до 22 минут, самые редкие поездки: до 1 минуты и свыше 34 минут."
   ]
  },
  {
   "cell_type": "markdown",
   "id": "32fb9011",
   "metadata": {},
   "source": [
    "**Вывод:** На этом шаге мы изучили \n",
    "- Сколько пользователей сервиса в каждом городе, и что чаще всего сервисом пользуются в Пятигорске, а реже всего в Москве, и связано это может быть с разным уровнем конкуренции сервисов аренды самокатов;\n",
    "- Пользователей с подпиской в сервисе меньше, чем без подписки;\n",
    "- Средний возраст пользователей сервиса - 25 лет, самым младшим пользователям по 12 лет, самому старшему - 43 года;\n",
    "- Самое популярное расстояние для передвижения на самокате у пользователей - чуть больше 3 км, оптимально для поездки на самокате;\n",
    "- Самый популярный интервал длительности поездок - от 17 до 18 минут;\n",
    "- Если соотнести между собой популярные расстояние и длительность поездки, мы увидим, что полученные данные выглядят правдоподобно."
   ]
  },
  {
   "cell_type": "markdown",
   "id": "4ef51331",
   "metadata": {},
   "source": [
    "#### Шаг 4. Объединение данных"
   ]
  },
  {
   "cell_type": "code",
   "execution_count": 30,
   "id": "4ec597bf",
   "metadata": {},
   "outputs": [
    {
     "name": "stdout",
     "output_type": "stream",
     "text": [
      "Количество строк в таблице 'users': 1534\n",
      "Количество строк в таблице 'rides': 18068\n",
      "Количество строк в таблице 'subscriptions': 2\n"
     ]
    }
   ],
   "source": [
    "#выведем размерности имеющихся датафреймов\n",
    "print('Количество строк в таблице \\'users\\':', len(users))\n",
    "print('Количество строк в таблице \\'rides\\':', len(rides))\n",
    "print('Количество строк в таблице \\'subscriptions\\':', len(subscriptions))"
   ]
  },
  {
   "cell_type": "markdown",
   "id": "19fb048e",
   "metadata": {},
   "source": [
    "##### Объединим данные о пользователях, поездках и подписках в один датафрейм"
   ]
  },
  {
   "cell_type": "code",
   "execution_count": 31,
   "id": "6bf288b5",
   "metadata": {},
   "outputs": [
    {
     "data": {
      "text/html": [
       "<div>\n",
       "<style scoped>\n",
       "    .dataframe tbody tr th:only-of-type {\n",
       "        vertical-align: middle;\n",
       "    }\n",
       "\n",
       "    .dataframe tbody tr th {\n",
       "        vertical-align: top;\n",
       "    }\n",
       "\n",
       "    .dataframe thead th {\n",
       "        text-align: right;\n",
       "    }\n",
       "</style>\n",
       "<table border=\"1\" class=\"dataframe\">\n",
       "  <thead>\n",
       "    <tr style=\"text-align: right;\">\n",
       "      <th></th>\n",
       "      <th>user_id</th>\n",
       "      <th>distance</th>\n",
       "      <th>duration</th>\n",
       "      <th>date</th>\n",
       "      <th>month</th>\n",
       "      <th>name</th>\n",
       "      <th>age</th>\n",
       "      <th>city</th>\n",
       "      <th>subscription_type</th>\n",
       "      <th>minute_price</th>\n",
       "      <th>start_ride_price</th>\n",
       "      <th>subscription_fee</th>\n",
       "    </tr>\n",
       "  </thead>\n",
       "  <tbody>\n",
       "    <tr>\n",
       "      <th>0</th>\n",
       "      <td>1</td>\n",
       "      <td>4409.92</td>\n",
       "      <td>25.60</td>\n",
       "      <td>2021-01-01</td>\n",
       "      <td>1</td>\n",
       "      <td>Кира</td>\n",
       "      <td>22</td>\n",
       "      <td>Тюмень</td>\n",
       "      <td>ultra</td>\n",
       "      <td>6</td>\n",
       "      <td>0</td>\n",
       "      <td>199</td>\n",
       "    </tr>\n",
       "    <tr>\n",
       "      <th>1</th>\n",
       "      <td>1</td>\n",
       "      <td>2617.59</td>\n",
       "      <td>15.82</td>\n",
       "      <td>2021-01-18</td>\n",
       "      <td>1</td>\n",
       "      <td>Кира</td>\n",
       "      <td>22</td>\n",
       "      <td>Тюмень</td>\n",
       "      <td>ultra</td>\n",
       "      <td>6</td>\n",
       "      <td>0</td>\n",
       "      <td>199</td>\n",
       "    </tr>\n",
       "    <tr>\n",
       "      <th>2</th>\n",
       "      <td>1</td>\n",
       "      <td>754.16</td>\n",
       "      <td>6.23</td>\n",
       "      <td>2021-04-20</td>\n",
       "      <td>4</td>\n",
       "      <td>Кира</td>\n",
       "      <td>22</td>\n",
       "      <td>Тюмень</td>\n",
       "      <td>ultra</td>\n",
       "      <td>6</td>\n",
       "      <td>0</td>\n",
       "      <td>199</td>\n",
       "    </tr>\n",
       "    <tr>\n",
       "      <th>3</th>\n",
       "      <td>1</td>\n",
       "      <td>2694.78</td>\n",
       "      <td>18.51</td>\n",
       "      <td>2021-08-11</td>\n",
       "      <td>8</td>\n",
       "      <td>Кира</td>\n",
       "      <td>22</td>\n",
       "      <td>Тюмень</td>\n",
       "      <td>ultra</td>\n",
       "      <td>6</td>\n",
       "      <td>0</td>\n",
       "      <td>199</td>\n",
       "    </tr>\n",
       "    <tr>\n",
       "      <th>4</th>\n",
       "      <td>1</td>\n",
       "      <td>4028.69</td>\n",
       "      <td>26.27</td>\n",
       "      <td>2021-08-28</td>\n",
       "      <td>8</td>\n",
       "      <td>Кира</td>\n",
       "      <td>22</td>\n",
       "      <td>Тюмень</td>\n",
       "      <td>ultra</td>\n",
       "      <td>6</td>\n",
       "      <td>0</td>\n",
       "      <td>199</td>\n",
       "    </tr>\n",
       "  </tbody>\n",
       "</table>\n",
       "</div>"
      ],
      "text/plain": [
       "   user_id  distance  duration       date  month  name  age    city  \\\n",
       "0        1   4409.92     25.60 2021-01-01      1  Кира   22  Тюмень   \n",
       "1        1   2617.59     15.82 2021-01-18      1  Кира   22  Тюмень   \n",
       "2        1    754.16      6.23 2021-04-20      4  Кира   22  Тюмень   \n",
       "3        1   2694.78     18.51 2021-08-11      8  Кира   22  Тюмень   \n",
       "4        1   4028.69     26.27 2021-08-28      8  Кира   22  Тюмень   \n",
       "\n",
       "  subscription_type  minute_price  start_ride_price  subscription_fee  \n",
       "0             ultra             6                 0               199  \n",
       "1             ultra             6                 0               199  \n",
       "2             ultra             6                 0               199  \n",
       "3             ultra             6                 0               199  \n",
       "4             ultra             6                 0               199  "
      ]
     },
     "execution_count": 31,
     "metadata": {},
     "output_type": "execute_result"
    }
   ],
   "source": [
    "#подсоединим датафрейм Пользователи к датафрейму Поездки по столбцу 'user_id'\n",
    "total = rides.merge(users, on= 'user_id', how= 'left')\n",
    "\n",
    "#к уже объединенным двум датафреймам подключим Подписки по столбцу 'subscription_type'\n",
    "total = total.merge(subscriptions, on= 'subscription_type', how= 'left')\n",
    "\n",
    "#проверим результат\n",
    "total.head()"
   ]
  },
  {
   "cell_type": "code",
   "execution_count": 32,
   "id": "883d03b3",
   "metadata": {},
   "outputs": [
    {
     "name": "stdout",
     "output_type": "stream",
     "text": [
      "Количество строк в таблице 'total': 18068\n"
     ]
    }
   ],
   "source": [
    "#проверим размерность получившегося датафрейма\n",
    "print('Количество строк в таблице \\'total\\':', len(total))"
   ]
  },
  {
   "cell_type": "markdown",
   "id": "057a6c90",
   "metadata": {},
   "source": [
    "Делаем вывод, что объединение датафреймов прошло успешно."
   ]
  },
  {
   "cell_type": "markdown",
   "id": "6e1af7d3",
   "metadata": {},
   "source": [
    "##### Создадим ещё два датафрейма из датафрейма ```total```, созданного на этапе 4.1"
   ]
  },
  {
   "cell_type": "markdown",
   "id": "6c4530a4",
   "metadata": {},
   "source": [
    "###### c данными о пользователях без подписки:"
   ]
  },
  {
   "cell_type": "code",
   "execution_count": 33,
   "id": "cf00b75f",
   "metadata": {},
   "outputs": [
    {
     "name": "stdout",
     "output_type": "stream",
     "text": [
      "Кол-во строк: 11568\n"
     ]
    },
    {
     "data": {
      "text/html": [
       "<div>\n",
       "<style scoped>\n",
       "    .dataframe tbody tr th:only-of-type {\n",
       "        vertical-align: middle;\n",
       "    }\n",
       "\n",
       "    .dataframe tbody tr th {\n",
       "        vertical-align: top;\n",
       "    }\n",
       "\n",
       "    .dataframe thead th {\n",
       "        text-align: right;\n",
       "    }\n",
       "</style>\n",
       "<table border=\"1\" class=\"dataframe\">\n",
       "  <thead>\n",
       "    <tr style=\"text-align: right;\">\n",
       "      <th></th>\n",
       "      <th>user_id</th>\n",
       "      <th>distance</th>\n",
       "      <th>duration</th>\n",
       "      <th>date</th>\n",
       "      <th>month</th>\n",
       "      <th>name</th>\n",
       "      <th>age</th>\n",
       "      <th>city</th>\n",
       "      <th>subscription_type</th>\n",
       "      <th>minute_price</th>\n",
       "      <th>start_ride_price</th>\n",
       "      <th>subscription_fee</th>\n",
       "    </tr>\n",
       "  </thead>\n",
       "  <tbody>\n",
       "    <tr>\n",
       "      <th>6500</th>\n",
       "      <td>700</td>\n",
       "      <td>2515.69</td>\n",
       "      <td>14.94</td>\n",
       "      <td>2021-01-02</td>\n",
       "      <td>1</td>\n",
       "      <td>Айдар</td>\n",
       "      <td>22</td>\n",
       "      <td>Омск</td>\n",
       "      <td>free</td>\n",
       "      <td>8</td>\n",
       "      <td>50</td>\n",
       "      <td>0</td>\n",
       "    </tr>\n",
       "    <tr>\n",
       "      <th>6501</th>\n",
       "      <td>700</td>\n",
       "      <td>846.93</td>\n",
       "      <td>16.23</td>\n",
       "      <td>2021-02-01</td>\n",
       "      <td>2</td>\n",
       "      <td>Айдар</td>\n",
       "      <td>22</td>\n",
       "      <td>Омск</td>\n",
       "      <td>free</td>\n",
       "      <td>8</td>\n",
       "      <td>50</td>\n",
       "      <td>0</td>\n",
       "    </tr>\n",
       "    <tr>\n",
       "      <th>6502</th>\n",
       "      <td>700</td>\n",
       "      <td>4004.43</td>\n",
       "      <td>20.02</td>\n",
       "      <td>2021-02-04</td>\n",
       "      <td>2</td>\n",
       "      <td>Айдар</td>\n",
       "      <td>22</td>\n",
       "      <td>Омск</td>\n",
       "      <td>free</td>\n",
       "      <td>8</td>\n",
       "      <td>50</td>\n",
       "      <td>0</td>\n",
       "    </tr>\n",
       "    <tr>\n",
       "      <th>6503</th>\n",
       "      <td>700</td>\n",
       "      <td>1205.91</td>\n",
       "      <td>9.78</td>\n",
       "      <td>2021-02-10</td>\n",
       "      <td>2</td>\n",
       "      <td>Айдар</td>\n",
       "      <td>22</td>\n",
       "      <td>Омск</td>\n",
       "      <td>free</td>\n",
       "      <td>8</td>\n",
       "      <td>50</td>\n",
       "      <td>0</td>\n",
       "    </tr>\n",
       "    <tr>\n",
       "      <th>6504</th>\n",
       "      <td>700</td>\n",
       "      <td>3047.38</td>\n",
       "      <td>17.43</td>\n",
       "      <td>2021-02-14</td>\n",
       "      <td>2</td>\n",
       "      <td>Айдар</td>\n",
       "      <td>22</td>\n",
       "      <td>Омск</td>\n",
       "      <td>free</td>\n",
       "      <td>8</td>\n",
       "      <td>50</td>\n",
       "      <td>0</td>\n",
       "    </tr>\n",
       "  </tbody>\n",
       "</table>\n",
       "</div>"
      ],
      "text/plain": [
       "      user_id  distance  duration       date  month   name  age  city  \\\n",
       "6500      700   2515.69     14.94 2021-01-02      1  Айдар   22  Омск   \n",
       "6501      700    846.93     16.23 2021-02-01      2  Айдар   22  Омск   \n",
       "6502      700   4004.43     20.02 2021-02-04      2  Айдар   22  Омск   \n",
       "6503      700   1205.91      9.78 2021-02-10      2  Айдар   22  Омск   \n",
       "6504      700   3047.38     17.43 2021-02-14      2  Айдар   22  Омск   \n",
       "\n",
       "     subscription_type  minute_price  start_ride_price  subscription_fee  \n",
       "6500              free             8                50                 0  \n",
       "6501              free             8                50                 0  \n",
       "6502              free             8                50                 0  \n",
       "6503              free             8                50                 0  \n",
       "6504              free             8                50                 0  "
      ]
     },
     "execution_count": 33,
     "metadata": {},
     "output_type": "execute_result"
    }
   ],
   "source": [
    "total_free = total[total['subscription_type'] == 'free']\n",
    "print('Кол-во строк:', len(total_free))\n",
    "total_free.head()"
   ]
  },
  {
   "cell_type": "markdown",
   "id": "f4b75e87",
   "metadata": {},
   "source": [
    "###### с данными о пользователях с подпиской:"
   ]
  },
  {
   "cell_type": "code",
   "execution_count": 34,
   "id": "53d7c8b0",
   "metadata": {},
   "outputs": [
    {
     "name": "stdout",
     "output_type": "stream",
     "text": [
      "Кол-во строк: 6500\n"
     ]
    },
    {
     "data": {
      "text/html": [
       "<div>\n",
       "<style scoped>\n",
       "    .dataframe tbody tr th:only-of-type {\n",
       "        vertical-align: middle;\n",
       "    }\n",
       "\n",
       "    .dataframe tbody tr th {\n",
       "        vertical-align: top;\n",
       "    }\n",
       "\n",
       "    .dataframe thead th {\n",
       "        text-align: right;\n",
       "    }\n",
       "</style>\n",
       "<table border=\"1\" class=\"dataframe\">\n",
       "  <thead>\n",
       "    <tr style=\"text-align: right;\">\n",
       "      <th></th>\n",
       "      <th>user_id</th>\n",
       "      <th>distance</th>\n",
       "      <th>duration</th>\n",
       "      <th>date</th>\n",
       "      <th>month</th>\n",
       "      <th>name</th>\n",
       "      <th>age</th>\n",
       "      <th>city</th>\n",
       "      <th>subscription_type</th>\n",
       "      <th>minute_price</th>\n",
       "      <th>start_ride_price</th>\n",
       "      <th>subscription_fee</th>\n",
       "    </tr>\n",
       "  </thead>\n",
       "  <tbody>\n",
       "    <tr>\n",
       "      <th>0</th>\n",
       "      <td>1</td>\n",
       "      <td>4409.92</td>\n",
       "      <td>25.60</td>\n",
       "      <td>2021-01-01</td>\n",
       "      <td>1</td>\n",
       "      <td>Кира</td>\n",
       "      <td>22</td>\n",
       "      <td>Тюмень</td>\n",
       "      <td>ultra</td>\n",
       "      <td>6</td>\n",
       "      <td>0</td>\n",
       "      <td>199</td>\n",
       "    </tr>\n",
       "    <tr>\n",
       "      <th>1</th>\n",
       "      <td>1</td>\n",
       "      <td>2617.59</td>\n",
       "      <td>15.82</td>\n",
       "      <td>2021-01-18</td>\n",
       "      <td>1</td>\n",
       "      <td>Кира</td>\n",
       "      <td>22</td>\n",
       "      <td>Тюмень</td>\n",
       "      <td>ultra</td>\n",
       "      <td>6</td>\n",
       "      <td>0</td>\n",
       "      <td>199</td>\n",
       "    </tr>\n",
       "    <tr>\n",
       "      <th>2</th>\n",
       "      <td>1</td>\n",
       "      <td>754.16</td>\n",
       "      <td>6.23</td>\n",
       "      <td>2021-04-20</td>\n",
       "      <td>4</td>\n",
       "      <td>Кира</td>\n",
       "      <td>22</td>\n",
       "      <td>Тюмень</td>\n",
       "      <td>ultra</td>\n",
       "      <td>6</td>\n",
       "      <td>0</td>\n",
       "      <td>199</td>\n",
       "    </tr>\n",
       "    <tr>\n",
       "      <th>3</th>\n",
       "      <td>1</td>\n",
       "      <td>2694.78</td>\n",
       "      <td>18.51</td>\n",
       "      <td>2021-08-11</td>\n",
       "      <td>8</td>\n",
       "      <td>Кира</td>\n",
       "      <td>22</td>\n",
       "      <td>Тюмень</td>\n",
       "      <td>ultra</td>\n",
       "      <td>6</td>\n",
       "      <td>0</td>\n",
       "      <td>199</td>\n",
       "    </tr>\n",
       "    <tr>\n",
       "      <th>4</th>\n",
       "      <td>1</td>\n",
       "      <td>4028.69</td>\n",
       "      <td>26.27</td>\n",
       "      <td>2021-08-28</td>\n",
       "      <td>8</td>\n",
       "      <td>Кира</td>\n",
       "      <td>22</td>\n",
       "      <td>Тюмень</td>\n",
       "      <td>ultra</td>\n",
       "      <td>6</td>\n",
       "      <td>0</td>\n",
       "      <td>199</td>\n",
       "    </tr>\n",
       "  </tbody>\n",
       "</table>\n",
       "</div>"
      ],
      "text/plain": [
       "   user_id  distance  duration       date  month  name  age    city  \\\n",
       "0        1   4409.92     25.60 2021-01-01      1  Кира   22  Тюмень   \n",
       "1        1   2617.59     15.82 2021-01-18      1  Кира   22  Тюмень   \n",
       "2        1    754.16      6.23 2021-04-20      4  Кира   22  Тюмень   \n",
       "3        1   2694.78     18.51 2021-08-11      8  Кира   22  Тюмень   \n",
       "4        1   4028.69     26.27 2021-08-28      8  Кира   22  Тюмень   \n",
       "\n",
       "  subscription_type  minute_price  start_ride_price  subscription_fee  \n",
       "0             ultra             6                 0               199  \n",
       "1             ultra             6                 0               199  \n",
       "2             ultra             6                 0               199  \n",
       "3             ultra             6                 0               199  \n",
       "4             ultra             6                 0               199  "
      ]
     },
     "execution_count": 34,
     "metadata": {},
     "output_type": "execute_result"
    }
   ],
   "source": [
    "total_ultra = total[total['subscription_type'] == 'ultra']\n",
    "print('Кол-во строк:', len(total_ultra))\n",
    "total_ultra.head()"
   ]
  },
  {
   "cell_type": "markdown",
   "id": "f74f4466",
   "metadata": {},
   "source": [
    "##### Визуализируем информацию о расстоянии и времени поездок для пользователей обеих категорий"
   ]
  },
  {
   "cell_type": "code",
   "execution_count": 35,
   "id": "125dad29",
   "metadata": {},
   "outputs": [
    {
     "data": {
      "image/png": "[encoded data removed]",
      "text/plain": [
       "<Figure size 504x216 with 1 Axes>"
      ]
     },
     "metadata": {
      "needs_background": "light"
     },
     "output_type": "display_data"
    }
   ],
   "source": [
    "ax = total_free['distance'].plot(kind = 'hist', grid=True, figsize = (7,3), bins = 30, label='Без подписки')\n",
    "ax = total_ultra['distance'].plot(kind = 'hist', grid=True, figsize = (7,3), bins = 30, label='C подпиской')\n",
    "plt.title('Расстояние одной поездки для пользователей с подпиской и без')\n",
    "plt.xlabel('Расстояние, м')\n",
    "plt.ylabel('Кол-во пользователей')\n",
    "plt.legend(loc='upper right')\n",
    "plt.show()"
   ]
  },
  {
   "cell_type": "code",
   "execution_count": 36,
   "id": "614f5ff1",
   "metadata": {},
   "outputs": [
    {
     "data": {
      "image/png": "[encoded data removed]",
      "text/plain": [
       "<Figure size 504x216 with 1 Axes>"
      ]
     },
     "metadata": {
      "needs_background": "light"
     },
     "output_type": "display_data"
    }
   ],
   "source": [
    "total_free['duration'].plot(kind = 'hist', grid=True, figsize = (7,3), bins = 30, label='Без подписки')\n",
    "total_ultra['duration'].plot(kind = 'hist', grid=True, figsize = (7,3), bins = 30, label='С подпиской')\n",
    "plt.title('Продолжительность одной поездки пользователей с подпиской и без')\n",
    "plt.xlabel('Время, мин')\n",
    "plt.ylabel('Кол-во пользователей')\n",
    "plt.legend(loc='upper right')\n",
    "plt.show()"
   ]
  },
  {
   "cell_type": "markdown",
   "id": "93f8fe6b",
   "metadata": {},
   "source": [
    "По распределениям на полученных гистограммах может показаться, что у пользователей без подписки расстояние и продолжительность одной поездки больше. Но так как у нас почти в два раза пользователей без подписки больше, на всякий случай сравним средние значения."
   ]
  },
  {
   "cell_type": "code",
   "execution_count": 37,
   "id": "463d98d4",
   "metadata": {},
   "outputs": [
    {
     "data": {
      "text/html": [
       "<div>\n",
       "<style scoped>\n",
       "    .dataframe tbody tr th:only-of-type {\n",
       "        vertical-align: middle;\n",
       "    }\n",
       "\n",
       "    .dataframe tbody tr th {\n",
       "        vertical-align: top;\n",
       "    }\n",
       "\n",
       "    .dataframe thead th {\n",
       "        text-align: right;\n",
       "    }\n",
       "</style>\n",
       "<table border=\"1\" class=\"dataframe\">\n",
       "  <thead>\n",
       "    <tr style=\"text-align: right;\">\n",
       "      <th></th>\n",
       "      <th>Среднее расстояние</th>\n",
       "      <th>Средняя продолжительность</th>\n",
       "    </tr>\n",
       "    <tr>\n",
       "      <th>subscription_type</th>\n",
       "      <th></th>\n",
       "      <th></th>\n",
       "    </tr>\n",
       "  </thead>\n",
       "  <tbody>\n",
       "    <tr>\n",
       "      <th>free</th>\n",
       "      <td>3045.50</td>\n",
       "      <td>17.39</td>\n",
       "    </tr>\n",
       "    <tr>\n",
       "      <th>ultra</th>\n",
       "      <td>3115.45</td>\n",
       "      <td>18.54</td>\n",
       "    </tr>\n",
       "  </tbody>\n",
       "</table>\n",
       "</div>"
      ],
      "text/plain": [
       "                   Среднее расстояние  Средняя продолжительность\n",
       "subscription_type                                               \n",
       "free                          3045.50                      17.39\n",
       "ultra                         3115.45                      18.54"
      ]
     },
     "execution_count": 37,
     "metadata": {},
     "output_type": "execute_result"
    }
   ],
   "source": [
    "total_vs = total.pivot_table(index='subscription_type', values=['distance', 'duration'], aggfunc= 'mean')\n",
    "total_vs.columns = ['Среднее расстояние', 'Средняя продолжительность']\n",
    "total_vs"
   ]
  },
  {
   "cell_type": "code",
   "execution_count": 38,
   "id": "f3a7d151",
   "metadata": {},
   "outputs": [
    {
     "data": {
      "image/png": "[encoded data removed]",
      "text/plain": [
       "<Figure size 360x360 with 1 Axes>"
      ]
     },
     "metadata": {
      "needs_background": "light"
     },
     "output_type": "display_data"
    }
   ],
   "source": [
    "total_vs.plot(kind='bar', y= 'Среднее расстояние', figsize=(5, 5), grid=True, title= 'Сравнение средних значений расстояний для пользователей с подпиской и без', legend=False, alpha=0.7)\n",
    "plt.ylabel('Расстояние, м')\n",
    "plt.xlabel('Тип подписки')\n",
    "plt.show()"
   ]
  },
  {
   "cell_type": "code",
   "execution_count": 39,
   "id": "21370d52",
   "metadata": {},
   "outputs": [
    {
     "data": {
      "image/png": "[encoded data removed]",
      "text/plain": [
       "<Figure size 360x360 with 1 Axes>"
      ]
     },
     "metadata": {
      "needs_background": "light"
     },
     "output_type": "display_data"
    }
   ],
   "source": [
    "total_vs.plot(kind='bar', y= 'Среднее расстояние', figsize=(5, 5), grid=True, title= 'Сравнение средних значений продолжительности поездки для пользователей с подпиской и без', legend=False, alpha=0.7)\n",
    "plt.ylabel('Продолжительность, мин')\n",
    "plt.xlabel('Тип подписки')\n",
    "plt.show()"
   ]
  },
  {
   "cell_type": "markdown",
   "id": "cd25d7ef",
   "metadata": {},
   "source": [
    "**Вывод:**\\\n",
    "На данном этапе мы объединили все три имеющиеся датафрейма с информацией о пользователях, поездках и подписках в один - ```total```, а из него вычленили информацию в два других датафрейма: с данными о пользователях с подпиской (``` total_ultra```) и без (```total_free```).\n",
    "\n",
    "После этого мы визуализировали информацию о расстоянии и времени поездок для пользователей обеих категорий: пользователей без подписки больше, но в среднем они совершают поездки короче по времени и дистанции, чем пользователи с подпиской."
   ]
  },
  {
   "cell_type": "markdown",
   "id": "402d620f",
   "metadata": {},
   "source": [
    "#### Шаг 5. Подсчёт выручки"
   ]
  },
  {
   "cell_type": "markdown",
   "id": "572e87d2",
   "metadata": {},
   "source": [
    "##### Создадим датафрейм с агрегированными данными о поездках на основе датафрейма с объединёнными данными из шага 4"
   ]
  },
  {
   "cell_type": "code",
   "execution_count": 40,
   "id": "752daf5d",
   "metadata": {},
   "outputs": [
    {
     "data": {
      "text/html": [
       "<div>\n",
       "<style scoped>\n",
       "    .dataframe tbody tr th:only-of-type {\n",
       "        vertical-align: middle;\n",
       "    }\n",
       "\n",
       "    .dataframe tbody tr th {\n",
       "        vertical-align: top;\n",
       "    }\n",
       "\n",
       "    .dataframe thead th {\n",
       "        text-align: right;\n",
       "    }\n",
       "</style>\n",
       "<table border=\"1\" class=\"dataframe\">\n",
       "  <thead>\n",
       "    <tr style=\"text-align: right;\">\n",
       "      <th></th>\n",
       "      <th>user_id</th>\n",
       "      <th>distance</th>\n",
       "      <th>duration</th>\n",
       "      <th>date</th>\n",
       "      <th>month</th>\n",
       "      <th>name</th>\n",
       "      <th>age</th>\n",
       "      <th>city</th>\n",
       "      <th>subscription_type</th>\n",
       "      <th>minute_price</th>\n",
       "      <th>start_ride_price</th>\n",
       "      <th>subscription_fee</th>\n",
       "    </tr>\n",
       "  </thead>\n",
       "  <tbody>\n",
       "    <tr>\n",
       "      <th>0</th>\n",
       "      <td>1</td>\n",
       "      <td>4409.92</td>\n",
       "      <td>26</td>\n",
       "      <td>2021-01-01</td>\n",
       "      <td>1</td>\n",
       "      <td>Кира</td>\n",
       "      <td>22</td>\n",
       "      <td>Тюмень</td>\n",
       "      <td>ultra</td>\n",
       "      <td>6</td>\n",
       "      <td>0</td>\n",
       "      <td>199</td>\n",
       "    </tr>\n",
       "    <tr>\n",
       "      <th>1</th>\n",
       "      <td>1</td>\n",
       "      <td>2617.59</td>\n",
       "      <td>16</td>\n",
       "      <td>2021-01-18</td>\n",
       "      <td>1</td>\n",
       "      <td>Кира</td>\n",
       "      <td>22</td>\n",
       "      <td>Тюмень</td>\n",
       "      <td>ultra</td>\n",
       "      <td>6</td>\n",
       "      <td>0</td>\n",
       "      <td>199</td>\n",
       "    </tr>\n",
       "    <tr>\n",
       "      <th>2</th>\n",
       "      <td>1</td>\n",
       "      <td>754.16</td>\n",
       "      <td>7</td>\n",
       "      <td>2021-04-20</td>\n",
       "      <td>4</td>\n",
       "      <td>Кира</td>\n",
       "      <td>22</td>\n",
       "      <td>Тюмень</td>\n",
       "      <td>ultra</td>\n",
       "      <td>6</td>\n",
       "      <td>0</td>\n",
       "      <td>199</td>\n",
       "    </tr>\n",
       "    <tr>\n",
       "      <th>3</th>\n",
       "      <td>1</td>\n",
       "      <td>2694.78</td>\n",
       "      <td>19</td>\n",
       "      <td>2021-08-11</td>\n",
       "      <td>8</td>\n",
       "      <td>Кира</td>\n",
       "      <td>22</td>\n",
       "      <td>Тюмень</td>\n",
       "      <td>ultra</td>\n",
       "      <td>6</td>\n",
       "      <td>0</td>\n",
       "      <td>199</td>\n",
       "    </tr>\n",
       "    <tr>\n",
       "      <th>4</th>\n",
       "      <td>1</td>\n",
       "      <td>4028.69</td>\n",
       "      <td>27</td>\n",
       "      <td>2021-08-28</td>\n",
       "      <td>8</td>\n",
       "      <td>Кира</td>\n",
       "      <td>22</td>\n",
       "      <td>Тюмень</td>\n",
       "      <td>ultra</td>\n",
       "      <td>6</td>\n",
       "      <td>0</td>\n",
       "      <td>199</td>\n",
       "    </tr>\n",
       "  </tbody>\n",
       "</table>\n",
       "</div>"
      ],
      "text/plain": [
       "   user_id  distance  duration       date  month  name  age    city  \\\n",
       "0        1   4409.92        26 2021-01-01      1  Кира   22  Тюмень   \n",
       "1        1   2617.59        16 2021-01-18      1  Кира   22  Тюмень   \n",
       "2        1    754.16         7 2021-04-20      4  Кира   22  Тюмень   \n",
       "3        1   2694.78        19 2021-08-11      8  Кира   22  Тюмень   \n",
       "4        1   4028.69        27 2021-08-28      8  Кира   22  Тюмень   \n",
       "\n",
       "  subscription_type  minute_price  start_ride_price  subscription_fee  \n",
       "0             ultra             6                 0               199  \n",
       "1             ultra             6                 0               199  \n",
       "2             ultra             6                 0               199  \n",
       "3             ultra             6                 0               199  \n",
       "4             ultra             6                 0               199  "
      ]
     },
     "execution_count": 40,
     "metadata": {},
     "output_type": "execute_result"
    }
   ],
   "source": [
    "#округлим каждое значение из столбца duration \n",
    "total['duration'] = np.ceil(total['duration']).astype('int')\n",
    "\n",
    "#проверим результат\n",
    "total.head()"
   ]
  },
  {
   "cell_type": "code",
   "execution_count": 41,
   "id": "591b80b9",
   "metadata": {},
   "outputs": [
    {
     "data": {
      "text/html": [
       "<div>\n",
       "<style scoped>\n",
       "    .dataframe tbody tr th:only-of-type {\n",
       "        vertical-align: middle;\n",
       "    }\n",
       "\n",
       "    .dataframe tbody tr th {\n",
       "        vertical-align: top;\n",
       "    }\n",
       "\n",
       "    .dataframe thead th {\n",
       "        text-align: right;\n",
       "    }\n",
       "</style>\n",
       "<table border=\"1\" class=\"dataframe\">\n",
       "  <thead>\n",
       "    <tr style=\"text-align: right;\">\n",
       "      <th></th>\n",
       "      <th>user_id</th>\n",
       "      <th>month</th>\n",
       "      <th>count_distance</th>\n",
       "      <th>sum_distance</th>\n",
       "      <th>sum_duration</th>\n",
       "    </tr>\n",
       "  </thead>\n",
       "  <tbody>\n",
       "    <tr>\n",
       "      <th>0</th>\n",
       "      <td>1</td>\n",
       "      <td>1</td>\n",
       "      <td>2</td>\n",
       "      <td>7027.51</td>\n",
       "      <td>42</td>\n",
       "    </tr>\n",
       "    <tr>\n",
       "      <th>1</th>\n",
       "      <td>1</td>\n",
       "      <td>4</td>\n",
       "      <td>1</td>\n",
       "      <td>754.16</td>\n",
       "      <td>7</td>\n",
       "    </tr>\n",
       "    <tr>\n",
       "      <th>2</th>\n",
       "      <td>1</td>\n",
       "      <td>8</td>\n",
       "      <td>2</td>\n",
       "      <td>6723.47</td>\n",
       "      <td>46</td>\n",
       "    </tr>\n",
       "    <tr>\n",
       "      <th>3</th>\n",
       "      <td>1</td>\n",
       "      <td>10</td>\n",
       "      <td>2</td>\n",
       "      <td>5809.91</td>\n",
       "      <td>32</td>\n",
       "    </tr>\n",
       "    <tr>\n",
       "      <th>4</th>\n",
       "      <td>1</td>\n",
       "      <td>11</td>\n",
       "      <td>3</td>\n",
       "      <td>7003.50</td>\n",
       "      <td>56</td>\n",
       "    </tr>\n",
       "    <tr>\n",
       "      <th>5</th>\n",
       "      <td>1</td>\n",
       "      <td>12</td>\n",
       "      <td>2</td>\n",
       "      <td>6751.63</td>\n",
       "      <td>28</td>\n",
       "    </tr>\n",
       "    <tr>\n",
       "      <th>6</th>\n",
       "      <td>2</td>\n",
       "      <td>3</td>\n",
       "      <td>3</td>\n",
       "      <td>10187.72</td>\n",
       "      <td>63</td>\n",
       "    </tr>\n",
       "    <tr>\n",
       "      <th>7</th>\n",
       "      <td>2</td>\n",
       "      <td>4</td>\n",
       "      <td>2</td>\n",
       "      <td>6164.38</td>\n",
       "      <td>40</td>\n",
       "    </tr>\n",
       "    <tr>\n",
       "      <th>8</th>\n",
       "      <td>2</td>\n",
       "      <td>6</td>\n",
       "      <td>1</td>\n",
       "      <td>3255.34</td>\n",
       "      <td>14</td>\n",
       "    </tr>\n",
       "    <tr>\n",
       "      <th>9</th>\n",
       "      <td>2</td>\n",
       "      <td>7</td>\n",
       "      <td>2</td>\n",
       "      <td>6780.72</td>\n",
       "      <td>48</td>\n",
       "    </tr>\n",
       "  </tbody>\n",
       "</table>\n",
       "</div>"
      ],
      "text/plain": [
       "   user_id  month  count_distance  sum_distance  sum_duration\n",
       "0        1      1               2       7027.51            42\n",
       "1        1      4               1        754.16             7\n",
       "2        1      8               2       6723.47            46\n",
       "3        1     10               2       5809.91            32\n",
       "4        1     11               3       7003.50            56\n",
       "5        1     12               2       6751.63            28\n",
       "6        2      3               3      10187.72            63\n",
       "7        2      4               2       6164.38            40\n",
       "8        2      6               1       3255.34            14\n",
       "9        2      7               2       6780.72            48"
      ]
     },
     "execution_count": 41,
     "metadata": {},
     "output_type": "execute_result"
    }
   ],
   "source": [
    "total_agg = total.pivot_table(index= ['user_id', 'month'], values= ['distance', 'duration'], aggfunc= ['count','sum'])\n",
    "total_agg.drop(total_agg.columns[[1]], axis = 1, inplace=True)\n",
    "total_agg.columns = ['count_distance', 'sum_distance', 'sum_duration']\n",
    "total_agg = total_agg.reset_index()\n",
    "total_agg.head(10)"
   ]
  },
  {
   "cell_type": "markdown",
   "id": "0d242e2d",
   "metadata": {},
   "source": [
    "##### Добавим столбец с помесячной выручкой, которую принёс каждый пользователь"
   ]
  },
  {
   "cell_type": "code",
   "execution_count": 42,
   "id": "facd0476",
   "metadata": {},
   "outputs": [
    {
     "data": {
      "text/html": [
       "<div>\n",
       "<style scoped>\n",
       "    .dataframe tbody tr th:only-of-type {\n",
       "        vertical-align: middle;\n",
       "    }\n",
       "\n",
       "    .dataframe tbody tr th {\n",
       "        vertical-align: top;\n",
       "    }\n",
       "\n",
       "    .dataframe thead th {\n",
       "        text-align: right;\n",
       "    }\n",
       "</style>\n",
       "<table border=\"1\" class=\"dataframe\">\n",
       "  <thead>\n",
       "    <tr style=\"text-align: right;\">\n",
       "      <th></th>\n",
       "      <th>user_id</th>\n",
       "      <th>month</th>\n",
       "      <th>count_distance</th>\n",
       "      <th>sum_distance</th>\n",
       "      <th>sum_duration</th>\n",
       "      <th>name</th>\n",
       "      <th>age</th>\n",
       "      <th>city</th>\n",
       "      <th>subscription_type</th>\n",
       "      <th>minute_price</th>\n",
       "      <th>start_ride_price</th>\n",
       "      <th>subscription_fee</th>\n",
       "    </tr>\n",
       "  </thead>\n",
       "  <tbody>\n",
       "    <tr>\n",
       "      <th>0</th>\n",
       "      <td>1</td>\n",
       "      <td>1</td>\n",
       "      <td>2</td>\n",
       "      <td>7027.51</td>\n",
       "      <td>42</td>\n",
       "      <td>Кира</td>\n",
       "      <td>22</td>\n",
       "      <td>Тюмень</td>\n",
       "      <td>ultra</td>\n",
       "      <td>6</td>\n",
       "      <td>0</td>\n",
       "      <td>199</td>\n",
       "    </tr>\n",
       "    <tr>\n",
       "      <th>1</th>\n",
       "      <td>1</td>\n",
       "      <td>4</td>\n",
       "      <td>1</td>\n",
       "      <td>754.16</td>\n",
       "      <td>7</td>\n",
       "      <td>Кира</td>\n",
       "      <td>22</td>\n",
       "      <td>Тюмень</td>\n",
       "      <td>ultra</td>\n",
       "      <td>6</td>\n",
       "      <td>0</td>\n",
       "      <td>199</td>\n",
       "    </tr>\n",
       "    <tr>\n",
       "      <th>2</th>\n",
       "      <td>1</td>\n",
       "      <td>8</td>\n",
       "      <td>2</td>\n",
       "      <td>6723.47</td>\n",
       "      <td>46</td>\n",
       "      <td>Кира</td>\n",
       "      <td>22</td>\n",
       "      <td>Тюмень</td>\n",
       "      <td>ultra</td>\n",
       "      <td>6</td>\n",
       "      <td>0</td>\n",
       "      <td>199</td>\n",
       "    </tr>\n",
       "    <tr>\n",
       "      <th>3</th>\n",
       "      <td>1</td>\n",
       "      <td>10</td>\n",
       "      <td>2</td>\n",
       "      <td>5809.91</td>\n",
       "      <td>32</td>\n",
       "      <td>Кира</td>\n",
       "      <td>22</td>\n",
       "      <td>Тюмень</td>\n",
       "      <td>ultra</td>\n",
       "      <td>6</td>\n",
       "      <td>0</td>\n",
       "      <td>199</td>\n",
       "    </tr>\n",
       "    <tr>\n",
       "      <th>4</th>\n",
       "      <td>1</td>\n",
       "      <td>11</td>\n",
       "      <td>3</td>\n",
       "      <td>7003.50</td>\n",
       "      <td>56</td>\n",
       "      <td>Кира</td>\n",
       "      <td>22</td>\n",
       "      <td>Тюмень</td>\n",
       "      <td>ultra</td>\n",
       "      <td>6</td>\n",
       "      <td>0</td>\n",
       "      <td>199</td>\n",
       "    </tr>\n",
       "  </tbody>\n",
       "</table>\n",
       "</div>"
      ],
      "text/plain": [
       "   user_id  month  count_distance  sum_distance  sum_duration  name  age  \\\n",
       "0        1      1               2       7027.51            42  Кира   22   \n",
       "1        1      4               1        754.16             7  Кира   22   \n",
       "2        1      8               2       6723.47            46  Кира   22   \n",
       "3        1     10               2       5809.91            32  Кира   22   \n",
       "4        1     11               3       7003.50            56  Кира   22   \n",
       "\n",
       "     city subscription_type  minute_price  start_ride_price  subscription_fee  \n",
       "0  Тюмень             ultra             6                 0               199  \n",
       "1  Тюмень             ultra             6                 0               199  \n",
       "2  Тюмень             ultra             6                 0               199  \n",
       "3  Тюмень             ultra             6                 0               199  \n",
       "4  Тюмень             ultra             6                 0               199  "
      ]
     },
     "execution_count": 42,
     "metadata": {},
     "output_type": "execute_result"
    }
   ],
   "source": [
    "#присоединим таблицы с Пользователями и Подписками к агрегированному датафрейму, чтобы провести расчеты\n",
    "total_agg = total_agg.merge(users, how='left', on='user_id')\n",
    "total_agg = total_agg.merge(subscriptions, how = 'left', on='subscription_type')\n",
    "\n",
    "#проверим результат\n",
    "total_agg.head()"
   ]
  },
  {
   "cell_type": "code",
   "execution_count": 43,
   "id": "f3d3c622",
   "metadata": {},
   "outputs": [
    {
     "data": {
      "text/html": [
       "<div>\n",
       "<style scoped>\n",
       "    .dataframe tbody tr th:only-of-type {\n",
       "        vertical-align: middle;\n",
       "    }\n",
       "\n",
       "    .dataframe tbody tr th {\n",
       "        vertical-align: top;\n",
       "    }\n",
       "\n",
       "    .dataframe thead th {\n",
       "        text-align: right;\n",
       "    }\n",
       "</style>\n",
       "<table border=\"1\" class=\"dataframe\">\n",
       "  <thead>\n",
       "    <tr style=\"text-align: right;\">\n",
       "      <th></th>\n",
       "      <th>user_id</th>\n",
       "      <th>month</th>\n",
       "      <th>count_distance</th>\n",
       "      <th>sum_distance</th>\n",
       "      <th>sum_duration</th>\n",
       "      <th>name</th>\n",
       "      <th>age</th>\n",
       "      <th>city</th>\n",
       "      <th>subscription_type</th>\n",
       "      <th>minute_price</th>\n",
       "      <th>start_ride_price</th>\n",
       "      <th>subscription_fee</th>\n",
       "      <th>month_profit</th>\n",
       "    </tr>\n",
       "  </thead>\n",
       "  <tbody>\n",
       "    <tr>\n",
       "      <th>0</th>\n",
       "      <td>1</td>\n",
       "      <td>1</td>\n",
       "      <td>2</td>\n",
       "      <td>7027.51</td>\n",
       "      <td>42</td>\n",
       "      <td>Кира</td>\n",
       "      <td>22</td>\n",
       "      <td>Тюмень</td>\n",
       "      <td>ultra</td>\n",
       "      <td>6</td>\n",
       "      <td>0</td>\n",
       "      <td>199</td>\n",
       "      <td>451</td>\n",
       "    </tr>\n",
       "    <tr>\n",
       "      <th>1</th>\n",
       "      <td>1</td>\n",
       "      <td>4</td>\n",
       "      <td>1</td>\n",
       "      <td>754.16</td>\n",
       "      <td>7</td>\n",
       "      <td>Кира</td>\n",
       "      <td>22</td>\n",
       "      <td>Тюмень</td>\n",
       "      <td>ultra</td>\n",
       "      <td>6</td>\n",
       "      <td>0</td>\n",
       "      <td>199</td>\n",
       "      <td>241</td>\n",
       "    </tr>\n",
       "    <tr>\n",
       "      <th>2</th>\n",
       "      <td>1</td>\n",
       "      <td>8</td>\n",
       "      <td>2</td>\n",
       "      <td>6723.47</td>\n",
       "      <td>46</td>\n",
       "      <td>Кира</td>\n",
       "      <td>22</td>\n",
       "      <td>Тюмень</td>\n",
       "      <td>ultra</td>\n",
       "      <td>6</td>\n",
       "      <td>0</td>\n",
       "      <td>199</td>\n",
       "      <td>475</td>\n",
       "    </tr>\n",
       "    <tr>\n",
       "      <th>3</th>\n",
       "      <td>1</td>\n",
       "      <td>10</td>\n",
       "      <td>2</td>\n",
       "      <td>5809.91</td>\n",
       "      <td>32</td>\n",
       "      <td>Кира</td>\n",
       "      <td>22</td>\n",
       "      <td>Тюмень</td>\n",
       "      <td>ultra</td>\n",
       "      <td>6</td>\n",
       "      <td>0</td>\n",
       "      <td>199</td>\n",
       "      <td>391</td>\n",
       "    </tr>\n",
       "    <tr>\n",
       "      <th>4</th>\n",
       "      <td>1</td>\n",
       "      <td>11</td>\n",
       "      <td>3</td>\n",
       "      <td>7003.50</td>\n",
       "      <td>56</td>\n",
       "      <td>Кира</td>\n",
       "      <td>22</td>\n",
       "      <td>Тюмень</td>\n",
       "      <td>ultra</td>\n",
       "      <td>6</td>\n",
       "      <td>0</td>\n",
       "      <td>199</td>\n",
       "      <td>535</td>\n",
       "    </tr>\n",
       "  </tbody>\n",
       "</table>\n",
       "</div>"
      ],
      "text/plain": [
       "   user_id  month  count_distance  sum_distance  sum_duration  name  age  \\\n",
       "0        1      1               2       7027.51            42  Кира   22   \n",
       "1        1      4               1        754.16             7  Кира   22   \n",
       "2        1      8               2       6723.47            46  Кира   22   \n",
       "3        1     10               2       5809.91            32  Кира   22   \n",
       "4        1     11               3       7003.50            56  Кира   22   \n",
       "\n",
       "     city subscription_type  minute_price  start_ride_price  subscription_fee  \\\n",
       "0  Тюмень             ultra             6                 0               199   \n",
       "1  Тюмень             ultra             6                 0               199   \n",
       "2  Тюмень             ultra             6                 0               199   \n",
       "3  Тюмень             ultra             6                 0               199   \n",
       "4  Тюмень             ultra             6                 0               199   \n",
       "\n",
       "   month_profit  \n",
       "0           451  \n",
       "1           241  \n",
       "2           475  \n",
       "3           391  \n",
       "4           535  "
      ]
     },
     "execution_count": 43,
     "metadata": {},
     "output_type": "execute_result"
    }
   ],
   "source": [
    "#проведем расчет\n",
    "total_agg['month_profit'] = total_agg['start_ride_price'] * total_agg['count_distance'] + total_agg['minute_price'] * total_agg['sum_duration'] + total_agg['subscription_fee']\n",
    "\n",
    "#проверим результат\n",
    "total_agg.head()"
   ]
  },
  {
   "cell_type": "markdown",
   "id": "0a48ad9b",
   "metadata": {},
   "source": [
    "**Вывод:**\\\n",
    "На этом этапе была подсчитана помесячная выручка от каждого пользователя. Для этого мы создали датафрейм с агрегированными данными о поездках (```total_agg```) на основе датафрейма с объединёнными данными из предыдущего этапа (```total```). Затем добавили в него столбцы из датафреймов ```users``` и ```subscriptions```, провели расчет и записали его в новый столбец - ```month_profit```."
   ]
  },
  {
   "cell_type": "markdown",
   "id": "41545ac0",
   "metadata": {},
   "source": [
    "#### Шаг 6. Проверка гипотез"
   ]
  },
  {
   "cell_type": "markdown",
   "id": "0933ea8b",
   "metadata": {},
   "source": [
    "##### Проверим, тратят ли пользователи с подпиской больше времени на поездки"
   ]
  },
  {
   "cell_type": "markdown",
   "id": "331473f7",
   "metadata": {},
   "source": [
    "- Нулевая гипотеза: пользователи с подпиской и без тратят одинаковое время на поездки. \n",
    "- Альтернативная гипотеза: пользователи с подпиской тратят больше времени на поездки, чем пользователи без подписки. \n",
    "\n",
    "Для исследования мы имеем два массива данных о продолжительности каждой сессии - отдельно для подписчиков и тех, у кого нет подписки."
   ]
  },
  {
   "cell_type": "code",
   "execution_count": 44,
   "id": "bd2d70bc",
   "metadata": {},
   "outputs": [
    {
     "name": "stdout",
     "output_type": "stream",
     "text": [
      "p-value: 1.2804098316645618e-34\n",
      "Отвергаем нулевую гипотезу\n"
     ]
    }
   ],
   "source": [
    "alpha = 0.05 #уровень статистической значимости\n",
    "\n",
    "results = st.ttest_ind(total_ultra['duration'], total_free['duration'], alternative='greater')\n",
    "print('p-value:', results.pvalue)\n",
    "if (results.pvalue < alpha):\n",
    "    print('Отвергаем нулевую гипотезу')\n",
    "else:\n",
    "    print('Не отвергаем нулевую гипотезу')"
   ]
  },
  {
   "cell_type": "markdown",
   "id": "30dea268",
   "metadata": {},
   "source": [
    "**Вывод:** Проверка гипотезы подтвердила расчет средних значений, который мы делали в пункте 4.3:"
   ]
  },
  {
   "cell_type": "code",
   "execution_count": 45,
   "id": "790602b4",
   "metadata": {},
   "outputs": [
    {
     "data": {
      "text/html": [
       "<div>\n",
       "<style scoped>\n",
       "    .dataframe tbody tr th:only-of-type {\n",
       "        vertical-align: middle;\n",
       "    }\n",
       "\n",
       "    .dataframe tbody tr th {\n",
       "        vertical-align: top;\n",
       "    }\n",
       "\n",
       "    .dataframe thead th {\n",
       "        text-align: right;\n",
       "    }\n",
       "</style>\n",
       "<table border=\"1\" class=\"dataframe\">\n",
       "  <thead>\n",
       "    <tr style=\"text-align: right;\">\n",
       "      <th></th>\n",
       "      <th>Среднее расстояние</th>\n",
       "      <th>Средняя продолжительность</th>\n",
       "    </tr>\n",
       "    <tr>\n",
       "      <th>subscription_type</th>\n",
       "      <th></th>\n",
       "      <th></th>\n",
       "    </tr>\n",
       "  </thead>\n",
       "  <tbody>\n",
       "    <tr>\n",
       "      <th>free</th>\n",
       "      <td>3045.50</td>\n",
       "      <td>17.39</td>\n",
       "    </tr>\n",
       "    <tr>\n",
       "      <th>ultra</th>\n",
       "      <td>3115.45</td>\n",
       "      <td>18.54</td>\n",
       "    </tr>\n",
       "  </tbody>\n",
       "</table>\n",
       "</div>"
      ],
      "text/plain": [
       "                   Среднее расстояние  Средняя продолжительность\n",
       "subscription_type                                               \n",
       "free                          3045.50                      17.39\n",
       "ultra                         3115.45                      18.54"
      ]
     },
     "execution_count": 45,
     "metadata": {},
     "output_type": "execute_result"
    }
   ],
   "source": [
    "total_vs"
   ]
  },
  {
   "cell_type": "markdown",
   "id": "0dde3493",
   "metadata": {},
   "source": [
    "Действительно можно сказать о том, что пользователи с подпиской тратят в среднем больше времени на поездки, чем пользователи без подписки."
   ]
  },
  {
   "cell_type": "markdown",
   "id": "4570d11f",
   "metadata": {},
   "source": [
    "##### Проверим, превышает ли дистанцию в 3130 метров среднее расстояние, которое проезжают пользователи с подпиской за одну поездку"
   ]
  },
  {
   "cell_type": "markdown",
   "id": "96ddd8af",
   "metadata": {},
   "source": [
    "- Нулевая гипотеза: среднее расстояние, которое проезжают пользователи с подпиской за одну поездку, меньше либо равно 3130 м.\n",
    "- Альтернативная гипотеза: среднее расстояние, которое проезжают пользователи с подпиской за одну поездку, больше 3130 м."
   ]
  },
  {
   "cell_type": "code",
   "execution_count": 46,
   "id": "c3731200",
   "metadata": {},
   "outputs": [
    {
     "name": "stdout",
     "output_type": "stream",
     "text": [
      "p-value: 0.9195368847849785\n",
      "Не отвергаем нулевую гипотезу\n"
     ]
    }
   ],
   "source": [
    "alpha = 0.05 \n",
    "\n",
    "value = 3130\n",
    "results = st.ttest_1samp(total_ultra['distance'], value, alternative='greater')\n",
    "print('p-value:', results.pvalue)\n",
    "if (results.pvalue < alpha):\n",
    "    print('Отвергаем нулевую гипотезу')\n",
    "else:\n",
    "    print('Не отвергаем нулевую гипотезу')"
   ]
  },
  {
   "cell_type": "markdown",
   "id": "4d1ee7c2",
   "metadata": {},
   "source": [
    "**Вывод:** Проверка гипотез говорит о том, что мы можем согласиться с тем, что среднее расстояние, которое проезжают пользователи с подпиской за одну поездку, не превышает 3130 м. Если ориентироваться на среднее значение расстояний, приведенное в таблице:"
   ]
  },
  {
   "cell_type": "code",
   "execution_count": 47,
   "id": "c5f96219",
   "metadata": {},
   "outputs": [
    {
     "data": {
      "text/html": [
       "<div>\n",
       "<style scoped>\n",
       "    .dataframe tbody tr th:only-of-type {\n",
       "        vertical-align: middle;\n",
       "    }\n",
       "\n",
       "    .dataframe tbody tr th {\n",
       "        vertical-align: top;\n",
       "    }\n",
       "\n",
       "    .dataframe thead th {\n",
       "        text-align: right;\n",
       "    }\n",
       "</style>\n",
       "<table border=\"1\" class=\"dataframe\">\n",
       "  <thead>\n",
       "    <tr style=\"text-align: right;\">\n",
       "      <th></th>\n",
       "      <th>Среднее расстояние</th>\n",
       "      <th>Средняя продолжительность</th>\n",
       "    </tr>\n",
       "    <tr>\n",
       "      <th>subscription_type</th>\n",
       "      <th></th>\n",
       "      <th></th>\n",
       "    </tr>\n",
       "  </thead>\n",
       "  <tbody>\n",
       "    <tr>\n",
       "      <th>free</th>\n",
       "      <td>3045.50</td>\n",
       "      <td>17.39</td>\n",
       "    </tr>\n",
       "    <tr>\n",
       "      <th>ultra</th>\n",
       "      <td>3115.45</td>\n",
       "      <td>18.54</td>\n",
       "    </tr>\n",
       "  </tbody>\n",
       "</table>\n",
       "</div>"
      ],
      "text/plain": [
       "                   Среднее расстояние  Средняя продолжительность\n",
       "subscription_type                                               \n",
       "free                          3045.50                      17.39\n",
       "ultra                         3115.45                      18.54"
      ]
     },
     "execution_count": 47,
     "metadata": {},
     "output_type": "execute_result"
    }
   ],
   "source": [
    "total_vs"
   ]
  },
  {
   "cell_type": "markdown",
   "id": "d3880bb5",
   "metadata": {},
   "source": [
    "мы видим, что оно составляет 3115.45 м, что действительно меньше 3130 м."
   ]
  },
  {
   "cell_type": "markdown",
   "id": "767858c5",
   "metadata": {},
   "source": [
    "##### Проверим, будет ли помесячная выручка от пользователей с подпиской выше, чем  от пользователей без подписки"
   ]
  },
  {
   "cell_type": "markdown",
   "id": "c92cabd0",
   "metadata": {},
   "source": [
    "- Нулевая гипотеза: помесячная выручка от пользователей с подпиской равна помесячной выручке от пользователей без подписки.\n",
    "- Альтернативная гипотеза: помесячная выручка от пользователей с подпиской выше, чем от пользователей без подписки."
   ]
  },
  {
   "cell_type": "code",
   "execution_count": 48,
   "id": "6f54fa26",
   "metadata": {},
   "outputs": [],
   "source": [
    "#создадим два новых датафрейма с рассчитанной выручкой по категориям подписок\n",
    "total_agg_ultra = total_agg[total_agg['subscription_type'] == 'ultra']\n",
    "total_agg_free = total_agg[total_agg['subscription_type'] == 'free']"
   ]
  },
  {
   "cell_type": "code",
   "execution_count": 49,
   "id": "32270437",
   "metadata": {},
   "outputs": [
    {
     "name": "stdout",
     "output_type": "stream",
     "text": [
      "p-value: 1.8850394384715216e-31\n",
      "Отвергаем нулевую гипотезу\n"
     ]
    }
   ],
   "source": [
    "alpha = 0.05 \n",
    "\n",
    "results = st.ttest_ind(total_agg_ultra['month_profit'], total_agg_free['month_profit'], alternative='greater')\n",
    "print('p-value:', results.pvalue)\n",
    "if (results.pvalue < alpha):\n",
    "    print('Отвергаем нулевую гипотезу')\n",
    "else:\n",
    "    print('Не отвергаем нулевую гипотезу')"
   ]
  },
  {
   "cell_type": "code",
   "execution_count": 50,
   "id": "03285fbe",
   "metadata": {},
   "outputs": [
    {
     "name": "stdout",
     "output_type": "stream",
     "text": [
      "Средняя помесячная выручка от пользователей с подпиской: 362.79\n",
      "Средняя помесячная выручка от пользователей без подписки: 328.64\n"
     ]
    }
   ],
   "source": [
    "#проверим средними значениями\n",
    "print('Средняя помесячная выручка от пользователей с подпиской:', round(total_agg_ultra['month_profit'].mean(),2))\n",
    "print('Средняя помесячная выручка от пользователей без подписки:', round(total_agg_free['month_profit'].mean(),2))"
   ]
  },
  {
   "cell_type": "markdown",
   "id": "6fa5138d",
   "metadata": {},
   "source": [
    "**Вывод:** По результатам данного теста и подсчета средних значений есть основания говорить, что помесячная выручка от пользователей с подпиской больше."
   ]
  },
  {
   "cell_type": "markdown",
   "id": "ad6c1da5",
   "metadata": {},
   "source": [
    "##### Техническая команда сервиса обновила сервера, с которыми взаимодействует мобильное приложение. Она надеется, что из-за этого количество обращений в техподдержку значимо снизилось. Некоторый файл содержит для каждого пользователя данные о количестве обращений до обновления и после него. "
   ]
  },
  {
   "cell_type": "markdown",
   "id": "dab3f5aa",
   "metadata": {},
   "source": [
    "Нам дана одна генеральная совокупность, с которой произошли некоторые изменения. В этом случае мы будем проверять, равны ли средние совокупности до и после этого изменения. Так как это гипотеза о равенстве средних для зависимых (парных) выборок, нам понадобится метод ```scipy.stats.ttest_rel()```. В метод мы передаём 2 параметра: набор данных до и после изменения."
   ]
  },
  {
   "cell_type": "markdown",
   "id": "61213c5e",
   "metadata": {},
   "source": [
    "#### Шаг 7. Распределения"
   ]
  },
  {
   "cell_type": "markdown",
   "id": "5dd9ba7e",
   "metadata": {},
   "source": [
    "Отделу маркетинга поставили задачу: нужно провести акцию с раздачей промокодов на один бесплатный месяц подписки, в рамках которой как минимум 100 существующих клиентов должны продлить эту подписку. То есть по завершении периода действия подписки пользователь может либо отказаться от неё, либо продлить, совершив соответствующий платёж. Эта акция уже проводилась ранее и по итогу выяснилось, что после бесплатного пробного периода подписку продлевают 10 % пользователей. Необходимо выяснить, какое минимальное количество промокодов нужно разослать, чтобы вероятность не выполнить план была примерно 5 %."
   ]
  },
  {
   "cell_type": "markdown",
   "id": "930260bc",
   "metadata": {},
   "source": [
    "Описанная ситуация подходит по описанию на биномиальное распределение"
   ]
  },
  {
   "cell_type": "code",
   "execution_count": 51,
   "id": "baf06986",
   "metadata": {},
   "outputs": [
    {
     "name": "stderr",
     "output_type": "stream",
     "text": [
      "/opt/conda/lib/python3.9/site-packages/scipy/stats/_discrete_distns.py:78: RuntimeWarning: divide by zero encountered in _binom_pdf\n",
      "  return _boost._binom_pdf(x, n, p)\n"
     ]
    },
    {
     "data": {
      "image/png": "[encoded data removed]",
      "text/plain": [
       "<Figure size 432x288 with 1 Axes>"
      ]
     },
     "metadata": {
      "needs_background": "light"
     },
     "output_type": "display_data"
    }
   ],
   "source": [
    "n = 1000 # количество попыток\n",
    "p = 0.1 # вероятность успеха\n",
    "\n",
    "distr = []\n",
    "\n",
    "for k in range(0, n + 1):\n",
    "    current_value = binom.pmf(k, n, p)\n",
    "    distr.append(current_value)\n",
    "\n",
    "plt.bar(range(0, n + 1), distr)\n",
    "plt.title('График биномиального распределения')\n",
    "plt.ylabel('Вероятность успеха')\n",
    "plt.xlabel('Кол-во попыток')\n",
    "plt.show()  "
   ]
  },
  {
   "cell_type": "markdown",
   "id": "fb7c7836",
   "metadata": {},
   "source": [
    "Определим ```n```, необходимое для выполнения условия. В диапазоне ```(n - 500, n + 500)``` определим минимальное количество промокодов, чтобы вероятность не выполнить план была не больше 5%."
   ]
  },
  {
   "cell_type": "code",
   "execution_count": 52,
   "id": "1db65266",
   "metadata": {},
   "outputs": [
    {
     "name": "stdout",
     "output_type": "stream",
     "text": [
      "Минимальное кол-во промокодов: 1161\n"
     ]
    }
   ],
   "source": [
    "for n in range (500, 1500):\n",
    "    if binom.cdf(99, n, p) <= 0.05:\n",
    "        print(\"Минимальное кол-во промокодов:\", n)\n",
    "        break"
   ]
  },
  {
   "cell_type": "markdown",
   "id": "562c333d",
   "metadata": {},
   "source": [
    "Мы определили тип распределения - биномиальный, построили его график с количеством попыток ```n = 1000```. Затем использовали кумулятивную функцию распределения, чтобы вычислить минимальное количество попыток (= минимальное количество промокодов), чтобы вероятность неудачи была не более 5%. Таким образом, чтобы вероятность не выполнить план была примерно 5 %, нужно разослать минимум 1161 промокод."
   ]
  },
  {
   "cell_type": "markdown",
   "id": "34b8e90a",
   "metadata": {},
   "source": [
    "Отдел маркетинга рассылает клиентам push-уведомления в мобильном приложении. Клиенты могут открыть его или не открывать. Известно, что уведомления открывают около 40 % получивших клиентов. Отдел планирует разослать 1 млн уведомлений. С помощью аппроксимации нужно построить примерный график распределения и оценить вероятность того, что уведомление откроют не более 399,5 тыс. пользователей."
   ]
  },
  {
   "cell_type": "markdown",
   "id": "b11ae9df",
   "metadata": {},
   "source": [
    "Описанная ситуация подходит по описанию на биномиальное распределение. Аппроксимируем биномиальное распределение нормальным и посчитаем."
   ]
  },
  {
   "cell_type": "code",
   "execution_count": 53,
   "id": "c6b3fe07",
   "metadata": {},
   "outputs": [
    {
     "data": {
      "image/png": "[encoded data removed]",
      "text/plain": [
       "<Figure size 432x288 with 1 Axes>"
      ]
     },
     "metadata": {
      "needs_background": "light"
     },
     "output_type": "display_data"
    },
    {
     "name": "stdout",
     "output_type": "stream",
     "text": [
      "Условие выполняется\n"
     ]
    }
   ],
   "source": [
    "#зададим функцию, которая выдаёт num чисел, равномерно распределённых от start до stop\n",
    "def linspace(start, stop, num):\n",
    "    step = (stop - start) / (num - 1)\n",
    "    result = []\n",
    "    for i in range(num):\n",
    "        result.append(start + step * i)\n",
    "    return result\n",
    " \n",
    "#задаём параметры биномиального распределения\n",
    "n = 1000000\n",
    "p = 0.4\n",
    " \n",
    "#границы промежутка, в котором будем строить аппроксимацию\n",
    "left = int(n * p - 4 * sqrt(n * p * (1 - p)))\n",
    "right = int(n * p + 4 * sqrt(n * p * (1 - p)))\n",
    " \n",
    "#зададим набор значений биномиальной величины на выбранном промежутке\n",
    "x = list(range(max(0, left), right))\n",
    " \n",
    "#рисуем график биномиального распределения\n",
    "ax = plt.subplot()\n",
    "ax.plot(x, binom.pmf(x, n, p), 'bo', ms=8, alpha=0.1,\n",
    "\t      label='вероятности биномиального распределения')\n",
    " \n",
    "#зададим параметры нормального распределения равными мат.ожиданию и дисперсии биномиального распределения\n",
    "mu = n * p\n",
    "sigma = sqrt(n * p * (1 - p))\n",
    " \n",
    "#рисуем график нормального распределения:\n",
    "x = linspace(left, right, 100)\n",
    "ax.plot(x, norm.pdf(x, mu, sigma), 'r-', lw=3, alpha=1, label='плотность вероятности нормального распределения')\n",
    "ax.legend(loc='best')\n",
    "plt.show()\n",
    " \n",
    "#выводим, выполняется ли условие аппроксимации\n",
    "if (mu - (3 * sigma) >= 0) and ((mu + (3 * sigma) <= n)):\n",
    "    print('Условие выполняется')\n",
    "else:\n",
    "    print('Условие не выполняется')"
   ]
  },
  {
   "cell_type": "code",
   "execution_count": 54,
   "id": "836c5611",
   "metadata": {},
   "outputs": [
    {
     "name": "stdout",
     "output_type": "stream",
     "text": [
      "Вероятность того, что push-уведомления откроют не более 399,5 тыс. пользователей равна 0.15\n"
     ]
    }
   ],
   "source": [
    "n = 1000000\n",
    "p = 0.4\n",
    "\n",
    "mu = n * p\n",
    "sigma = sqrt(n * p * (1 - p))\n",
    "\n",
    "#задаём нормальное распределение\n",
    "distr = st.norm(mu, sigma)\n",
    "\n",
    "x = 399500\n",
    "\n",
    "result = distr.cdf(x)\n",
    "\n",
    "print('Вероятность того, что push-уведомления откроют не более 399,5 тыс. пользователей равна',\n",
    "      round(result, 2))"
   ]
  },
  {
   "cell_type": "markdown",
   "id": "9110cef2",
   "metadata": {},
   "source": [
    "Мы определили тип распределения - биномиальный. Затем с помощью аппроксимации мы вычислили, что в условиях акции рассылки 1 млн push-уведомлений вероятность того, что откроют их не более 399,5 тыс. пользователей, равна 15%."
   ]
  },
  {
   "cell_type": "markdown",
   "id": "b95e85f7",
   "metadata": {},
   "source": [
    "# Общий вывод"
   ]
  },
  {
   "cell_type": "markdown",
   "id": "571f6586",
   "metadata": {},
   "source": [
    "Целью данного исследования было проанализировать данные о некоторых пользователях популярного сервиса аренды самокатов из нескольких городов, а также об их поездках и проверить несколько гипотез, которые могут помочь бизнесу вырасти.\n",
    "\n",
    "Первым этапом была выполнена работа по ознакомлению с данными и их предобработке. В работе у нас оказалось три таблицы: с информацией о пользователях, их поездках и подписках.\\\n",
    "Следующим этапом нами был проведен исследовательский анализ данных.\\\n",
    "Нами были сделаны следующие выводы:\n",
    "- Чаще всего сервисом аренды самокатов пользуются в Пятигорске (219 чел), а реже всего в Москве (168 чел), и связано это может быть с разным уровнем конкуренции сервисов аренды самокатов.\n",
    "- Пользователей с подпиской в сервисе меньше, чем без подписки: 639 чел против 835 чел.\n",
    "- Средний возраст пользователей сервиса - 25 лет, самым младшим пользователям по 12 лет, самому старшему - 43 года.\n",
    "- Самое популярное расстояние для передвижения на самокате у пользователей - чуть больше 3 км, оптимально для поездки на самокате.\n",
    "- Самый популярный интервал длительности поездок - от 17 до 18 минут.\n",
    "- Пользователей без подписки больше, но в среднем они совершают поездки короче по времени и дистанции, чем пользователи с подпиской.\n",
    "\n",
    "Далее нами была подсчитана помесячная выручка от каждого пользователя. После этого мы перешли к проверке гипотез и получили следующие результаты:\n",
    "- Можно сказать о том, что пользователи с подпиской тратят в среднем больше времени на поездки, чем пользователи без подписки.\n",
    "- Мы можем согласиться с тем, что среднее расстояние, которое проезжают пользователи с подпиской за одну поездку, не превышает 3130 м - оптимальное расстояние с точки зрения износа самоката.\n",
    "- Есть основания говорить, что помесячная выручка от пользователей с подпиской больше, чем от пользователей без подписки."
   ]
  }
 ],
 "metadata": {
  "ExecuteTimeLog": [
   {
    "duration": 1571,
    "start_time": "2023-10-09T06:13:01.434Z"
   },
   {
    "duration": 3,
    "start_time": "2023-10-09T06:13:44.276Z"
   },
   {
    "duration": 4,
    "start_time": "2023-10-09T06:15:44.938Z"
   },
   {
    "duration": 3,
    "start_time": "2023-10-09T06:17:03.781Z"
   },
   {
    "duration": 306,
    "start_time": "2023-10-09T06:21:40.140Z"
   },
   {
    "duration": 61,
    "start_time": "2023-10-09T06:25:34.287Z"
   },
   {
    "duration": 34,
    "start_time": "2023-10-09T06:26:44.850Z"
   },
   {
    "duration": 24,
    "start_time": "2023-10-09T06:27:49.175Z"
   },
   {
    "duration": 8,
    "start_time": "2023-10-09T06:40:45.660Z"
   },
   {
    "duration": 43,
    "start_time": "2023-10-09T06:41:20.615Z"
   },
   {
    "duration": 12,
    "start_time": "2023-10-09T06:44:22.817Z"
   },
   {
    "duration": 7,
    "start_time": "2023-10-09T06:48:14.897Z"
   },
   {
    "duration": 6,
    "start_time": "2023-10-09T06:49:47.460Z"
   },
   {
    "duration": 17,
    "start_time": "2023-10-09T06:51:04.294Z"
   },
   {
    "duration": 6,
    "start_time": "2023-10-09T06:53:49.367Z"
   },
   {
    "duration": 9,
    "start_time": "2023-10-09T06:55:51.184Z"
   },
   {
    "duration": 5,
    "start_time": "2023-10-09T06:57:13.648Z"
   },
   {
    "duration": 107,
    "start_time": "2023-10-09T07:01:53.616Z"
   },
   {
    "duration": 7,
    "start_time": "2023-10-09T07:02:32.725Z"
   },
   {
    "duration": 8,
    "start_time": "2023-10-09T07:03:22.614Z"
   },
   {
    "duration": 118,
    "start_time": "2023-10-09T07:03:34.328Z"
   },
   {
    "duration": 6,
    "start_time": "2023-10-09T07:03:45.281Z"
   },
   {
    "duration": 8,
    "start_time": "2023-10-09T07:04:48.690Z"
   },
   {
    "duration": 11,
    "start_time": "2023-10-09T07:08:34.600Z"
   },
   {
    "duration": 195,
    "start_time": "2023-10-09T08:43:50.570Z"
   },
   {
    "duration": 11,
    "start_time": "2023-10-09T08:44:00.678Z"
   },
   {
    "duration": 19,
    "start_time": "2023-10-09T08:49:22.071Z"
   },
   {
    "duration": 232,
    "start_time": "2023-10-09T08:49:35.298Z"
   },
   {
    "duration": 191,
    "start_time": "2023-10-09T08:49:39.842Z"
   },
   {
    "duration": 195,
    "start_time": "2023-10-09T08:50:19.555Z"
   },
   {
    "duration": 211,
    "start_time": "2023-10-09T08:50:48.238Z"
   },
   {
    "duration": 223,
    "start_time": "2023-10-09T08:51:03.593Z"
   },
   {
    "duration": 191,
    "start_time": "2023-10-09T08:51:12.587Z"
   },
   {
    "duration": 188,
    "start_time": "2023-10-09T08:51:31.786Z"
   },
   {
    "duration": 215,
    "start_time": "2023-10-09T08:52:59.778Z"
   },
   {
    "duration": 8,
    "start_time": "2023-10-09T08:53:42.766Z"
   },
   {
    "duration": 230,
    "start_time": "2023-10-09T09:05:18.763Z"
   },
   {
    "duration": 155,
    "start_time": "2023-10-09T09:05:28.106Z"
   },
   {
    "duration": 166,
    "start_time": "2023-10-09T09:06:20.464Z"
   },
   {
    "duration": 8,
    "start_time": "2023-10-09T09:07:02.825Z"
   },
   {
    "duration": 162,
    "start_time": "2023-10-09T09:08:22.168Z"
   },
   {
    "duration": 162,
    "start_time": "2023-10-09T09:08:30.572Z"
   },
   {
    "duration": 147,
    "start_time": "2023-10-09T09:08:55.477Z"
   },
   {
    "duration": 21,
    "start_time": "2023-10-09T09:09:00.330Z"
   },
   {
    "duration": 154,
    "start_time": "2023-10-09T09:09:06.006Z"
   },
   {
    "duration": 368,
    "start_time": "2023-10-09T09:15:24.776Z"
   },
   {
    "duration": 338,
    "start_time": "2023-10-09T09:16:24.078Z"
   },
   {
    "duration": 420,
    "start_time": "2023-10-09T09:16:39.319Z"
   },
   {
    "duration": 316,
    "start_time": "2023-10-09T09:16:55.326Z"
   },
   {
    "duration": 314,
    "start_time": "2023-10-09T09:17:33.560Z"
   },
   {
    "duration": 232,
    "start_time": "2023-10-09T09:18:46.588Z"
   },
   {
    "duration": 220,
    "start_time": "2023-10-09T09:19:53.422Z"
   },
   {
    "duration": 209,
    "start_time": "2023-10-09T09:20:06.434Z"
   },
   {
    "duration": 28,
    "start_time": "2023-10-09T09:21:53.087Z"
   },
   {
    "duration": 213,
    "start_time": "2023-10-09T09:22:42.449Z"
   },
   {
    "duration": 239,
    "start_time": "2023-10-09T09:23:09.076Z"
   },
   {
    "duration": 425,
    "start_time": "2023-10-09T09:23:29.777Z"
   },
   {
    "duration": 236,
    "start_time": "2023-10-09T09:24:21.031Z"
   },
   {
    "duration": 267,
    "start_time": "2023-10-09T09:24:33.378Z"
   },
   {
    "duration": 12,
    "start_time": "2023-10-09T09:26:15.228Z"
   },
   {
    "duration": 15,
    "start_time": "2023-10-09T09:34:22.394Z"
   },
   {
    "duration": 1246,
    "start_time": "2023-10-09T09:34:22.415Z"
   },
   {
    "duration": 4,
    "start_time": "2023-10-09T09:34:23.663Z"
   },
   {
    "duration": 130,
    "start_time": "2023-10-09T09:34:23.670Z"
   },
   {
    "duration": 45,
    "start_time": "2023-10-09T09:34:23.802Z"
   },
   {
    "duration": 46,
    "start_time": "2023-10-09T09:34:23.849Z"
   },
   {
    "duration": 57,
    "start_time": "2023-10-09T09:34:23.906Z"
   },
   {
    "duration": 40,
    "start_time": "2023-10-09T09:34:23.966Z"
   },
   {
    "duration": 14,
    "start_time": "2023-10-09T09:34:24.008Z"
   },
   {
    "duration": 18,
    "start_time": "2023-10-09T09:34:24.025Z"
   },
   {
    "duration": 45,
    "start_time": "2023-10-09T09:34:24.044Z"
   },
   {
    "duration": 33,
    "start_time": "2023-10-09T09:34:24.091Z"
   },
   {
    "duration": 17,
    "start_time": "2023-10-09T09:34:24.127Z"
   },
   {
    "duration": 20,
    "start_time": "2023-10-09T09:34:24.146Z"
   },
   {
    "duration": 253,
    "start_time": "2023-10-09T09:34:24.168Z"
   },
   {
    "duration": 9,
    "start_time": "2023-10-09T09:34:24.423Z"
   },
   {
    "duration": 231,
    "start_time": "2023-10-09T09:34:24.434Z"
   },
   {
    "duration": 11,
    "start_time": "2023-10-09T09:34:24.668Z"
   },
   {
    "duration": 342,
    "start_time": "2023-10-09T09:34:24.681Z"
   },
   {
    "duration": 10,
    "start_time": "2023-10-09T09:34:25.025Z"
   },
   {
    "duration": 26,
    "start_time": "2023-10-09T09:36:51.705Z"
   },
   {
    "duration": 1407,
    "start_time": "2023-10-09T09:36:51.744Z"
   },
   {
    "duration": 3,
    "start_time": "2023-10-09T09:36:53.153Z"
   },
   {
    "duration": 114,
    "start_time": "2023-10-09T09:36:53.158Z"
   },
   {
    "duration": 43,
    "start_time": "2023-10-09T09:36:53.274Z"
   },
   {
    "duration": 118,
    "start_time": "2023-10-09T09:36:53.319Z"
   },
   {
    "duration": 76,
    "start_time": "2023-10-09T09:36:53.439Z"
   },
   {
    "duration": 57,
    "start_time": "2023-10-09T09:36:53.517Z"
   },
   {
    "duration": 72,
    "start_time": "2023-10-09T09:36:53.576Z"
   },
   {
    "duration": 109,
    "start_time": "2023-10-09T09:36:53.650Z"
   },
   {
    "duration": 54,
    "start_time": "2023-10-09T09:36:53.761Z"
   },
   {
    "duration": 40,
    "start_time": "2023-10-09T09:36:53.817Z"
   },
   {
    "duration": 26,
    "start_time": "2023-10-09T09:36:53.859Z"
   },
   {
    "duration": 23,
    "start_time": "2023-10-09T09:36:53.888Z"
   },
   {
    "duration": 264,
    "start_time": "2023-10-09T09:36:53.914Z"
   },
   {
    "duration": 11,
    "start_time": "2023-10-09T09:36:54.180Z"
   },
   {
    "duration": 243,
    "start_time": "2023-10-09T09:36:54.201Z"
   },
   {
    "duration": 8,
    "start_time": "2023-10-09T09:36:54.446Z"
   },
   {
    "duration": 270,
    "start_time": "2023-10-09T09:36:54.457Z"
   },
   {
    "duration": 25,
    "start_time": "2023-10-09T09:36:54.732Z"
   },
   {
    "duration": 230,
    "start_time": "2023-10-09T09:37:33.824Z"
   },
   {
    "duration": 9,
    "start_time": "2023-10-09T09:39:00.030Z"
   },
   {
    "duration": 1414,
    "start_time": "2023-10-09T09:39:00.041Z"
   },
   {
    "duration": 4,
    "start_time": "2023-10-09T09:39:01.457Z"
   },
   {
    "duration": 180,
    "start_time": "2023-10-09T09:39:01.463Z"
   },
   {
    "duration": 40,
    "start_time": "2023-10-09T09:39:01.646Z"
   },
   {
    "duration": 430,
    "start_time": "2023-10-09T09:39:01.688Z"
   },
   {
    "duration": 512,
    "start_time": "2023-10-09T09:39:02.120Z"
   },
   {
    "duration": 58,
    "start_time": "2023-10-09T09:39:02.637Z"
   },
   {
    "duration": 37,
    "start_time": "2023-10-09T09:39:02.697Z"
   },
   {
    "duration": 57,
    "start_time": "2023-10-09T09:39:02.736Z"
   },
   {
    "duration": 68,
    "start_time": "2023-10-09T09:39:02.795Z"
   },
   {
    "duration": 45,
    "start_time": "2023-10-09T09:39:02.865Z"
   },
   {
    "duration": 67,
    "start_time": "2023-10-09T09:39:02.914Z"
   },
   {
    "duration": 63,
    "start_time": "2023-10-09T09:39:02.985Z"
   },
   {
    "duration": 235,
    "start_time": "2023-10-09T09:39:03.050Z"
   },
   {
    "duration": 32,
    "start_time": "2023-10-09T09:39:03.287Z"
   },
   {
    "duration": 157,
    "start_time": "2023-10-09T09:39:03.326Z"
   },
   {
    "duration": 7,
    "start_time": "2023-10-09T09:39:03.485Z"
   },
   {
    "duration": 239,
    "start_time": "2023-10-09T09:39:03.504Z"
   },
   {
    "duration": 8,
    "start_time": "2023-10-09T09:39:03.745Z"
   },
   {
    "duration": 240,
    "start_time": "2023-10-09T09:39:03.755Z"
   },
   {
    "duration": 11,
    "start_time": "2023-10-09T09:40:30.388Z"
   },
   {
    "duration": 1408,
    "start_time": "2023-10-09T09:40:30.401Z"
   },
   {
    "duration": 5,
    "start_time": "2023-10-09T09:40:31.811Z"
   },
   {
    "duration": 78,
    "start_time": "2023-10-09T09:40:31.819Z"
   },
   {
    "duration": 40,
    "start_time": "2023-10-09T09:40:31.899Z"
   },
   {
    "duration": 112,
    "start_time": "2023-10-09T09:40:31.941Z"
   },
   {
    "duration": 92,
    "start_time": "2023-10-09T09:40:32.055Z"
   },
   {
    "duration": 94,
    "start_time": "2023-10-09T09:40:32.150Z"
   },
   {
    "duration": 15,
    "start_time": "2023-10-09T09:40:32.246Z"
   },
   {
    "duration": 22,
    "start_time": "2023-10-09T09:40:32.264Z"
   },
   {
    "duration": 50,
    "start_time": "2023-10-09T09:40:32.288Z"
   },
   {
    "duration": 30,
    "start_time": "2023-10-09T09:40:32.340Z"
   },
   {
    "duration": 20,
    "start_time": "2023-10-09T09:40:32.373Z"
   },
   {
    "duration": 16,
    "start_time": "2023-10-09T09:40:32.394Z"
   },
   {
    "duration": 263,
    "start_time": "2023-10-09T09:40:32.416Z"
   },
   {
    "duration": 8,
    "start_time": "2023-10-09T09:40:32.682Z"
   },
   {
    "duration": 237,
    "start_time": "2023-10-09T09:40:32.703Z"
   },
   {
    "duration": 7,
    "start_time": "2023-10-09T09:40:32.942Z"
   },
   {
    "duration": 222,
    "start_time": "2023-10-09T09:40:32.951Z"
   },
   {
    "duration": 9,
    "start_time": "2023-10-09T09:40:33.175Z"
   },
   {
    "duration": 262,
    "start_time": "2023-10-09T09:40:33.185Z"
   },
   {
    "duration": 10,
    "start_time": "2023-10-09T09:40:38.472Z"
   },
   {
    "duration": 229,
    "start_time": "2023-10-09T09:41:58.339Z"
   },
   {
    "duration": 224,
    "start_time": "2023-10-09T09:42:18.137Z"
   },
   {
    "duration": 221,
    "start_time": "2023-10-09T09:42:26.837Z"
   },
   {
    "duration": 275,
    "start_time": "2023-10-09T09:42:32.262Z"
   },
   {
    "duration": 138,
    "start_time": "2023-10-09T09:44:46.128Z"
   },
   {
    "duration": 26,
    "start_time": "2023-10-09T09:45:19.943Z"
   },
   {
    "duration": 31,
    "start_time": "2023-10-09T09:45:42.193Z"
   },
   {
    "duration": 253,
    "start_time": "2023-10-09T09:52:32.226Z"
   },
   {
    "duration": 379,
    "start_time": "2023-10-09T09:52:55.659Z"
   },
   {
    "duration": 25,
    "start_time": "2023-10-09T09:58:51.008Z"
   },
   {
    "duration": 1286,
    "start_time": "2023-10-09T09:58:51.039Z"
   },
   {
    "duration": 4,
    "start_time": "2023-10-09T09:58:52.328Z"
   },
   {
    "duration": 104,
    "start_time": "2023-10-09T09:58:52.335Z"
   },
   {
    "duration": 38,
    "start_time": "2023-10-09T09:58:52.441Z"
   },
   {
    "duration": 44,
    "start_time": "2023-10-09T09:58:52.481Z"
   },
   {
    "duration": 33,
    "start_time": "2023-10-09T09:58:52.528Z"
   },
   {
    "duration": 67,
    "start_time": "2023-10-09T09:58:52.564Z"
   },
   {
    "duration": 17,
    "start_time": "2023-10-09T09:58:52.633Z"
   },
   {
    "duration": 14,
    "start_time": "2023-10-09T09:58:52.654Z"
   },
   {
    "duration": 41,
    "start_time": "2023-10-09T09:58:52.672Z"
   },
   {
    "duration": 29,
    "start_time": "2023-10-09T09:58:52.716Z"
   },
   {
    "duration": 6,
    "start_time": "2023-10-09T09:58:52.748Z"
   },
   {
    "duration": 20,
    "start_time": "2023-10-09T09:58:52.756Z"
   },
   {
    "duration": 272,
    "start_time": "2023-10-09T09:58:52.778Z"
   },
   {
    "duration": 8,
    "start_time": "2023-10-09T09:58:53.052Z"
   },
   {
    "duration": 205,
    "start_time": "2023-10-09T09:58:53.062Z"
   },
   {
    "duration": 7,
    "start_time": "2023-10-09T09:58:53.269Z"
   },
   {
    "duration": 276,
    "start_time": "2023-10-09T09:58:53.278Z"
   },
   {
    "duration": 9,
    "start_time": "2023-10-09T09:58:53.555Z"
   },
   {
    "duration": 316,
    "start_time": "2023-10-09T09:58:53.566Z"
   },
   {
    "duration": 20,
    "start_time": "2023-10-09T09:58:53.884Z"
   },
   {
    "duration": 262,
    "start_time": "2023-10-09T09:58:53.905Z"
   },
   {
    "duration": 10,
    "start_time": "2023-10-09T09:59:01.443Z"
   },
   {
    "duration": 8,
    "start_time": "2023-10-09T10:10:48.561Z"
   },
   {
    "duration": 28,
    "start_time": "2023-10-09T10:28:39.955Z"
   },
   {
    "duration": 35,
    "start_time": "2023-10-09T10:30:51.048Z"
   },
   {
    "duration": 55,
    "start_time": "2023-10-09T10:33:11.871Z"
   },
   {
    "duration": 28,
    "start_time": "2023-10-09T10:35:45.052Z"
   },
   {
    "duration": 23,
    "start_time": "2023-10-09T10:41:44.843Z"
   },
   {
    "duration": 36,
    "start_time": "2023-10-09T10:42:58.505Z"
   },
   {
    "duration": 14,
    "start_time": "2023-10-09T10:43:14.318Z"
   },
   {
    "duration": 21,
    "start_time": "2023-10-09T10:43:26.463Z"
   },
   {
    "duration": 22,
    "start_time": "2023-10-09T10:45:29.583Z"
   },
   {
    "duration": 465,
    "start_time": "2023-10-09T10:55:37.104Z"
   },
   {
    "duration": 16,
    "start_time": "2023-10-09T11:08:48.311Z"
   },
   {
    "duration": 19,
    "start_time": "2023-10-09T11:09:34.839Z"
   },
   {
    "duration": 756,
    "start_time": "2023-10-09T11:12:01.039Z"
   },
   {
    "duration": 15,
    "start_time": "2023-10-09T11:12:35.241Z"
   },
   {
    "duration": 12,
    "start_time": "2023-10-09T11:13:35.491Z"
   },
   {
    "duration": 20,
    "start_time": "2023-10-09T11:13:44.652Z"
   },
   {
    "duration": 31,
    "start_time": "2023-10-09T11:16:41.700Z"
   },
   {
    "duration": 16,
    "start_time": "2023-10-09T11:18:11.479Z"
   },
   {
    "duration": 17,
    "start_time": "2023-10-09T11:18:32.643Z"
   },
   {
    "duration": 18,
    "start_time": "2023-10-09T11:18:37.858Z"
   },
   {
    "duration": 9,
    "start_time": "2023-10-09T11:18:46.430Z"
   },
   {
    "duration": 1374,
    "start_time": "2023-10-09T11:18:46.441Z"
   },
   {
    "duration": 6,
    "start_time": "2023-10-09T11:18:47.817Z"
   },
   {
    "duration": 110,
    "start_time": "2023-10-09T11:18:47.824Z"
   },
   {
    "duration": 31,
    "start_time": "2023-10-09T11:18:47.936Z"
   },
   {
    "duration": 89,
    "start_time": "2023-10-09T11:18:47.969Z"
   },
   {
    "duration": 63,
    "start_time": "2023-10-09T11:18:48.060Z"
   },
   {
    "duration": 90,
    "start_time": "2023-10-09T11:18:48.125Z"
   },
   {
    "duration": 14,
    "start_time": "2023-10-09T11:18:48.219Z"
   },
   {
    "duration": 35,
    "start_time": "2023-10-09T11:18:48.235Z"
   },
   {
    "duration": 51,
    "start_time": "2023-10-09T11:18:48.272Z"
   },
   {
    "duration": 101,
    "start_time": "2023-10-09T11:18:48.326Z"
   },
   {
    "duration": 5,
    "start_time": "2023-10-09T11:18:48.430Z"
   },
   {
    "duration": 21,
    "start_time": "2023-10-09T11:18:48.439Z"
   },
   {
    "duration": 219,
    "start_time": "2023-10-09T11:18:48.463Z"
   },
   {
    "duration": 22,
    "start_time": "2023-10-09T11:18:48.685Z"
   },
   {
    "duration": 187,
    "start_time": "2023-10-09T11:18:48.716Z"
   },
   {
    "duration": 8,
    "start_time": "2023-10-09T11:18:48.905Z"
   },
   {
    "duration": 227,
    "start_time": "2023-10-09T11:18:48.915Z"
   },
   {
    "duration": 9,
    "start_time": "2023-10-09T11:18:49.144Z"
   },
   {
    "duration": 253,
    "start_time": "2023-10-09T11:18:49.154Z"
   },
   {
    "duration": 13,
    "start_time": "2023-10-09T11:18:49.414Z"
   },
   {
    "duration": 246,
    "start_time": "2023-10-09T11:18:49.430Z"
   },
   {
    "duration": 30,
    "start_time": "2023-10-09T11:18:49.678Z"
   },
   {
    "duration": 58,
    "start_time": "2023-10-09T11:18:49.714Z"
   },
   {
    "duration": 38,
    "start_time": "2023-10-09T11:18:49.775Z"
   },
   {
    "duration": 22,
    "start_time": "2023-10-09T11:18:49.815Z"
   },
   {
    "duration": 35,
    "start_time": "2023-10-09T11:18:49.839Z"
   },
   {
    "duration": 22,
    "start_time": "2023-10-09T11:19:24.723Z"
   },
   {
    "duration": 223,
    "start_time": "2023-10-09T11:20:39.142Z"
   },
   {
    "duration": 208,
    "start_time": "2023-10-09T11:21:05.854Z"
   },
   {
    "duration": 121,
    "start_time": "2023-10-09T11:29:08.300Z"
   },
   {
    "duration": 19,
    "start_time": "2023-10-09T11:30:49.115Z"
   },
   {
    "duration": 26,
    "start_time": "2023-10-09T11:35:00.719Z"
   },
   {
    "duration": 29,
    "start_time": "2023-10-09T11:35:36.797Z"
   },
   {
    "duration": 40,
    "start_time": "2023-10-09T11:35:47.719Z"
   },
   {
    "duration": 11,
    "start_time": "2023-10-09T11:41:13.936Z"
   },
   {
    "duration": 20,
    "start_time": "2023-10-09T11:41:20.477Z"
   },
   {
    "duration": 262,
    "start_time": "2023-10-09T11:51:51.725Z"
   },
   {
    "duration": 11,
    "start_time": "2023-10-09T11:53:04.833Z"
   },
   {
    "duration": 1282,
    "start_time": "2023-10-09T11:53:04.846Z"
   },
   {
    "duration": 3,
    "start_time": "2023-10-09T11:53:06.130Z"
   },
   {
    "duration": 124,
    "start_time": "2023-10-09T11:53:06.135Z"
   },
   {
    "duration": 36,
    "start_time": "2023-10-09T11:53:06.263Z"
   },
   {
    "duration": 84,
    "start_time": "2023-10-09T11:53:06.301Z"
   },
   {
    "duration": 36,
    "start_time": "2023-10-09T11:53:06.387Z"
   },
   {
    "duration": 45,
    "start_time": "2023-10-09T11:53:06.425Z"
   },
   {
    "duration": 30,
    "start_time": "2023-10-09T11:53:06.472Z"
   },
   {
    "duration": 17,
    "start_time": "2023-10-09T11:53:06.508Z"
   },
   {
    "duration": 80,
    "start_time": "2023-10-09T11:53:06.527Z"
   },
   {
    "duration": 48,
    "start_time": "2023-10-09T11:53:06.609Z"
   },
   {
    "duration": 34,
    "start_time": "2023-10-09T11:53:06.659Z"
   },
   {
    "duration": 38,
    "start_time": "2023-10-09T11:53:06.696Z"
   },
   {
    "duration": 252,
    "start_time": "2023-10-09T11:53:06.736Z"
   },
   {
    "duration": 29,
    "start_time": "2023-10-09T11:53:06.991Z"
   },
   {
    "duration": 170,
    "start_time": "2023-10-09T11:53:07.022Z"
   },
   {
    "duration": 12,
    "start_time": "2023-10-09T11:53:07.201Z"
   },
   {
    "duration": 213,
    "start_time": "2023-10-09T11:53:07.218Z"
   },
   {
    "duration": 9,
    "start_time": "2023-10-09T11:53:07.434Z"
   },
   {
    "duration": 231,
    "start_time": "2023-10-09T11:53:07.445Z"
   },
   {
    "duration": 10,
    "start_time": "2023-10-09T11:53:07.678Z"
   },
   {
    "duration": 231,
    "start_time": "2023-10-09T11:53:07.704Z"
   },
   {
    "duration": 9,
    "start_time": "2023-10-09T11:53:07.938Z"
   },
   {
    "duration": 40,
    "start_time": "2023-10-09T11:53:07.949Z"
   },
   {
    "duration": 29,
    "start_time": "2023-10-09T11:53:08.003Z"
   },
   {
    "duration": 20,
    "start_time": "2023-10-09T11:53:08.034Z"
   },
   {
    "duration": 124263,
    "start_time": "2023-10-09T11:53:11.773Z"
   },
   {
    "duration": 9,
    "start_time": "2023-10-09T12:03:45.888Z"
   },
   {
    "duration": 1367,
    "start_time": "2023-10-09T12:03:45.899Z"
   },
   {
    "duration": 4,
    "start_time": "2023-10-09T12:03:47.268Z"
   },
   {
    "duration": 120,
    "start_time": "2023-10-09T12:03:47.275Z"
   },
   {
    "duration": 40,
    "start_time": "2023-10-09T12:03:47.397Z"
   },
   {
    "duration": 33,
    "start_time": "2023-10-09T12:03:47.439Z"
   },
   {
    "duration": 47,
    "start_time": "2023-10-09T12:03:47.474Z"
   },
   {
    "duration": 41,
    "start_time": "2023-10-09T12:03:47.523Z"
   },
   {
    "duration": 42,
    "start_time": "2023-10-09T12:03:47.566Z"
   },
   {
    "duration": 12,
    "start_time": "2023-10-09T12:03:47.620Z"
   },
   {
    "duration": 14,
    "start_time": "2023-10-09T12:03:47.634Z"
   },
   {
    "duration": 21,
    "start_time": "2023-10-09T12:03:47.649Z"
   },
   {
    "duration": 14,
    "start_time": "2023-10-09T12:03:47.672Z"
   },
   {
    "duration": 33,
    "start_time": "2023-10-09T12:03:47.688Z"
   },
   {
    "duration": 296,
    "start_time": "2023-10-09T12:03:47.724Z"
   },
   {
    "duration": 8,
    "start_time": "2023-10-09T12:03:48.024Z"
   },
   {
    "duration": 255,
    "start_time": "2023-10-09T12:03:48.035Z"
   },
   {
    "duration": 27,
    "start_time": "2023-10-09T12:03:48.292Z"
   },
   {
    "duration": 234,
    "start_time": "2023-10-09T12:03:48.325Z"
   },
   {
    "duration": 8,
    "start_time": "2023-10-09T12:03:48.562Z"
   },
   {
    "duration": 258,
    "start_time": "2023-10-09T12:03:48.572Z"
   },
   {
    "duration": 9,
    "start_time": "2023-10-09T12:03:48.831Z"
   },
   {
    "duration": 240,
    "start_time": "2023-10-09T12:03:48.842Z"
   },
   {
    "duration": 26,
    "start_time": "2023-10-09T12:03:49.085Z"
   },
   {
    "duration": 31,
    "start_time": "2023-10-09T12:03:49.117Z"
   },
   {
    "duration": 22,
    "start_time": "2023-10-09T12:03:49.150Z"
   },
   {
    "duration": 45,
    "start_time": "2023-10-09T12:03:49.173Z"
   },
   {
    "duration": 314009,
    "start_time": "2023-10-09T12:03:54.061Z"
   },
   {
    "duration": 35,
    "start_time": "2023-10-09T12:09:08.073Z"
   },
   {
    "duration": 130,
    "start_time": "2023-10-09T12:09:39.718Z"
   },
   {
    "duration": 0,
    "start_time": "2023-10-09T12:15:41.133Z"
   },
   {
    "duration": 13,
    "start_time": "2023-10-09T12:16:11.167Z"
   },
   {
    "duration": 330972,
    "start_time": "2023-10-09T12:16:36.858Z"
   },
   {
    "duration": 14,
    "start_time": "2023-10-09T12:22:07.832Z"
   },
   {
    "duration": 4538,
    "start_time": "2023-10-09T12:22:25.230Z"
   },
   {
    "duration": 14,
    "start_time": "2023-10-09T12:23:52.637Z"
   },
   {
    "duration": 5,
    "start_time": "2023-10-09T12:24:12.556Z"
   },
   {
    "duration": 6,
    "start_time": "2023-10-09T12:25:08.623Z"
   },
   {
    "duration": 6,
    "start_time": "2023-10-09T12:25:11.957Z"
   },
   {
    "duration": 9,
    "start_time": "2023-10-09T12:25:24.865Z"
   },
   {
    "duration": 14,
    "start_time": "2023-10-09T12:26:46.931Z"
   },
   {
    "duration": 31,
    "start_time": "2023-10-09T12:26:57.386Z"
   },
   {
    "duration": 11,
    "start_time": "2023-10-09T12:36:17.290Z"
   },
   {
    "duration": 1283,
    "start_time": "2023-10-09T12:36:17.303Z"
   },
   {
    "duration": 3,
    "start_time": "2023-10-09T12:36:18.588Z"
   },
   {
    "duration": 155,
    "start_time": "2023-10-09T12:36:18.603Z"
   },
   {
    "duration": 32,
    "start_time": "2023-10-09T12:36:18.761Z"
   },
   {
    "duration": 56,
    "start_time": "2023-10-09T12:36:18.795Z"
   },
   {
    "duration": 51,
    "start_time": "2023-10-09T12:36:18.854Z"
   },
   {
    "duration": 63,
    "start_time": "2023-10-09T12:36:18.907Z"
   },
   {
    "duration": 18,
    "start_time": "2023-10-09T12:36:18.973Z"
   },
   {
    "duration": 40,
    "start_time": "2023-10-09T12:36:18.994Z"
   },
   {
    "duration": 39,
    "start_time": "2023-10-09T12:36:19.037Z"
   },
   {
    "duration": 42,
    "start_time": "2023-10-09T12:36:19.079Z"
   },
   {
    "duration": 15,
    "start_time": "2023-10-09T12:36:19.123Z"
   },
   {
    "duration": 49,
    "start_time": "2023-10-09T12:36:19.144Z"
   },
   {
    "duration": 265,
    "start_time": "2023-10-09T12:36:19.195Z"
   },
   {
    "duration": 9,
    "start_time": "2023-10-09T12:36:19.462Z"
   },
   {
    "duration": 189,
    "start_time": "2023-10-09T12:36:19.474Z"
   },
   {
    "duration": 7,
    "start_time": "2023-10-09T12:36:19.665Z"
   },
   {
    "duration": 222,
    "start_time": "2023-10-09T12:36:19.673Z"
   },
   {
    "duration": 15,
    "start_time": "2023-10-09T12:36:19.900Z"
   },
   {
    "duration": 249,
    "start_time": "2023-10-09T12:36:19.917Z"
   },
   {
    "duration": 13,
    "start_time": "2023-10-09T12:36:20.168Z"
   },
   {
    "duration": 261,
    "start_time": "2023-10-09T12:36:20.183Z"
   },
   {
    "duration": 11,
    "start_time": "2023-10-09T12:36:20.446Z"
   },
   {
    "duration": 53,
    "start_time": "2023-10-09T12:36:20.458Z"
   },
   {
    "duration": 23,
    "start_time": "2023-10-09T12:36:20.516Z"
   },
   {
    "duration": 32,
    "start_time": "2023-10-09T12:36:20.541Z"
   },
   {
    "duration": 42,
    "start_time": "2023-10-09T12:36:20.574Z"
   },
   {
    "duration": 122,
    "start_time": "2023-10-09T12:36:20.621Z"
   },
   {
    "duration": 16,
    "start_time": "2023-10-09T12:37:07.869Z"
   },
   {
    "duration": 3,
    "start_time": "2023-10-09T12:37:33.678Z"
   },
   {
    "duration": 5,
    "start_time": "2023-10-09T12:37:34.810Z"
   },
   {
    "duration": 70,
    "start_time": "2023-10-09T12:37:35.219Z"
   },
   {
    "duration": 28,
    "start_time": "2023-10-09T12:37:35.719Z"
   },
   {
    "duration": 39,
    "start_time": "2023-10-09T12:37:35.853Z"
   },
   {
    "duration": 31,
    "start_time": "2023-10-09T12:37:36.020Z"
   },
   {
    "duration": 51,
    "start_time": "2023-10-09T12:37:36.629Z"
   },
   {
    "duration": 13,
    "start_time": "2023-10-09T12:37:36.925Z"
   },
   {
    "duration": 20,
    "start_time": "2023-10-09T12:37:37.406Z"
   },
   {
    "duration": 7,
    "start_time": "2023-10-09T12:37:37.556Z"
   },
   {
    "duration": 13,
    "start_time": "2023-10-09T12:37:37.722Z"
   },
   {
    "duration": 6,
    "start_time": "2023-10-09T12:37:37.871Z"
   },
   {
    "duration": 11,
    "start_time": "2023-10-09T12:37:38.026Z"
   },
   {
    "duration": 294,
    "start_time": "2023-10-09T12:37:39.226Z"
   },
   {
    "duration": 11,
    "start_time": "2023-10-09T12:37:39.624Z"
   },
   {
    "duration": 157,
    "start_time": "2023-10-09T12:37:40.516Z"
   },
   {
    "duration": 9,
    "start_time": "2023-10-09T12:37:40.950Z"
   },
   {
    "duration": 211,
    "start_time": "2023-10-09T12:37:43.118Z"
   },
   {
    "duration": 10,
    "start_time": "2023-10-09T12:37:43.566Z"
   },
   {
    "duration": 212,
    "start_time": "2023-10-09T12:37:45.333Z"
   },
   {
    "duration": 13,
    "start_time": "2023-10-09T12:37:45.909Z"
   },
   {
    "duration": 328,
    "start_time": "2023-10-09T12:37:47.829Z"
   },
   {
    "duration": 14,
    "start_time": "2023-10-09T12:37:48.377Z"
   },
   {
    "duration": 51,
    "start_time": "2023-10-09T12:37:52.902Z"
   },
   {
    "duration": 25,
    "start_time": "2023-10-09T12:37:54.998Z"
   },
   {
    "duration": 18,
    "start_time": "2023-10-09T12:37:57.035Z"
   },
   {
    "duration": 15,
    "start_time": "2023-10-09T12:37:58.431Z"
   },
   {
    "duration": 16,
    "start_time": "2023-10-09T12:37:59.818Z"
   },
   {
    "duration": 20,
    "start_time": "2023-10-09T12:43:48.220Z"
   },
   {
    "duration": 269645,
    "start_time": "2023-10-09T12:44:00.551Z"
   },
   {
    "duration": 219,
    "start_time": "2023-10-09T12:48:30.204Z"
   },
   {
    "duration": 159,
    "start_time": "2023-10-09T12:49:22.637Z"
   },
   {
    "duration": 231,
    "start_time": "2023-10-09T12:49:53.350Z"
   },
   {
    "duration": 188,
    "start_time": "2023-10-09T12:50:55.163Z"
   },
   {
    "duration": 209,
    "start_time": "2023-10-09T12:51:23.658Z"
   },
   {
    "duration": 142,
    "start_time": "2023-10-09T12:52:32.005Z"
   },
   {
    "duration": 181,
    "start_time": "2023-10-09T12:52:42.224Z"
   },
   {
    "duration": 184,
    "start_time": "2023-10-09T12:53:52.466Z"
   },
   {
    "duration": 217,
    "start_time": "2023-10-09T12:54:14.744Z"
   },
   {
    "duration": 178,
    "start_time": "2023-10-09T12:55:46.142Z"
   },
   {
    "duration": 123,
    "start_time": "2023-10-09T12:56:51.933Z"
   },
   {
    "duration": 143,
    "start_time": "2023-10-09T12:58:27.737Z"
   },
   {
    "duration": 281,
    "start_time": "2023-10-09T13:01:09.254Z"
   },
   {
    "duration": 319,
    "start_time": "2023-10-09T13:03:36.146Z"
   },
   {
    "duration": 143,
    "start_time": "2023-10-09T13:05:09.557Z"
   },
   {
    "duration": 17,
    "start_time": "2023-10-09T13:07:30.028Z"
   },
   {
    "duration": 143,
    "start_time": "2023-10-09T13:07:33.032Z"
   },
   {
    "duration": 141,
    "start_time": "2023-10-09T13:07:35.028Z"
   },
   {
    "duration": 25,
    "start_time": "2023-10-09T13:07:44.026Z"
   },
   {
    "duration": 159,
    "start_time": "2023-10-09T13:07:44.789Z"
   },
   {
    "duration": 151,
    "start_time": "2023-10-09T13:07:45.581Z"
   },
   {
    "duration": 36,
    "start_time": "2023-10-09T13:26:10.925Z"
   },
   {
    "duration": 42,
    "start_time": "2023-10-09T13:26:51.979Z"
   },
   {
    "duration": 37,
    "start_time": "2023-10-09T13:32:39.770Z"
   },
   {
    "duration": 11,
    "start_time": "2023-10-09T13:39:28.969Z"
   },
   {
    "duration": 16,
    "start_time": "2023-10-09T13:39:36.578Z"
   },
   {
    "duration": 12,
    "start_time": "2023-10-09T13:41:38.683Z"
   },
   {
    "duration": 242,
    "start_time": "2023-10-09T13:41:50.469Z"
   },
   {
    "duration": 210,
    "start_time": "2023-10-09T13:42:12.688Z"
   },
   {
    "duration": 185,
    "start_time": "2023-10-09T13:42:21.144Z"
   },
   {
    "duration": 247,
    "start_time": "2023-10-09T13:43:24.795Z"
   },
   {
    "duration": 181,
    "start_time": "2023-10-09T13:44:21.392Z"
   },
   {
    "duration": 161,
    "start_time": "2023-10-09T13:44:40.824Z"
   },
   {
    "duration": 193,
    "start_time": "2023-10-09T13:45:22.361Z"
   },
   {
    "duration": 4,
    "start_time": "2023-10-09T14:23:04.861Z"
   },
   {
    "duration": 4,
    "start_time": "2023-10-09T14:27:39.877Z"
   },
   {
    "duration": 5,
    "start_time": "2023-10-09T14:27:48.973Z"
   },
   {
    "duration": 25,
    "start_time": "2023-10-09T14:28:03.391Z"
   },
   {
    "duration": 3,
    "start_time": "2023-10-09T14:28:50.792Z"
   },
   {
    "duration": 51,
    "start_time": "2023-10-10T08:30:17.661Z"
   },
   {
    "duration": 10,
    "start_time": "2023-10-10T08:30:50.966Z"
   },
   {
    "duration": 1368,
    "start_time": "2023-10-10T08:30:50.978Z"
   },
   {
    "duration": 3,
    "start_time": "2023-10-10T08:30:52.348Z"
   },
   {
    "duration": 439,
    "start_time": "2023-10-10T08:30:52.353Z"
   },
   {
    "duration": 27,
    "start_time": "2023-10-10T08:30:52.794Z"
   },
   {
    "duration": 40,
    "start_time": "2023-10-10T08:30:52.823Z"
   },
   {
    "duration": 66,
    "start_time": "2023-10-10T08:30:52.865Z"
   },
   {
    "duration": 112,
    "start_time": "2023-10-10T08:30:52.933Z"
   },
   {
    "duration": 120,
    "start_time": "2023-10-10T08:30:53.047Z"
   },
   {
    "duration": 44,
    "start_time": "2023-10-10T08:30:53.170Z"
   },
   {
    "duration": 61,
    "start_time": "2023-10-10T08:30:53.215Z"
   },
   {
    "duration": 195,
    "start_time": "2023-10-10T08:30:53.277Z"
   },
   {
    "duration": 234,
    "start_time": "2023-10-10T08:30:53.473Z"
   },
   {
    "duration": 36,
    "start_time": "2023-10-10T08:30:53.709Z"
   },
   {
    "duration": 190,
    "start_time": "2023-10-10T08:30:53.747Z"
   },
   {
    "duration": 8,
    "start_time": "2023-10-10T08:30:53.938Z"
   },
   {
    "duration": 198,
    "start_time": "2023-10-10T08:30:53.948Z"
   },
   {
    "duration": 7,
    "start_time": "2023-10-10T08:30:54.148Z"
   },
   {
    "duration": 190,
    "start_time": "2023-10-10T08:30:54.156Z"
   },
   {
    "duration": 8,
    "start_time": "2023-10-10T08:30:54.348Z"
   },
   {
    "duration": 472,
    "start_time": "2023-10-10T08:30:54.358Z"
   },
   {
    "duration": 9,
    "start_time": "2023-10-10T08:30:54.832Z"
   },
   {
    "duration": 215,
    "start_time": "2023-10-10T08:30:54.843Z"
   },
   {
    "duration": 68,
    "start_time": "2023-10-10T08:30:55.059Z"
   },
   {
    "duration": 70,
    "start_time": "2023-10-10T08:30:55.129Z"
   },
   {
    "duration": 40,
    "start_time": "2023-10-10T08:30:55.201Z"
   },
   {
    "duration": 19,
    "start_time": "2023-10-10T08:30:55.242Z"
   },
   {
    "duration": 240,
    "start_time": "2023-10-10T08:30:55.264Z"
   },
   {
    "duration": 235,
    "start_time": "2023-10-10T08:30:55.505Z"
   },
   {
    "duration": 19,
    "start_time": "2023-10-10T08:30:55.742Z"
   },
   {
    "duration": 270,
    "start_time": "2023-10-10T08:30:55.763Z"
   },
   {
    "duration": 138,
    "start_time": "2023-10-10T08:30:56.035Z"
   },
   {
    "duration": 12,
    "start_time": "2023-10-10T08:30:56.174Z"
   },
   {
    "duration": 13,
    "start_time": "2023-10-10T08:31:29.964Z"
   },
   {
    "duration": 14,
    "start_time": "2023-10-10T08:31:46.904Z"
   },
   {
    "duration": 36,
    "start_time": "2023-10-10T08:38:11.776Z"
   },
   {
    "duration": 19,
    "start_time": "2023-10-10T08:39:57.672Z"
   },
   {
    "duration": 20,
    "start_time": "2023-10-10T08:40:18.196Z"
   },
   {
    "duration": 20,
    "start_time": "2023-10-10T08:41:25.561Z"
   },
   {
    "duration": 20,
    "start_time": "2023-10-10T08:42:38.659Z"
   },
   {
    "duration": 135,
    "start_time": "2023-10-10T08:48:56.059Z"
   },
   {
    "duration": 31,
    "start_time": "2023-10-10T08:49:18.038Z"
   },
   {
    "duration": 45,
    "start_time": "2023-10-10T08:57:09.398Z"
   },
   {
    "duration": 49,
    "start_time": "2023-10-10T08:57:23.461Z"
   },
   {
    "duration": 29,
    "start_time": "2023-10-10T08:57:43.148Z"
   },
   {
    "duration": 119,
    "start_time": "2023-10-10T09:00:07.748Z"
   },
   {
    "duration": 233,
    "start_time": "2023-10-10T09:00:14.315Z"
   },
   {
    "duration": 35,
    "start_time": "2023-10-10T09:00:41.407Z"
   },
   {
    "duration": 34,
    "start_time": "2023-10-10T09:05:36.958Z"
   },
   {
    "duration": 127,
    "start_time": "2023-10-10T09:08:24.164Z"
   },
   {
    "duration": 35,
    "start_time": "2023-10-10T09:08:47.153Z"
   },
   {
    "duration": 34,
    "start_time": "2023-10-10T09:09:04.909Z"
   },
   {
    "duration": 32,
    "start_time": "2023-10-10T09:09:59.784Z"
   },
   {
    "duration": 31,
    "start_time": "2023-10-10T09:11:33.667Z"
   },
   {
    "duration": 22,
    "start_time": "2023-10-10T09:21:48.777Z"
   },
   {
    "duration": 14,
    "start_time": "2023-10-10T09:27:41.263Z"
   },
   {
    "duration": 15,
    "start_time": "2023-10-10T09:29:06.820Z"
   },
   {
    "duration": 6,
    "start_time": "2023-10-10T10:10:28.511Z"
   },
   {
    "duration": 8,
    "start_time": "2023-10-10T10:11:03.964Z"
   },
   {
    "duration": 1088,
    "start_time": "2023-10-10T10:11:03.979Z"
   },
   {
    "duration": 3,
    "start_time": "2023-10-10T10:11:05.069Z"
   },
   {
    "duration": 164,
    "start_time": "2023-10-10T10:11:05.073Z"
   },
   {
    "duration": 27,
    "start_time": "2023-10-10T10:11:05.239Z"
   },
   {
    "duration": 61,
    "start_time": "2023-10-10T10:11:05.268Z"
   },
   {
    "duration": 27,
    "start_time": "2023-10-10T10:11:05.330Z"
   },
   {
    "duration": 54,
    "start_time": "2023-10-10T10:11:05.359Z"
   },
   {
    "duration": 13,
    "start_time": "2023-10-10T10:11:05.414Z"
   },
   {
    "duration": 47,
    "start_time": "2023-10-10T10:11:05.429Z"
   },
   {
    "duration": 36,
    "start_time": "2023-10-10T10:11:05.478Z"
   },
   {
    "duration": 36,
    "start_time": "2023-10-10T10:11:05.516Z"
   },
   {
    "duration": 65,
    "start_time": "2023-10-10T10:11:05.554Z"
   },
   {
    "duration": 49,
    "start_time": "2023-10-10T10:11:05.622Z"
   },
   {
    "duration": 262,
    "start_time": "2023-10-10T10:11:05.672Z"
   },
   {
    "duration": 9,
    "start_time": "2023-10-10T10:11:05.936Z"
   },
   {
    "duration": 166,
    "start_time": "2023-10-10T10:11:05.947Z"
   },
   {
    "duration": 14,
    "start_time": "2023-10-10T10:11:06.115Z"
   },
   {
    "duration": 277,
    "start_time": "2023-10-10T10:11:06.130Z"
   },
   {
    "duration": 15,
    "start_time": "2023-10-10T10:11:06.409Z"
   },
   {
    "duration": 211,
    "start_time": "2023-10-10T10:11:06.426Z"
   },
   {
    "duration": 9,
    "start_time": "2023-10-10T10:11:06.639Z"
   },
   {
    "duration": 222,
    "start_time": "2023-10-10T10:11:06.649Z"
   },
   {
    "duration": 9,
    "start_time": "2023-10-10T10:11:06.872Z"
   },
   {
    "duration": 45,
    "start_time": "2023-10-10T10:11:06.883Z"
   },
   {
    "duration": 16,
    "start_time": "2023-10-10T10:11:06.930Z"
   },
   {
    "duration": 17,
    "start_time": "2023-10-10T10:11:06.948Z"
   },
   {
    "duration": 255,
    "start_time": "2023-10-10T10:11:06.967Z"
   },
   {
    "duration": 249,
    "start_time": "2023-10-10T10:11:07.224Z"
   },
   {
    "duration": 15,
    "start_time": "2023-10-10T10:11:07.475Z"
   },
   {
    "duration": 217,
    "start_time": "2023-10-10T10:11:07.491Z"
   },
   {
    "duration": 145,
    "start_time": "2023-10-10T10:11:07.710Z"
   },
   {
    "duration": 12,
    "start_time": "2023-10-10T10:11:07.857Z"
   },
   {
    "duration": 39,
    "start_time": "2023-10-10T10:11:07.871Z"
   },
   {
    "duration": 30,
    "start_time": "2023-10-10T10:11:07.913Z"
   },
   {
    "duration": 14,
    "start_time": "2023-10-10T10:11:07.945Z"
   },
   {
    "duration": 6,
    "start_time": "2023-10-10T10:11:07.960Z"
   },
   {
    "duration": 17,
    "start_time": "2023-10-10T10:19:16.809Z"
   },
   {
    "duration": 7,
    "start_time": "2023-10-10T10:19:38.831Z"
   },
   {
    "duration": 5,
    "start_time": "2023-10-10T10:28:54.661Z"
   },
   {
    "duration": 139,
    "start_time": "2023-10-10T10:49:52.445Z"
   },
   {
    "duration": 114,
    "start_time": "2023-10-10T10:51:12.077Z"
   },
   {
    "duration": 30,
    "start_time": "2023-10-10T10:51:43.040Z"
   },
   {
    "duration": 0,
    "start_time": "2023-10-10T10:52:34.805Z"
   },
   {
    "duration": 1974,
    "start_time": "2023-10-10T10:52:57.046Z"
   },
   {
    "duration": 103,
    "start_time": "2023-10-10T10:53:32.147Z"
   },
   {
    "duration": 9,
    "start_time": "2023-10-10T10:53:46.548Z"
   },
   {
    "duration": 16,
    "start_time": "2023-10-10T10:53:56.164Z"
   },
   {
    "duration": 18,
    "start_time": "2023-10-10T10:54:13.990Z"
   },
   {
    "duration": 23,
    "start_time": "2023-10-10T10:54:46.065Z"
   },
   {
    "duration": 12,
    "start_time": "2023-10-10T10:54:54.038Z"
   },
   {
    "duration": 6,
    "start_time": "2023-10-10T10:57:25.870Z"
   },
   {
    "duration": 7,
    "start_time": "2023-10-10T11:18:33.514Z"
   },
   {
    "duration": 4,
    "start_time": "2023-10-10T11:23:43.277Z"
   },
   {
    "duration": 6,
    "start_time": "2023-10-10T11:24:00.809Z"
   },
   {
    "duration": 1830,
    "start_time": "2023-10-10T11:35:07.953Z"
   },
   {
    "duration": 1830,
    "start_time": "2023-10-10T11:36:16.363Z"
   },
   {
    "duration": 1944,
    "start_time": "2023-10-10T11:38:30.254Z"
   },
   {
    "duration": 89,
    "start_time": "2023-10-10T11:40:07.156Z"
   },
   {
    "duration": 364,
    "start_time": "2023-10-10T11:40:26.693Z"
   },
   {
    "duration": 109,
    "start_time": "2023-10-10T11:40:50.184Z"
   },
   {
    "duration": 2037,
    "start_time": "2023-10-10T11:40:59.978Z"
   },
   {
    "duration": 133,
    "start_time": "2023-10-10T11:43:26.857Z"
   },
   {
    "duration": 99,
    "start_time": "2023-10-10T11:43:43.372Z"
   },
   {
    "duration": 660,
    "start_time": "2023-10-10T11:44:25.860Z"
   },
   {
    "duration": 153,
    "start_time": "2023-10-10T11:44:38.541Z"
   },
   {
    "duration": 104,
    "start_time": "2023-10-10T11:45:51.649Z"
   },
   {
    "duration": 110,
    "start_time": "2023-10-10T11:46:04.008Z"
   },
   {
    "duration": 173,
    "start_time": "2023-10-10T11:46:50.449Z"
   },
   {
    "duration": 192,
    "start_time": "2023-10-10T11:47:12.801Z"
   },
   {
    "duration": 2136,
    "start_time": "2023-10-10T11:48:15.084Z"
   },
   {
    "duration": 2046,
    "start_time": "2023-10-10T11:49:16.183Z"
   },
   {
    "duration": 1942,
    "start_time": "2023-10-10T11:49:26.767Z"
   },
   {
    "duration": 2315,
    "start_time": "2023-10-10T11:52:11.487Z"
   },
   {
    "duration": 2213,
    "start_time": "2023-10-10T11:52:39.483Z"
   },
   {
    "duration": 137,
    "start_time": "2023-10-10T12:12:55.271Z"
   },
   {
    "duration": 2134,
    "start_time": "2023-10-10T12:23:24.585Z"
   },
   {
    "duration": 111,
    "start_time": "2023-10-10T12:23:26.732Z"
   },
   {
    "duration": 8,
    "start_time": "2023-10-10T12:27:41.721Z"
   },
   {
    "duration": 43203,
    "start_time": "2023-10-10T12:36:57.012Z"
   },
   {
    "duration": 41615,
    "start_time": "2023-10-10T12:44:38.101Z"
   },
   {
    "duration": 39925,
    "start_time": "2023-10-10T13:01:26.173Z"
   },
   {
    "duration": 6,
    "start_time": "2023-10-10T13:03:47.060Z"
   },
   {
    "duration": 0,
    "start_time": "2023-10-10T14:26:54.019Z"
   },
   {
    "duration": 0,
    "start_time": "2023-10-10T14:26:54.020Z"
   },
   {
    "duration": 0,
    "start_time": "2023-10-10T14:26:54.021Z"
   },
   {
    "duration": 0,
    "start_time": "2023-10-10T14:26:54.023Z"
   },
   {
    "duration": 0,
    "start_time": "2023-10-10T14:26:54.023Z"
   },
   {
    "duration": 0,
    "start_time": "2023-10-10T14:26:54.025Z"
   },
   {
    "duration": 0,
    "start_time": "2023-10-10T14:26:54.026Z"
   },
   {
    "duration": 0,
    "start_time": "2023-10-10T14:26:54.027Z"
   },
   {
    "duration": 0,
    "start_time": "2023-10-10T14:26:54.028Z"
   },
   {
    "duration": 0,
    "start_time": "2023-10-10T14:26:54.029Z"
   },
   {
    "duration": 0,
    "start_time": "2023-10-10T14:26:54.030Z"
   },
   {
    "duration": 0,
    "start_time": "2023-10-10T14:26:54.032Z"
   },
   {
    "duration": 0,
    "start_time": "2023-10-10T14:26:54.033Z"
   },
   {
    "duration": 0,
    "start_time": "2023-10-10T14:26:54.034Z"
   },
   {
    "duration": 0,
    "start_time": "2023-10-10T14:26:54.035Z"
   },
   {
    "duration": 0,
    "start_time": "2023-10-10T14:26:54.036Z"
   },
   {
    "duration": 0,
    "start_time": "2023-10-10T14:26:54.037Z"
   },
   {
    "duration": 0,
    "start_time": "2023-10-10T14:26:54.038Z"
   },
   {
    "duration": 0,
    "start_time": "2023-10-10T14:26:54.039Z"
   },
   {
    "duration": 0,
    "start_time": "2023-10-10T14:26:54.102Z"
   },
   {
    "duration": 0,
    "start_time": "2023-10-10T14:26:54.103Z"
   },
   {
    "duration": 0,
    "start_time": "2023-10-10T14:26:54.104Z"
   },
   {
    "duration": 0,
    "start_time": "2023-10-10T14:26:54.105Z"
   },
   {
    "duration": 0,
    "start_time": "2023-10-10T14:26:54.106Z"
   },
   {
    "duration": 0,
    "start_time": "2023-10-10T14:26:54.107Z"
   },
   {
    "duration": 0,
    "start_time": "2023-10-10T14:26:54.108Z"
   },
   {
    "duration": 0,
    "start_time": "2023-10-10T14:26:54.110Z"
   },
   {
    "duration": 0,
    "start_time": "2023-10-10T14:26:54.111Z"
   },
   {
    "duration": 0,
    "start_time": "2023-10-10T14:26:54.112Z"
   },
   {
    "duration": 0,
    "start_time": "2023-10-10T14:26:54.113Z"
   },
   {
    "duration": 0,
    "start_time": "2023-10-10T14:26:54.114Z"
   },
   {
    "duration": 0,
    "start_time": "2023-10-10T14:26:54.116Z"
   },
   {
    "duration": 0,
    "start_time": "2023-10-10T14:26:54.117Z"
   },
   {
    "duration": 0,
    "start_time": "2023-10-10T14:26:54.118Z"
   },
   {
    "duration": 0,
    "start_time": "2023-10-10T14:26:54.119Z"
   },
   {
    "duration": 0,
    "start_time": "2023-10-10T14:26:54.120Z"
   },
   {
    "duration": 0,
    "start_time": "2023-10-10T14:26:54.121Z"
   },
   {
    "duration": 0,
    "start_time": "2023-10-10T14:26:54.122Z"
   },
   {
    "duration": 0,
    "start_time": "2023-10-10T14:26:54.123Z"
   },
   {
    "duration": 0,
    "start_time": "2023-10-10T14:26:54.124Z"
   },
   {
    "duration": 0,
    "start_time": "2023-10-10T14:26:54.125Z"
   },
   {
    "duration": 0,
    "start_time": "2023-10-10T14:26:54.126Z"
   },
   {
    "duration": 0,
    "start_time": "2023-10-10T14:26:54.127Z"
   },
   {
    "duration": 0,
    "start_time": "2023-10-10T14:26:54.128Z"
   },
   {
    "duration": 0,
    "start_time": "2023-10-10T14:26:54.130Z"
   },
   {
    "duration": 0,
    "start_time": "2023-10-10T14:26:54.131Z"
   },
   {
    "duration": 8,
    "start_time": "2023-10-10T14:27:29.171Z"
   },
   {
    "duration": 1217,
    "start_time": "2023-10-10T14:27:29.181Z"
   },
   {
    "duration": 3,
    "start_time": "2023-10-10T14:27:30.401Z"
   },
   {
    "duration": 350,
    "start_time": "2023-10-10T14:27:30.407Z"
   },
   {
    "duration": 561,
    "start_time": "2023-10-10T14:27:30.759Z"
   },
   {
    "duration": 198,
    "start_time": "2023-10-10T14:27:31.322Z"
   },
   {
    "duration": 99,
    "start_time": "2023-10-10T14:27:31.522Z"
   },
   {
    "duration": 79,
    "start_time": "2023-10-10T14:27:31.623Z"
   },
   {
    "duration": 55,
    "start_time": "2023-10-10T14:27:31.704Z"
   },
   {
    "duration": 67,
    "start_time": "2023-10-10T14:27:31.763Z"
   },
   {
    "duration": 72,
    "start_time": "2023-10-10T14:27:31.831Z"
   },
   {
    "duration": 75,
    "start_time": "2023-10-10T14:27:31.905Z"
   },
   {
    "duration": 57,
    "start_time": "2023-10-10T14:27:31.982Z"
   },
   {
    "duration": 159,
    "start_time": "2023-10-10T14:27:32.041Z"
   },
   {
    "duration": 267,
    "start_time": "2023-10-10T14:27:32.202Z"
   },
   {
    "duration": 8,
    "start_time": "2023-10-10T14:27:32.471Z"
   },
   {
    "duration": 158,
    "start_time": "2023-10-10T14:27:32.480Z"
   },
   {
    "duration": 7,
    "start_time": "2023-10-10T14:27:32.640Z"
   },
   {
    "duration": 204,
    "start_time": "2023-10-10T14:27:32.648Z"
   },
   {
    "duration": 9,
    "start_time": "2023-10-10T14:27:32.854Z"
   },
   {
    "duration": 207,
    "start_time": "2023-10-10T14:27:32.865Z"
   },
   {
    "duration": 9,
    "start_time": "2023-10-10T14:27:33.074Z"
   },
   {
    "duration": 228,
    "start_time": "2023-10-10T14:27:33.084Z"
   },
   {
    "duration": 9,
    "start_time": "2023-10-10T14:27:33.314Z"
   },
   {
    "duration": 34,
    "start_time": "2023-10-10T14:27:33.324Z"
   },
   {
    "duration": 18,
    "start_time": "2023-10-10T14:27:33.360Z"
   },
   {
    "duration": 35,
    "start_time": "2023-10-10T14:27:33.380Z"
   },
   {
    "duration": 307,
    "start_time": "2023-10-10T14:27:33.419Z"
   },
   {
    "duration": 269,
    "start_time": "2023-10-10T14:27:33.728Z"
   },
   {
    "duration": 15,
    "start_time": "2023-10-10T14:27:34.001Z"
   },
   {
    "duration": 2260,
    "start_time": "2023-10-10T14:27:34.018Z"
   },
   {
    "duration": 0,
    "start_time": "2023-10-10T14:27:36.280Z"
   },
   {
    "duration": 0,
    "start_time": "2023-10-10T14:27:36.282Z"
   },
   {
    "duration": 0,
    "start_time": "2023-10-10T14:27:36.283Z"
   },
   {
    "duration": 0,
    "start_time": "2023-10-10T14:27:36.284Z"
   },
   {
    "duration": 0,
    "start_time": "2023-10-10T14:27:36.285Z"
   },
   {
    "duration": 0,
    "start_time": "2023-10-10T14:27:36.286Z"
   },
   {
    "duration": 0,
    "start_time": "2023-10-10T14:27:36.287Z"
   },
   {
    "duration": 0,
    "start_time": "2023-10-10T14:27:36.287Z"
   },
   {
    "duration": 0,
    "start_time": "2023-10-10T14:27:36.289Z"
   },
   {
    "duration": 0,
    "start_time": "2023-10-10T14:27:36.291Z"
   },
   {
    "duration": 0,
    "start_time": "2023-10-10T14:27:36.292Z"
   },
   {
    "duration": 0,
    "start_time": "2023-10-10T14:27:36.293Z"
   },
   {
    "duration": 0,
    "start_time": "2023-10-10T14:27:36.294Z"
   },
   {
    "duration": 0,
    "start_time": "2023-10-10T14:27:36.296Z"
   },
   {
    "duration": 0,
    "start_time": "2023-10-10T14:27:36.297Z"
   },
   {
    "duration": 1668,
    "start_time": "2023-10-10T14:29:10.395Z"
   },
   {
    "duration": 2472,
    "start_time": "2023-10-10T14:29:30.147Z"
   },
   {
    "duration": 0,
    "start_time": "2023-10-10T14:29:32.621Z"
   },
   {
    "duration": 0,
    "start_time": "2023-10-10T14:29:32.622Z"
   },
   {
    "duration": 0,
    "start_time": "2023-10-10T14:29:32.624Z"
   },
   {
    "duration": 0,
    "start_time": "2023-10-10T14:29:32.625Z"
   },
   {
    "duration": 0,
    "start_time": "2023-10-10T14:29:32.627Z"
   },
   {
    "duration": 49,
    "start_time": "2023-10-10T16:28:35.971Z"
   },
   {
    "duration": 12,
    "start_time": "2023-10-10T16:29:22.012Z"
   },
   {
    "duration": 1374,
    "start_time": "2023-10-10T16:29:22.027Z"
   },
   {
    "duration": 4,
    "start_time": "2023-10-10T16:29:23.403Z"
   },
   {
    "duration": 208,
    "start_time": "2023-10-10T16:29:23.409Z"
   },
   {
    "duration": 31,
    "start_time": "2023-10-10T16:29:23.619Z"
   },
   {
    "duration": 37,
    "start_time": "2023-10-10T16:29:23.652Z"
   },
   {
    "duration": 32,
    "start_time": "2023-10-10T16:29:23.702Z"
   },
   {
    "duration": 40,
    "start_time": "2023-10-10T16:29:23.736Z"
   },
   {
    "duration": 32,
    "start_time": "2023-10-10T16:29:23.778Z"
   },
   {
    "duration": 11,
    "start_time": "2023-10-10T16:29:23.814Z"
   },
   {
    "duration": 22,
    "start_time": "2023-10-10T16:29:23.827Z"
   },
   {
    "duration": 29,
    "start_time": "2023-10-10T16:29:23.851Z"
   },
   {
    "duration": 14,
    "start_time": "2023-10-10T16:29:23.882Z"
   },
   {
    "duration": 12,
    "start_time": "2023-10-10T16:29:23.901Z"
   },
   {
    "duration": 223,
    "start_time": "2023-10-10T16:29:23.915Z"
   },
   {
    "duration": 8,
    "start_time": "2023-10-10T16:29:24.140Z"
   },
   {
    "duration": 241,
    "start_time": "2023-10-10T16:29:24.150Z"
   },
   {
    "duration": 14,
    "start_time": "2023-10-10T16:29:24.393Z"
   },
   {
    "duration": 274,
    "start_time": "2023-10-10T16:29:24.409Z"
   },
   {
    "duration": 21,
    "start_time": "2023-10-10T16:29:24.684Z"
   },
   {
    "duration": 267,
    "start_time": "2023-10-10T16:29:24.707Z"
   },
   {
    "duration": 13,
    "start_time": "2023-10-10T16:29:24.976Z"
   },
   {
    "duration": 379,
    "start_time": "2023-10-10T16:29:25.002Z"
   },
   {
    "duration": 24,
    "start_time": "2023-10-10T16:29:25.382Z"
   },
   {
    "duration": 38,
    "start_time": "2023-10-10T16:29:25.408Z"
   },
   {
    "duration": 30,
    "start_time": "2023-10-10T16:29:25.449Z"
   },
   {
    "duration": 48,
    "start_time": "2023-10-10T16:29:25.481Z"
   },
   {
    "duration": 286,
    "start_time": "2023-10-10T16:29:25.534Z"
   },
   {
    "duration": 271,
    "start_time": "2023-10-10T16:29:25.822Z"
   },
   {
    "duration": 19,
    "start_time": "2023-10-10T16:29:26.095Z"
   },
   {
    "duration": 1533,
    "start_time": "2023-10-10T16:29:26.116Z"
   },
   {
    "duration": 0,
    "start_time": "2023-10-10T16:29:27.652Z"
   },
   {
    "duration": 0,
    "start_time": "2023-10-10T16:29:27.654Z"
   },
   {
    "duration": 0,
    "start_time": "2023-10-10T16:29:27.656Z"
   },
   {
    "duration": 0,
    "start_time": "2023-10-10T16:29:27.658Z"
   },
   {
    "duration": 0,
    "start_time": "2023-10-10T16:29:27.659Z"
   },
   {
    "duration": 0,
    "start_time": "2023-10-10T16:29:27.661Z"
   },
   {
    "duration": 0,
    "start_time": "2023-10-10T16:29:27.663Z"
   },
   {
    "duration": 0,
    "start_time": "2023-10-10T16:29:27.664Z"
   },
   {
    "duration": 0,
    "start_time": "2023-10-10T16:29:27.665Z"
   },
   {
    "duration": 0,
    "start_time": "2023-10-10T16:29:27.668Z"
   },
   {
    "duration": 0,
    "start_time": "2023-10-10T16:29:27.669Z"
   },
   {
    "duration": 0,
    "start_time": "2023-10-10T16:29:27.671Z"
   },
   {
    "duration": 0,
    "start_time": "2023-10-10T16:29:27.673Z"
   },
   {
    "duration": 0,
    "start_time": "2023-10-10T16:29:27.674Z"
   },
   {
    "duration": 0,
    "start_time": "2023-10-10T16:29:27.676Z"
   },
   {
    "duration": 226,
    "start_time": "2023-10-10T16:30:22.614Z"
   },
   {
    "duration": 1891,
    "start_time": "2023-10-10T16:30:53.519Z"
   },
   {
    "duration": 137,
    "start_time": "2023-10-10T16:31:06.264Z"
   },
   {
    "duration": 52,
    "start_time": "2023-10-11T05:02:42.821Z"
   },
   {
    "duration": 12,
    "start_time": "2023-10-11T05:03:03.450Z"
   },
   {
    "duration": 1474,
    "start_time": "2023-10-11T05:03:03.465Z"
   },
   {
    "duration": 3,
    "start_time": "2023-10-11T05:03:04.941Z"
   },
   {
    "duration": 203,
    "start_time": "2023-10-11T05:03:04.948Z"
   },
   {
    "duration": 40,
    "start_time": "2023-10-11T05:03:05.153Z"
   },
   {
    "duration": 56,
    "start_time": "2023-10-11T05:03:05.195Z"
   },
   {
    "duration": 35,
    "start_time": "2023-10-11T05:03:05.254Z"
   },
   {
    "duration": 72,
    "start_time": "2023-10-11T05:03:05.292Z"
   },
   {
    "duration": 13,
    "start_time": "2023-10-11T05:03:05.366Z"
   },
   {
    "duration": 5,
    "start_time": "2023-10-11T05:03:05.382Z"
   },
   {
    "duration": 18,
    "start_time": "2023-10-11T05:03:05.389Z"
   },
   {
    "duration": 42,
    "start_time": "2023-10-11T05:03:05.409Z"
   },
   {
    "duration": 24,
    "start_time": "2023-10-11T05:03:05.453Z"
   },
   {
    "duration": 5,
    "start_time": "2023-10-11T05:03:05.479Z"
   },
   {
    "duration": 27,
    "start_time": "2023-10-11T05:03:05.486Z"
   },
   {
    "duration": 209,
    "start_time": "2023-10-11T05:03:05.516Z"
   },
   {
    "duration": 7,
    "start_time": "2023-10-11T05:03:05.727Z"
   },
   {
    "duration": 167,
    "start_time": "2023-10-11T05:03:05.746Z"
   },
   {
    "duration": 9,
    "start_time": "2023-10-11T05:03:05.915Z"
   },
   {
    "duration": 288,
    "start_time": "2023-10-11T05:03:05.926Z"
   },
   {
    "duration": 8,
    "start_time": "2023-10-11T05:03:06.215Z"
   },
   {
    "duration": 234,
    "start_time": "2023-10-11T05:03:06.225Z"
   },
   {
    "duration": 9,
    "start_time": "2023-10-11T05:03:06.461Z"
   },
   {
    "duration": 260,
    "start_time": "2023-10-11T05:03:06.472Z"
   },
   {
    "duration": 20,
    "start_time": "2023-10-11T05:03:06.735Z"
   },
   {
    "duration": 29,
    "start_time": "2023-10-11T05:03:06.757Z"
   },
   {
    "duration": 21,
    "start_time": "2023-10-11T05:03:06.788Z"
   },
   {
    "duration": 17,
    "start_time": "2023-10-11T05:03:06.848Z"
   },
   {
    "duration": 338,
    "start_time": "2023-10-11T05:03:06.867Z"
   },
   {
    "duration": 304,
    "start_time": "2023-10-11T05:03:07.207Z"
   },
   {
    "duration": 15,
    "start_time": "2023-10-11T05:03:07.512Z"
   },
   {
    "duration": 246,
    "start_time": "2023-10-11T05:03:07.529Z"
   },
   {
    "duration": 172,
    "start_time": "2023-10-11T05:03:07.777Z"
   },
   {
    "duration": 15,
    "start_time": "2023-10-11T05:03:07.951Z"
   },
   {
    "duration": 47,
    "start_time": "2023-10-11T05:03:07.968Z"
   },
   {
    "duration": 49,
    "start_time": "2023-10-11T05:03:08.017Z"
   },
   {
    "duration": 33,
    "start_time": "2023-10-11T05:03:08.068Z"
   },
   {
    "duration": 10,
    "start_time": "2023-10-11T05:03:08.103Z"
   },
   {
    "duration": 15,
    "start_time": "2023-10-11T05:03:08.115Z"
   },
   {
    "duration": 7,
    "start_time": "2023-10-11T05:03:08.147Z"
   },
   {
    "duration": 33,
    "start_time": "2023-10-11T05:03:08.156Z"
   },
   {
    "duration": 32,
    "start_time": "2023-10-11T05:03:08.192Z"
   },
   {
    "duration": 48,
    "start_time": "2023-10-11T05:03:08.226Z"
   },
   {
    "duration": 10,
    "start_time": "2023-10-11T05:03:08.276Z"
   },
   {
    "duration": 2982,
    "start_time": "2023-10-11T05:03:08.288Z"
   },
   {
    "duration": 114,
    "start_time": "2023-10-11T05:03:11.272Z"
   },
   {
    "duration": 6,
    "start_time": "2023-10-11T05:03:11.388Z"
   },
   {
    "duration": 124,
    "start_time": "2023-10-11T05:04:50.833Z"
   },
   {
    "duration": 163,
    "start_time": "2023-10-11T05:06:25.690Z"
   },
   {
    "duration": 1671,
    "start_time": "2023-10-11T05:08:10.951Z"
   },
   {
    "duration": 10,
    "start_time": "2023-10-11T05:08:59.839Z"
   },
   {
    "duration": 1198,
    "start_time": "2023-10-11T05:08:59.852Z"
   },
   {
    "duration": 4,
    "start_time": "2023-10-11T05:09:01.052Z"
   },
   {
    "duration": 528,
    "start_time": "2023-10-11T05:09:01.057Z"
   },
   {
    "duration": 34,
    "start_time": "2023-10-11T05:09:01.587Z"
   },
   {
    "duration": 185,
    "start_time": "2023-10-11T05:09:01.623Z"
   },
   {
    "duration": 98,
    "start_time": "2023-10-11T05:09:01.810Z"
   },
   {
    "duration": 70,
    "start_time": "2023-10-11T05:09:01.910Z"
   },
   {
    "duration": 13,
    "start_time": "2023-10-11T05:09:01.982Z"
   },
   {
    "duration": 61,
    "start_time": "2023-10-11T05:09:01.996Z"
   },
   {
    "duration": 57,
    "start_time": "2023-10-11T05:09:02.059Z"
   },
   {
    "duration": 27,
    "start_time": "2023-10-11T05:09:02.118Z"
   },
   {
    "duration": 26,
    "start_time": "2023-10-11T05:09:02.147Z"
   },
   {
    "duration": 43,
    "start_time": "2023-10-11T05:09:02.176Z"
   },
   {
    "duration": 46,
    "start_time": "2023-10-11T05:09:02.222Z"
   },
   {
    "duration": 239,
    "start_time": "2023-10-11T05:09:02.270Z"
   },
   {
    "duration": 8,
    "start_time": "2023-10-11T05:09:02.511Z"
   },
   {
    "duration": 329,
    "start_time": "2023-10-11T05:09:02.520Z"
   },
   {
    "duration": 7,
    "start_time": "2023-10-11T05:09:02.851Z"
   },
   {
    "duration": 2220,
    "start_time": "2023-10-11T05:09:02.860Z"
   },
   {
    "duration": 0,
    "start_time": "2023-10-11T05:09:05.083Z"
   },
   {
    "duration": 0,
    "start_time": "2023-10-11T05:09:05.085Z"
   },
   {
    "duration": 0,
    "start_time": "2023-10-11T05:09:05.086Z"
   },
   {
    "duration": 0,
    "start_time": "2023-10-11T05:09:05.088Z"
   },
   {
    "duration": 0,
    "start_time": "2023-10-11T05:09:05.090Z"
   },
   {
    "duration": 0,
    "start_time": "2023-10-11T05:09:05.091Z"
   },
   {
    "duration": 0,
    "start_time": "2023-10-11T05:09:05.092Z"
   },
   {
    "duration": 0,
    "start_time": "2023-10-11T05:09:05.093Z"
   },
   {
    "duration": 0,
    "start_time": "2023-10-11T05:09:05.093Z"
   },
   {
    "duration": 0,
    "start_time": "2023-10-11T05:09:05.095Z"
   },
   {
    "duration": 0,
    "start_time": "2023-10-11T05:09:05.096Z"
   },
   {
    "duration": 0,
    "start_time": "2023-10-11T05:09:05.097Z"
   },
   {
    "duration": 0,
    "start_time": "2023-10-11T05:09:05.098Z"
   },
   {
    "duration": 0,
    "start_time": "2023-10-11T05:09:05.099Z"
   },
   {
    "duration": 0,
    "start_time": "2023-10-11T05:09:05.100Z"
   },
   {
    "duration": 0,
    "start_time": "2023-10-11T05:09:05.102Z"
   },
   {
    "duration": 0,
    "start_time": "2023-10-11T05:09:05.102Z"
   },
   {
    "duration": 0,
    "start_time": "2023-10-11T05:09:05.103Z"
   },
   {
    "duration": 0,
    "start_time": "2023-10-11T05:09:05.105Z"
   },
   {
    "duration": 0,
    "start_time": "2023-10-11T05:09:05.106Z"
   },
   {
    "duration": 0,
    "start_time": "2023-10-11T05:09:05.107Z"
   },
   {
    "duration": 0,
    "start_time": "2023-10-11T05:09:05.109Z"
   },
   {
    "duration": 0,
    "start_time": "2023-10-11T05:09:05.110Z"
   },
   {
    "duration": 0,
    "start_time": "2023-10-11T05:09:05.148Z"
   },
   {
    "duration": 0,
    "start_time": "2023-10-11T05:09:05.149Z"
   },
   {
    "duration": 0,
    "start_time": "2023-10-11T05:09:05.151Z"
   },
   {
    "duration": 0,
    "start_time": "2023-10-11T05:09:05.153Z"
   },
   {
    "duration": 0,
    "start_time": "2023-10-11T05:09:05.155Z"
   },
   {
    "duration": 152,
    "start_time": "2023-10-11T05:10:50.651Z"
   },
   {
    "duration": 8,
    "start_time": "2023-10-11T05:10:59.792Z"
   },
   {
    "duration": 83,
    "start_time": "2023-10-11T05:11:02.190Z"
   },
   {
    "duration": 25,
    "start_time": "2023-10-11T05:13:55.358Z"
   },
   {
    "duration": 155,
    "start_time": "2023-10-11T05:14:08.879Z"
   },
   {
    "duration": 159,
    "start_time": "2023-10-11T05:15:01.581Z"
   },
   {
    "duration": 8,
    "start_time": "2023-10-11T05:15:04.538Z"
   },
   {
    "duration": 84,
    "start_time": "2023-10-11T05:15:05.562Z"
   },
   {
    "duration": 206,
    "start_time": "2023-10-11T05:16:29.118Z"
   },
   {
    "duration": 267,
    "start_time": "2023-10-11T05:16:35.694Z"
   },
   {
    "duration": 8,
    "start_time": "2023-10-11T05:16:40.618Z"
   },
   {
    "duration": 198,
    "start_time": "2023-10-11T05:16:46.575Z"
   },
   {
    "duration": 10,
    "start_time": "2023-10-11T05:16:49.966Z"
   },
   {
    "duration": 114,
    "start_time": "2023-10-11T05:22:14.449Z"
   },
   {
    "duration": 112,
    "start_time": "2023-10-11T05:25:04.761Z"
   },
   {
    "duration": 116,
    "start_time": "2023-10-11T05:26:19.692Z"
   },
   {
    "duration": 129,
    "start_time": "2023-10-11T05:26:30.534Z"
   },
   {
    "duration": 146,
    "start_time": "2023-10-11T05:29:10.169Z"
   },
   {
    "duration": 158,
    "start_time": "2023-10-11T05:29:26.491Z"
   },
   {
    "duration": 10,
    "start_time": "2023-10-11T05:31:16.322Z"
   },
   {
    "duration": 135,
    "start_time": "2023-10-11T05:31:53.272Z"
   },
   {
    "duration": 4,
    "start_time": "2023-10-11T05:45:51.483Z"
   },
   {
    "duration": 3,
    "start_time": "2023-10-11T05:47:08.705Z"
   },
   {
    "duration": 4,
    "start_time": "2023-10-11T05:47:20.225Z"
   },
   {
    "duration": 4,
    "start_time": "2023-10-11T05:47:38.870Z"
   },
   {
    "duration": 4,
    "start_time": "2023-10-11T05:48:09.881Z"
   },
   {
    "duration": 4,
    "start_time": "2023-10-11T05:48:34.502Z"
   },
   {
    "duration": 27,
    "start_time": "2023-10-11T05:49:13.129Z"
   },
   {
    "duration": 5,
    "start_time": "2023-10-11T05:50:05.012Z"
   },
   {
    "duration": 26,
    "start_time": "2023-10-11T05:52:13.922Z"
   },
   {
    "duration": 12,
    "start_time": "2023-10-11T05:52:24.987Z"
   },
   {
    "duration": 8,
    "start_time": "2023-10-11T05:52:35.869Z"
   },
   {
    "duration": 1268,
    "start_time": "2023-10-11T05:52:35.879Z"
   },
   {
    "duration": 3,
    "start_time": "2023-10-11T05:52:37.149Z"
   },
   {
    "duration": 88,
    "start_time": "2023-10-11T05:52:37.155Z"
   },
   {
    "duration": 35,
    "start_time": "2023-10-11T05:52:37.245Z"
   },
   {
    "duration": 28,
    "start_time": "2023-10-11T05:52:37.282Z"
   },
   {
    "duration": 61,
    "start_time": "2023-10-11T05:52:37.312Z"
   },
   {
    "duration": 196,
    "start_time": "2023-10-11T05:52:37.375Z"
   },
   {
    "duration": 10,
    "start_time": "2023-10-11T05:52:37.573Z"
   },
   {
    "duration": 14,
    "start_time": "2023-10-11T05:52:37.586Z"
   },
   {
    "duration": 60,
    "start_time": "2023-10-11T05:52:37.601Z"
   },
   {
    "duration": 25,
    "start_time": "2023-10-11T05:52:37.663Z"
   },
   {
    "duration": 22,
    "start_time": "2023-10-11T05:52:37.690Z"
   },
   {
    "duration": 23,
    "start_time": "2023-10-11T05:52:37.714Z"
   },
   {
    "duration": 32,
    "start_time": "2023-10-11T05:52:37.739Z"
   },
   {
    "duration": 219,
    "start_time": "2023-10-11T05:52:37.773Z"
   },
   {
    "duration": 8,
    "start_time": "2023-10-11T05:52:37.993Z"
   },
   {
    "duration": 299,
    "start_time": "2023-10-11T05:52:38.002Z"
   },
   {
    "duration": 8,
    "start_time": "2023-10-11T05:52:38.303Z"
   },
   {
    "duration": 236,
    "start_time": "2023-10-11T05:52:38.313Z"
   },
   {
    "duration": 221,
    "start_time": "2023-10-11T05:52:38.552Z"
   },
   {
    "duration": 8,
    "start_time": "2023-10-11T05:52:38.776Z"
   },
   {
    "duration": 145,
    "start_time": "2023-10-11T05:52:38.786Z"
   },
   {
    "duration": 253,
    "start_time": "2023-10-11T05:52:38.933Z"
   },
   {
    "duration": 9,
    "start_time": "2023-10-11T05:52:39.188Z"
   },
   {
    "duration": 167,
    "start_time": "2023-10-11T05:52:39.199Z"
   },
   {
    "duration": 255,
    "start_time": "2023-10-11T05:52:39.369Z"
   },
   {
    "duration": 21,
    "start_time": "2023-10-11T05:52:39.630Z"
   },
   {
    "duration": 175,
    "start_time": "2023-10-11T05:52:39.653Z"
   },
   {
    "duration": 5,
    "start_time": "2023-10-11T05:52:39.830Z"
   },
   {
    "duration": 42,
    "start_time": "2023-10-11T05:52:39.846Z"
   },
   {
    "duration": 5,
    "start_time": "2023-10-11T05:52:39.890Z"
   },
   {
    "duration": 80,
    "start_time": "2023-10-11T05:52:39.897Z"
   },
   {
    "duration": 26,
    "start_time": "2023-10-11T05:52:39.979Z"
   },
   {
    "duration": 428,
    "start_time": "2023-10-11T05:52:40.007Z"
   },
   {
    "duration": 282,
    "start_time": "2023-10-11T05:52:40.437Z"
   },
   {
    "duration": 33,
    "start_time": "2023-10-11T05:52:40.721Z"
   },
   {
    "duration": 155,
    "start_time": "2023-10-11T05:52:40.762Z"
   },
   {
    "duration": 182,
    "start_time": "2023-10-11T05:52:40.918Z"
   },
   {
    "duration": 21,
    "start_time": "2023-10-11T05:52:41.102Z"
   },
   {
    "duration": 74,
    "start_time": "2023-10-11T05:52:41.125Z"
   },
   {
    "duration": 26,
    "start_time": "2023-10-11T05:52:41.202Z"
   },
   {
    "duration": 19,
    "start_time": "2023-10-11T05:52:41.229Z"
   },
   {
    "duration": 16,
    "start_time": "2023-10-11T05:52:41.250Z"
   },
   {
    "duration": 22,
    "start_time": "2023-10-11T05:52:41.272Z"
   },
   {
    "duration": 23,
    "start_time": "2023-10-11T05:52:41.296Z"
   },
   {
    "duration": 24,
    "start_time": "2023-10-11T05:52:41.321Z"
   },
   {
    "duration": 29,
    "start_time": "2023-10-11T05:52:41.347Z"
   },
   {
    "duration": 25,
    "start_time": "2023-10-11T05:52:41.378Z"
   },
   {
    "duration": 13,
    "start_time": "2023-10-11T05:52:41.405Z"
   },
   {
    "duration": 1810,
    "start_time": "2023-10-11T05:52:41.420Z"
   },
   {
    "duration": 115,
    "start_time": "2023-10-11T05:52:43.232Z"
   },
   {
    "duration": 9,
    "start_time": "2023-10-11T05:52:43.348Z"
   },
   {
    "duration": 1949,
    "start_time": "2023-10-11T05:54:52.270Z"
   },
   {
    "duration": 37859,
    "start_time": "2023-10-11T05:58:40.123Z"
   },
   {
    "duration": 38611,
    "start_time": "2023-10-11T06:05:20.132Z"
   },
   {
    "duration": 445,
    "start_time": "2023-10-11T06:11:45.515Z"
   },
   {
    "duration": 405,
    "start_time": "2023-10-11T06:12:26.676Z"
   },
   {
    "duration": 243,
    "start_time": "2023-10-11T06:16:08.993Z"
   },
   {
    "duration": 244,
    "start_time": "2023-10-11T06:19:17.041Z"
   },
   {
    "duration": 210,
    "start_time": "2023-10-11T06:19:33.068Z"
   },
   {
    "duration": 245,
    "start_time": "2023-10-11T06:20:20.377Z"
   },
   {
    "duration": 208,
    "start_time": "2023-10-11T06:20:36.459Z"
   },
   {
    "duration": 38156,
    "start_time": "2023-10-11T06:24:26.056Z"
   },
   {
    "duration": 13,
    "start_time": "2023-10-11T06:35:25.839Z"
   },
   {
    "duration": 1377,
    "start_time": "2023-10-11T06:35:25.854Z"
   },
   {
    "duration": 3,
    "start_time": "2023-10-11T06:35:27.233Z"
   },
   {
    "duration": 103,
    "start_time": "2023-10-11T06:35:27.238Z"
   },
   {
    "duration": 39,
    "start_time": "2023-10-11T06:35:27.343Z"
   },
   {
    "duration": 43,
    "start_time": "2023-10-11T06:35:27.384Z"
   },
   {
    "duration": 40,
    "start_time": "2023-10-11T06:35:27.429Z"
   },
   {
    "duration": 62,
    "start_time": "2023-10-11T06:35:27.470Z"
   },
   {
    "duration": 11,
    "start_time": "2023-10-11T06:35:27.534Z"
   },
   {
    "duration": 23,
    "start_time": "2023-10-11T06:35:27.547Z"
   },
   {
    "duration": 33,
    "start_time": "2023-10-11T06:35:27.571Z"
   },
   {
    "duration": 26,
    "start_time": "2023-10-11T06:35:27.606Z"
   },
   {
    "duration": 88,
    "start_time": "2023-10-11T06:35:27.633Z"
   },
   {
    "duration": 182,
    "start_time": "2023-10-11T06:35:27.723Z"
   },
   {
    "duration": 38,
    "start_time": "2023-10-11T06:35:27.907Z"
   },
   {
    "duration": 220,
    "start_time": "2023-10-11T06:35:27.947Z"
   },
   {
    "duration": 8,
    "start_time": "2023-10-11T06:35:28.168Z"
   },
   {
    "duration": 177,
    "start_time": "2023-10-11T06:35:28.177Z"
   },
   {
    "duration": 8,
    "start_time": "2023-10-11T06:35:28.356Z"
   },
   {
    "duration": 109,
    "start_time": "2023-10-11T06:35:28.365Z"
   },
   {
    "duration": 216,
    "start_time": "2023-10-11T06:35:28.476Z"
   },
   {
    "duration": 8,
    "start_time": "2023-10-11T06:35:28.694Z"
   },
   {
    "duration": 155,
    "start_time": "2023-10-11T06:35:28.704Z"
   },
   {
    "duration": 222,
    "start_time": "2023-10-11T06:35:28.861Z"
   },
   {
    "duration": 10,
    "start_time": "2023-10-11T06:35:29.086Z"
   },
   {
    "duration": 151,
    "start_time": "2023-10-11T06:35:29.098Z"
   },
   {
    "duration": 219,
    "start_time": "2023-10-11T06:35:29.251Z"
   },
   {
    "duration": 9,
    "start_time": "2023-10-11T06:35:29.475Z"
   },
   {
    "duration": 193,
    "start_time": "2023-10-11T06:35:29.485Z"
   },
   {
    "duration": 5,
    "start_time": "2023-10-11T06:35:29.679Z"
   },
   {
    "duration": 71,
    "start_time": "2023-10-11T06:35:29.685Z"
   },
   {
    "duration": 17,
    "start_time": "2023-10-11T06:35:29.758Z"
   },
   {
    "duration": 43,
    "start_time": "2023-10-11T06:35:29.777Z"
   },
   {
    "duration": 39,
    "start_time": "2023-10-11T06:35:29.822Z"
   },
   {
    "duration": 368,
    "start_time": "2023-10-11T06:35:29.863Z"
   },
   {
    "duration": 279,
    "start_time": "2023-10-11T06:35:30.234Z"
   },
   {
    "duration": 15,
    "start_time": "2023-10-11T06:35:30.515Z"
   },
   {
    "duration": 585,
    "start_time": "2023-10-11T06:35:30.532Z"
   },
   {
    "duration": 262,
    "start_time": "2023-10-11T06:35:31.119Z"
   },
   {
    "duration": 227,
    "start_time": "2023-10-11T06:35:31.383Z"
   },
   {
    "duration": 70,
    "start_time": "2023-10-11T06:35:31.612Z"
   },
   {
    "duration": 285,
    "start_time": "2023-10-11T06:35:31.684Z"
   },
   {
    "duration": 75,
    "start_time": "2023-10-11T06:35:31.971Z"
   },
   {
    "duration": 140,
    "start_time": "2023-10-11T06:35:32.048Z"
   },
   {
    "duration": 77,
    "start_time": "2023-10-11T06:35:32.190Z"
   },
   {
    "duration": 102,
    "start_time": "2023-10-11T06:35:32.269Z"
   },
   {
    "duration": 40,
    "start_time": "2023-10-11T06:35:32.373Z"
   },
   {
    "duration": 37,
    "start_time": "2023-10-11T06:35:32.415Z"
   },
   {
    "duration": 25,
    "start_time": "2023-10-11T06:35:32.454Z"
   },
   {
    "duration": 63,
    "start_time": "2023-10-11T06:35:32.481Z"
   },
   {
    "duration": 1788,
    "start_time": "2023-10-11T06:35:32.546Z"
   },
   {
    "duration": 111,
    "start_time": "2023-10-11T06:35:34.336Z"
   },
   {
    "duration": 6,
    "start_time": "2023-10-11T06:35:34.450Z"
   },
   {
    "duration": 1752,
    "start_time": "2023-10-11T06:36:52.288Z"
   },
   {
    "duration": 8,
    "start_time": "2023-10-11T12:10:51.236Z"
   },
   {
    "duration": 1320,
    "start_time": "2023-10-11T12:10:51.246Z"
   },
   {
    "duration": 3,
    "start_time": "2023-10-11T12:10:52.568Z"
   },
   {
    "duration": 321,
    "start_time": "2023-10-11T12:10:52.572Z"
   },
   {
    "duration": 28,
    "start_time": "2023-10-11T12:10:52.894Z"
   },
   {
    "duration": 145,
    "start_time": "2023-10-11T12:10:52.923Z"
   },
   {
    "duration": 192,
    "start_time": "2023-10-11T12:10:53.070Z"
   },
   {
    "duration": 37,
    "start_time": "2023-10-11T12:10:53.263Z"
   },
   {
    "duration": 10,
    "start_time": "2023-10-11T12:10:53.302Z"
   },
   {
    "duration": 29,
    "start_time": "2023-10-11T12:10:53.314Z"
   },
   {
    "duration": 58,
    "start_time": "2023-10-11T12:10:53.344Z"
   },
   {
    "duration": 53,
    "start_time": "2023-10-11T12:10:53.404Z"
   },
   {
    "duration": 179,
    "start_time": "2023-10-11T12:10:53.459Z"
   },
   {
    "duration": 268,
    "start_time": "2023-10-11T12:10:53.640Z"
   },
   {
    "duration": 144,
    "start_time": "2023-10-11T12:10:53.910Z"
   },
   {
    "duration": 253,
    "start_time": "2023-10-11T12:10:54.056Z"
   },
   {
    "duration": 15,
    "start_time": "2023-10-11T12:10:54.311Z"
   },
   {
    "duration": 292,
    "start_time": "2023-10-11T12:10:54.327Z"
   },
   {
    "duration": 66,
    "start_time": "2023-10-11T12:10:54.620Z"
   },
   {
    "duration": 209,
    "start_time": "2023-10-11T12:10:54.687Z"
   },
   {
    "duration": 261,
    "start_time": "2023-10-11T12:10:54.897Z"
   },
   {
    "duration": 8,
    "start_time": "2023-10-11T12:10:55.160Z"
   },
   {
    "duration": 142,
    "start_time": "2023-10-11T12:10:55.170Z"
   },
   {
    "duration": 180,
    "start_time": "2023-10-11T12:10:55.314Z"
   },
   {
    "duration": 8,
    "start_time": "2023-10-11T12:10:55.496Z"
   },
   {
    "duration": 140,
    "start_time": "2023-10-11T12:10:55.506Z"
   },
   {
    "duration": 223,
    "start_time": "2023-10-11T12:10:55.648Z"
   },
   {
    "duration": 10,
    "start_time": "2023-10-11T12:10:55.876Z"
   },
   {
    "duration": 217,
    "start_time": "2023-10-11T12:10:55.888Z"
   },
   {
    "duration": 5,
    "start_time": "2023-10-11T12:10:56.107Z"
   },
   {
    "duration": 116,
    "start_time": "2023-10-11T12:10:56.125Z"
   },
   {
    "duration": 55,
    "start_time": "2023-10-11T12:10:56.242Z"
   },
   {
    "duration": 86,
    "start_time": "2023-10-11T12:10:56.299Z"
   },
   {
    "duration": 37,
    "start_time": "2023-10-11T12:10:56.386Z"
   },
   {
    "duration": 339,
    "start_time": "2023-10-11T12:10:56.425Z"
   },
   {
    "duration": 242,
    "start_time": "2023-10-11T12:10:56.766Z"
   },
   {
    "duration": 21,
    "start_time": "2023-10-11T12:10:57.010Z"
   },
   {
    "duration": 187,
    "start_time": "2023-10-11T12:10:57.032Z"
   },
   {
    "duration": 145,
    "start_time": "2023-10-11T12:10:57.224Z"
   },
   {
    "duration": 13,
    "start_time": "2023-10-11T12:10:57.371Z"
   },
   {
    "duration": 162,
    "start_time": "2023-10-11T12:10:57.385Z"
   },
   {
    "duration": 86,
    "start_time": "2023-10-11T12:10:57.549Z"
   },
   {
    "duration": 53,
    "start_time": "2023-10-11T12:10:57.636Z"
   },
   {
    "duration": 35,
    "start_time": "2023-10-11T12:10:57.691Z"
   },
   {
    "duration": 74,
    "start_time": "2023-10-11T12:10:57.727Z"
   },
   {
    "duration": 32,
    "start_time": "2023-10-11T12:10:57.803Z"
   },
   {
    "duration": 28,
    "start_time": "2023-10-11T12:10:57.837Z"
   },
   {
    "duration": 20,
    "start_time": "2023-10-11T12:10:57.867Z"
   },
   {
    "duration": 28,
    "start_time": "2023-10-11T12:10:57.888Z"
   },
   {
    "duration": 25,
    "start_time": "2023-10-11T12:10:57.917Z"
   },
   {
    "duration": 1531,
    "start_time": "2023-10-11T12:10:57.944Z"
   },
   {
    "duration": 94,
    "start_time": "2023-10-11T12:10:59.477Z"
   },
   {
    "duration": 80,
    "start_time": "2023-10-11T12:10:59.572Z"
   },
   {
    "duration": 59,
    "start_time": "2023-10-11T13:22:53.334Z"
   },
   {
    "duration": 18,
    "start_time": "2023-10-11T13:23:03.923Z"
   },
   {
    "duration": 1694,
    "start_time": "2023-10-11T13:23:03.943Z"
   },
   {
    "duration": 5,
    "start_time": "2023-10-11T13:23:05.641Z"
   },
   {
    "duration": 321,
    "start_time": "2023-10-11T13:23:05.648Z"
   },
   {
    "duration": 30,
    "start_time": "2023-10-11T13:23:05.971Z"
   },
   {
    "duration": 384,
    "start_time": "2023-10-11T13:23:06.005Z"
   },
   {
    "duration": 31,
    "start_time": "2023-10-11T13:23:06.391Z"
   },
   {
    "duration": 53,
    "start_time": "2023-10-11T13:23:06.424Z"
   },
   {
    "duration": 23,
    "start_time": "2023-10-11T13:23:06.479Z"
   },
   {
    "duration": 11,
    "start_time": "2023-10-11T13:23:06.504Z"
   },
   {
    "duration": 42,
    "start_time": "2023-10-11T13:23:06.517Z"
   },
   {
    "duration": 11,
    "start_time": "2023-10-11T13:23:06.562Z"
   },
   {
    "duration": 22,
    "start_time": "2023-10-11T13:23:06.575Z"
   },
   {
    "duration": 10,
    "start_time": "2023-10-11T13:23:06.604Z"
   },
   {
    "duration": 42,
    "start_time": "2023-10-11T13:23:06.618Z"
   },
   {
    "duration": 225,
    "start_time": "2023-10-11T13:23:06.662Z"
   },
   {
    "duration": 14,
    "start_time": "2023-10-11T13:23:06.889Z"
   },
   {
    "duration": 186,
    "start_time": "2023-10-11T13:23:06.909Z"
   },
   {
    "duration": 10,
    "start_time": "2023-10-11T13:23:07.107Z"
   },
   {
    "duration": 136,
    "start_time": "2023-10-11T13:23:07.127Z"
   },
   {
    "duration": 230,
    "start_time": "2023-10-11T13:23:07.266Z"
   },
   {
    "duration": 22,
    "start_time": "2023-10-11T13:23:07.497Z"
   },
   {
    "duration": 136,
    "start_time": "2023-10-11T13:23:07.530Z"
   },
   {
    "duration": 248,
    "start_time": "2023-10-11T13:23:07.667Z"
   },
   {
    "duration": 16,
    "start_time": "2023-10-11T13:23:07.927Z"
   },
   {
    "duration": 188,
    "start_time": "2023-10-11T13:23:07.945Z"
   },
   {
    "duration": 242,
    "start_time": "2023-10-11T13:23:08.135Z"
   },
   {
    "duration": 12,
    "start_time": "2023-10-11T13:23:08.379Z"
   },
   {
    "duration": 184,
    "start_time": "2023-10-11T13:23:08.394Z"
   },
   {
    "duration": 5,
    "start_time": "2023-10-11T13:23:08.580Z"
   },
   {
    "duration": 62,
    "start_time": "2023-10-11T13:23:08.586Z"
   },
   {
    "duration": 3,
    "start_time": "2023-10-11T13:23:08.650Z"
   },
   {
    "duration": 29,
    "start_time": "2023-10-11T13:23:08.655Z"
   },
   {
    "duration": 23,
    "start_time": "2023-10-11T13:23:08.686Z"
   },
   {
    "duration": 405,
    "start_time": "2023-10-11T13:23:08.713Z"
   },
   {
    "duration": 291,
    "start_time": "2023-10-11T13:23:09.121Z"
   },
   {
    "duration": 19,
    "start_time": "2023-10-11T13:23:09.414Z"
   },
   {
    "duration": 448,
    "start_time": "2023-10-11T13:23:09.435Z"
   },
   {
    "duration": 176,
    "start_time": "2023-10-11T13:23:09.885Z"
   },
   {
    "duration": 17,
    "start_time": "2023-10-11T13:23:10.062Z"
   },
   {
    "duration": 82,
    "start_time": "2023-10-11T13:23:10.084Z"
   },
   {
    "duration": 24,
    "start_time": "2023-10-11T13:23:10.167Z"
   },
   {
    "duration": 49,
    "start_time": "2023-10-11T13:23:10.193Z"
   },
   {
    "duration": 11,
    "start_time": "2023-10-11T13:23:10.244Z"
   },
   {
    "duration": 25,
    "start_time": "2023-10-11T13:23:10.257Z"
   },
   {
    "duration": 10,
    "start_time": "2023-10-11T13:23:10.284Z"
   },
   {
    "duration": 51,
    "start_time": "2023-10-11T13:23:10.296Z"
   },
   {
    "duration": 31,
    "start_time": "2023-10-11T13:23:10.348Z"
   },
   {
    "duration": 8,
    "start_time": "2023-10-11T13:23:10.381Z"
   },
   {
    "duration": 20,
    "start_time": "2023-10-11T13:23:10.390Z"
   },
   {
    "duration": 1917,
    "start_time": "2023-10-11T13:23:10.414Z"
   },
   {
    "duration": 101,
    "start_time": "2023-10-11T13:23:12.337Z"
   },
   {
    "duration": 251,
    "start_time": "2023-10-11T13:23:12.440Z"
   },
   {
    "duration": 23,
    "start_time": "2023-10-11T13:23:12.693Z"
   },
   {
    "duration": 283,
    "start_time": "2023-10-11T13:23:54.887Z"
   },
   {
    "duration": 154,
    "start_time": "2023-10-11T13:24:17.527Z"
   },
   {
    "duration": 244,
    "start_time": "2023-10-11T13:24:31.140Z"
   },
   {
    "duration": 267,
    "start_time": "2023-10-11T13:24:42.435Z"
   },
   {
    "duration": 422,
    "start_time": "2023-10-11T13:24:49.857Z"
   },
   {
    "duration": 270,
    "start_time": "2023-10-11T13:25:03.681Z"
   },
   {
    "duration": 268,
    "start_time": "2023-10-11T13:25:15.419Z"
   },
   {
    "duration": 277,
    "start_time": "2023-10-11T13:25:23.498Z"
   },
   {
    "duration": 278,
    "start_time": "2023-10-11T13:25:29.676Z"
   },
   {
    "duration": 54,
    "start_time": "2023-11-30T10:45:27.190Z"
   },
   {
    "duration": 8,
    "start_time": "2023-11-30T10:45:37.064Z"
   },
   {
    "duration": 1147,
    "start_time": "2023-11-30T10:45:37.074Z"
   },
   {
    "duration": 3,
    "start_time": "2023-11-30T10:45:38.222Z"
   },
   {
    "duration": 198,
    "start_time": "2023-11-30T10:45:38.226Z"
   },
   {
    "duration": 28,
    "start_time": "2023-11-30T10:45:38.426Z"
   },
   {
    "duration": 26,
    "start_time": "2023-11-30T10:45:38.455Z"
   },
   {
    "duration": 21,
    "start_time": "2023-11-30T10:45:38.482Z"
   },
   {
    "duration": 52,
    "start_time": "2023-11-30T10:45:38.505Z"
   },
   {
    "duration": 10,
    "start_time": "2023-11-30T10:45:38.558Z"
   },
   {
    "duration": 5,
    "start_time": "2023-11-30T10:45:38.569Z"
   },
   {
    "duration": 9,
    "start_time": "2023-11-30T10:45:38.575Z"
   },
   {
    "duration": 5,
    "start_time": "2023-11-30T10:45:38.586Z"
   },
   {
    "duration": 10,
    "start_time": "2023-11-30T10:45:38.592Z"
   },
   {
    "duration": 39,
    "start_time": "2023-11-30T10:45:38.605Z"
   },
   {
    "duration": 31,
    "start_time": "2023-11-30T10:45:38.646Z"
   },
   {
    "duration": 179,
    "start_time": "2023-11-30T10:45:38.679Z"
   },
   {
    "duration": 7,
    "start_time": "2023-11-30T10:45:38.860Z"
   },
   {
    "duration": 140,
    "start_time": "2023-11-30T10:45:38.868Z"
   },
   {
    "duration": 7,
    "start_time": "2023-11-30T10:45:39.010Z"
   },
   {
    "duration": 101,
    "start_time": "2023-11-30T10:45:39.019Z"
   },
   {
    "duration": 195,
    "start_time": "2023-11-30T10:45:39.122Z"
   },
   {
    "duration": 8,
    "start_time": "2023-11-30T10:45:39.319Z"
   },
   {
    "duration": 118,
    "start_time": "2023-11-30T10:45:39.342Z"
   },
   {
    "duration": 200,
    "start_time": "2023-11-30T10:45:39.462Z"
   },
   {
    "duration": 8,
    "start_time": "2023-11-30T10:45:39.663Z"
   },
   {
    "duration": 146,
    "start_time": "2023-11-30T10:45:39.673Z"
   },
   {
    "duration": 202,
    "start_time": "2023-11-30T10:45:39.821Z"
   },
   {
    "duration": 22,
    "start_time": "2023-11-30T10:45:40.025Z"
   },
   {
    "duration": 144,
    "start_time": "2023-11-30T10:45:40.049Z"
   },
   {
    "duration": 5,
    "start_time": "2023-11-30T10:45:40.195Z"
   },
   {
    "duration": 40,
    "start_time": "2023-11-30T10:45:40.202Z"
   },
   {
    "duration": 4,
    "start_time": "2023-11-30T10:45:40.244Z"
   },
   {
    "duration": 20,
    "start_time": "2023-11-30T10:45:40.249Z"
   },
   {
    "duration": 15,
    "start_time": "2023-11-30T10:45:40.271Z"
   },
   {
    "duration": 337,
    "start_time": "2023-11-30T10:45:40.288Z"
   },
   {
    "duration": 246,
    "start_time": "2023-11-30T10:45:40.627Z"
   },
   {
    "duration": 14,
    "start_time": "2023-11-30T10:45:40.875Z"
   },
   {
    "duration": 145,
    "start_time": "2023-11-30T10:45:40.890Z"
   },
   {
    "duration": 160,
    "start_time": "2023-11-30T10:45:41.037Z"
   },
   {
    "duration": 17,
    "start_time": "2023-11-30T10:45:41.199Z"
   },
   {
    "duration": 55,
    "start_time": "2023-11-30T10:45:41.221Z"
   },
   {
    "duration": 20,
    "start_time": "2023-11-30T10:45:41.278Z"
   },
   {
    "duration": 54,
    "start_time": "2023-11-30T10:45:41.300Z"
   },
   {
    "duration": 5,
    "start_time": "2023-11-30T10:45:41.355Z"
   },
   {
    "duration": 11,
    "start_time": "2023-11-30T10:45:41.362Z"
   },
   {
    "duration": 5,
    "start_time": "2023-11-30T10:45:41.375Z"
   },
   {
    "duration": 6,
    "start_time": "2023-11-30T10:45:41.382Z"
   },
   {
    "duration": 59,
    "start_time": "2023-11-30T10:45:41.389Z"
   },
   {
    "duration": 30,
    "start_time": "2023-11-30T10:45:41.450Z"
   },
   {
    "duration": 8,
    "start_time": "2023-11-30T10:45:41.482Z"
   },
   {
    "duration": 2333,
    "start_time": "2023-11-30T10:45:41.492Z"
   },
   {
    "duration": 85,
    "start_time": "2023-11-30T10:45:43.827Z"
   },
   {
    "duration": 208,
    "start_time": "2023-11-30T10:45:43.914Z"
   },
   {
    "duration": 6,
    "start_time": "2023-11-30T10:45:44.123Z"
   },
   {
    "duration": 145,
    "start_time": "2023-11-30T10:45:55.440Z"
   }
  ],
  "kernelspec": {
   "display_name": "Python 3 (ipykernel)",
   "language": "python",
   "name": "python3"
  },
  "language_info": {
   "codemirror_mode": {
    "name": "ipython",
    "version": 3
   },
   "file_extension": ".py",
   "mimetype": "text/x-python",
   "name": "python",
   "nbconvert_exporter": "python",
   "pygments_lexer": "ipython3",
   "version": "3.9.5"
  },
  "toc": {
   "base_numbering": 1,
   "nav_menu": {},
   "number_sections": true,
   "sideBar": true,
   "skip_h1_title": true,
   "title_cell": "Table of Contents",
   "title_sidebar": "Contents",
   "toc_cell": false,
   "toc_position": {
    "height": "calc(100% - 180px)",
    "left": "10px",
    "top": "150px",
    "width": "284.8px"
   },
   "toc_section_display": true,
   "toc_window_display": true
  }
 },
 "nbformat": 4,
 "nbformat_minor": 5
}
